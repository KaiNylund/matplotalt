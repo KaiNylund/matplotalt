{
 "cells": [
  {
   "cell_type": "code",
   "execution_count": 1,
   "metadata": {},
   "outputs": [],
   "source": [
    "import numpy as np\n",
    "import pandas as pd\n",
    "from pprint import pprint\n",
    "from tqdm import tqdm\n",
    "from collections import defaultdict\n",
    "from rouge_score import rouge_scorer\n",
    "from sacrebleu.metrics import BLEU, CHRF\n",
    "from evaluate import load"
   ]
  },
  {
   "cell_type": "code",
   "execution_count": 2,
   "metadata": {},
   "outputs": [
    {
     "name": "stderr",
     "output_type": "stream",
     "text": [
      "WARNING:evaluate_modules.metrics.evaluate-metric--bleurt.98e148b2f8c4a88aba5037e4e0e90c9fd9ec35dc37a054ded8cfef0fa801ffab.bleurt:Using default BLEURT-Base checkpoint for sequence maximum length 128. You can use a bigger model for better results with e.g.: evaluate.load('bleurt', 'bleurt-large-512').\n"
     ]
    },
    {
     "name": "stdout",
     "output_type": "stream",
     "text": [
      "WARNING:tensorflow:From c:\\Users\\Kai\\anaconda3\\Lib\\site-packages\\bleurt\\score.py:160: The name tf.logging.info is deprecated. Please use tf.compat.v1.logging.info instead.\n",
      "\n"
     ]
    },
    {
     "name": "stderr",
     "output_type": "stream",
     "text": [
      "WARNING:tensorflow:From c:\\Users\\Kai\\anaconda3\\Lib\\site-packages\\bleurt\\score.py:160: The name tf.logging.info is deprecated. Please use tf.compat.v1.logging.info instead.\n",
      "\n"
     ]
    },
    {
     "name": "stdout",
     "output_type": "stream",
     "text": [
      "INFO:tensorflow:Reading checkpoint C:\\Users\\Kai\\.cache\\huggingface\\metrics\\bleurt\\default\\downloads\\extracted\\66d40c89ded88d187db3310c752ad6bc55a18f1686c772fd971b1af93164b5f5\\bleurt-base-128.\n"
     ]
    },
    {
     "name": "stderr",
     "output_type": "stream",
     "text": [
      "INFO:tensorflow:Reading checkpoint C:\\Users\\Kai\\.cache\\huggingface\\metrics\\bleurt\\default\\downloads\\extracted\\66d40c89ded88d187db3310c752ad6bc55a18f1686c772fd971b1af93164b5f5\\bleurt-base-128.\n"
     ]
    },
    {
     "name": "stdout",
     "output_type": "stream",
     "text": [
      "INFO:tensorflow:Config file found, reading.\n"
     ]
    },
    {
     "name": "stderr",
     "output_type": "stream",
     "text": [
      "INFO:tensorflow:Config file found, reading.\n"
     ]
    },
    {
     "name": "stdout",
     "output_type": "stream",
     "text": [
      "INFO:tensorflow:Will load checkpoint bert_custom\n"
     ]
    },
    {
     "name": "stderr",
     "output_type": "stream",
     "text": [
      "INFO:tensorflow:Will load checkpoint bert_custom\n"
     ]
    },
    {
     "name": "stdout",
     "output_type": "stream",
     "text": [
      "INFO:tensorflow:Loads full paths and checks that files exists.\n"
     ]
    },
    {
     "name": "stderr",
     "output_type": "stream",
     "text": [
      "INFO:tensorflow:Loads full paths and checks that files exists.\n"
     ]
    },
    {
     "name": "stdout",
     "output_type": "stream",
     "text": [
      "INFO:tensorflow:... name:bert_custom\n"
     ]
    },
    {
     "name": "stderr",
     "output_type": "stream",
     "text": [
      "INFO:tensorflow:... name:bert_custom\n"
     ]
    },
    {
     "name": "stdout",
     "output_type": "stream",
     "text": [
      "INFO:tensorflow:... vocab_file:vocab.txt\n"
     ]
    },
    {
     "name": "stderr",
     "output_type": "stream",
     "text": [
      "INFO:tensorflow:... vocab_file:vocab.txt\n"
     ]
    },
    {
     "name": "stdout",
     "output_type": "stream",
     "text": [
      "INFO:tensorflow:... bert_config_file:bert_config.json\n"
     ]
    },
    {
     "name": "stderr",
     "output_type": "stream",
     "text": [
      "INFO:tensorflow:... bert_config_file:bert_config.json\n"
     ]
    },
    {
     "name": "stdout",
     "output_type": "stream",
     "text": [
      "INFO:tensorflow:... do_lower_case:True\n"
     ]
    },
    {
     "name": "stderr",
     "output_type": "stream",
     "text": [
      "INFO:tensorflow:... do_lower_case:True\n"
     ]
    },
    {
     "name": "stdout",
     "output_type": "stream",
     "text": [
      "INFO:tensorflow:... max_seq_length:128\n"
     ]
    },
    {
     "name": "stderr",
     "output_type": "stream",
     "text": [
      "INFO:tensorflow:... max_seq_length:128\n"
     ]
    },
    {
     "name": "stdout",
     "output_type": "stream",
     "text": [
      "INFO:tensorflow:Creating BLEURT scorer.\n"
     ]
    },
    {
     "name": "stderr",
     "output_type": "stream",
     "text": [
      "INFO:tensorflow:Creating BLEURT scorer.\n"
     ]
    },
    {
     "name": "stdout",
     "output_type": "stream",
     "text": [
      "INFO:tensorflow:Creating WordPiece tokenizer.\n"
     ]
    },
    {
     "name": "stderr",
     "output_type": "stream",
     "text": [
      "INFO:tensorflow:Creating WordPiece tokenizer.\n"
     ]
    },
    {
     "name": "stdout",
     "output_type": "stream",
     "text": [
      "WARNING:tensorflow:From c:\\Users\\Kai\\anaconda3\\Lib\\site-packages\\bleurt\\lib\\bert_tokenization.py:94: The name tf.gfile.GFile is deprecated. Please use tf.io.gfile.GFile instead.\n",
      "\n"
     ]
    },
    {
     "name": "stderr",
     "output_type": "stream",
     "text": [
      "WARNING:tensorflow:From c:\\Users\\Kai\\anaconda3\\Lib\\site-packages\\bleurt\\lib\\bert_tokenization.py:94: The name tf.gfile.GFile is deprecated. Please use tf.io.gfile.GFile instead.\n",
      "\n"
     ]
    },
    {
     "name": "stdout",
     "output_type": "stream",
     "text": [
      "INFO:tensorflow:WordPiece tokenizer instantiated.\n"
     ]
    },
    {
     "name": "stderr",
     "output_type": "stream",
     "text": [
      "INFO:tensorflow:WordPiece tokenizer instantiated.\n"
     ]
    },
    {
     "name": "stdout",
     "output_type": "stream",
     "text": [
      "INFO:tensorflow:Creating Eager Mode predictor.\n"
     ]
    },
    {
     "name": "stderr",
     "output_type": "stream",
     "text": [
      "INFO:tensorflow:Creating Eager Mode predictor.\n"
     ]
    },
    {
     "name": "stdout",
     "output_type": "stream",
     "text": [
      "INFO:tensorflow:Loading model.\n"
     ]
    },
    {
     "name": "stderr",
     "output_type": "stream",
     "text": [
      "INFO:tensorflow:Loading model.\n"
     ]
    },
    {
     "name": "stdout",
     "output_type": "stream",
     "text": [
      "INFO:tensorflow:BLEURT initialized.\n"
     ]
    },
    {
     "name": "stderr",
     "output_type": "stream",
     "text": [
      "INFO:tensorflow:BLEURT initialized.\n"
     ]
    }
   ],
   "source": [
    "rscorer = rouge_scorer.RougeScorer(['rouge1', 'rouge2', 'rougeL', 'rougeLsum'], use_stemmer=True)\n",
    "bleurt = load(\"bleurt\", module_type=\"metric\", checkpoint=\"bleurt-large-512\")\n",
    "bertscore = load(\"bertscore\")\n",
    "bleu = BLEU()\n",
    "chrf = CHRF()\n",
    "\n",
    "def compute_scores(refs, sample):\n",
    "    ref_scores = defaultdict(list)\n",
    "    for ref in refs:\n",
    "        rouge_scores = rscorer.score(ref, sample)\n",
    "        for rouge_metric, score_result in rouge_scores.items():\n",
    "            ref_scores[f\"{rouge_metric}_p\"].append(score_result.precision)\n",
    "            ref_scores[f\"{rouge_metric}_r\"].append(score_result.recall)\n",
    "            ref_scores[f\"{rouge_metric}_f1\"].append(score_result.fmeasure)\n",
    "        ref_scores[\"bleu\"].append(bleu.corpus_score([sample], [[ref]]).score)\n",
    "        ref_scores[\"chrf\"].append(chrf.corpus_score([sample], [[ref]]).score)\n",
    "        ref_scores[\"bleurt\"].append(bleurt.compute(predictions=[sample], references=[ref])[\"scores\"][0])\n",
    "        bertscores = bertscore.compute(predictions=[sample], references=[ref], lang=\"en\")\n",
    "        ref_scores[\"bertscore_p\"] = bertscores[\"precision\"]\n",
    "        ref_scores[\"bertscore_r\"] = bertscores[\"recall\"]\n",
    "        ref_scores[\"bertscore_f1\"] = bertscores[\"f1\"]\n",
    "    return ref_scores"
   ]
  },
  {
   "cell_type": "code",
   "execution_count": 3,
   "metadata": {},
   "outputs": [
    {
     "name": "stderr",
     "output_type": "stream",
     "text": [
      "c:\\Users\\Kai\\anaconda3\\Lib\\site-packages\\huggingface_hub\\file_download.py:1132: FutureWarning: `resume_download` is deprecated and will be removed in version 1.0.0. Downloads always resume when possible. If you want to force a new download, use `force_download=True`.\n",
      "  warnings.warn(\n",
      "Some weights of RobertaModel were not initialized from the model checkpoint at roberta-large and are newly initialized: ['roberta.pooler.dense.bias', 'roberta.pooler.dense.weight']\n",
      "You should probably TRAIN this model on a down-stream task to be able to use it for predictions and inference.\n",
      "100%|██████████| 882/882 [52:49<00:00,  5.44s/it]  "
     ]
    }
   ],
   "source": [
    "vistext_id_to_captions = pd.read_json(\"./vistext_eval/vistext_id_to_combined_captions.jsonl\", orient=\"records\", lines=True)\n",
    "vistext_id_to_scores = np.load(\"./vistext_id_to_scores.npy\", allow_pickle=True).item() #defaultdict(dict)\n",
    "pbar = tqdm(total=len(vistext_id_to_captions))\n",
    "pbar.clear()\n",
    "def get_caption_scores(row):\n",
    "    refs = row[\"human\"]\n",
    "    for caption_type in [\"gpt-4-turbo\", \"gpt-4-turbo-alt\", \"gpt-4-turbo-table\",\n",
    "                         \"gpt-4-turbo-L3\", \"gpt-4-turbo-alt-L3\", \"gpt-4-turbo-table-L3\"]:\n",
    "        if caption_type in row and row[caption_type]:\n",
    "            processed_caption = row[caption_type][0]\n",
    "            processed_caption = processed_caption.replace(\"This description was generated by a language model. \", \"\")\n",
    "            vistext_id_to_scores[row[\"image_id\"]][caption_type] = compute_scores(refs, processed_caption)\n",
    "    pbar.update(1)\n",
    "\n",
    "vistext_id_to_captions.apply(get_caption_scores, axis=1)\n",
    "np.save(\"./vistext_id_to_scores\", vistext_id_to_scores)"
   ]
  },
  {
   "cell_type": "code",
   "execution_count": 4,
   "metadata": {},
   "outputs": [
    {
     "name": "stdout",
     "output_type": "stream",
     "text": [
      "dict_keys([9, 22, 36, 37, 38, 68, 76, 99, 105, 130, 169, 179, 180, 184, 193, 195, 228, 241, 244, 260, 262, 268, 293, 309, 313, 315, 316, 344, 359, 373, 389, 418, 421, 425, 434, 442, 446, 450, 458, 459, 468, 512, 560, 561, 564, 572, 575, 584, 585, 595, 614, 616, 617, 634, 668, 681, 690, 706, 741, 753, 762, 765, 780, 781, 782, 783, 787, 797, 824, 825, 831, 845, 856, 867, 869, 871, 873, 878, 880, 923, 941, 957, 960, 964, 971, 980, 984, 995, 1018, 1046, 1051, 1073, 1081, 1086, 1088, 1093, 1107, 1111, 1121, 1150, 1152, 1159, 1163, 1168, 1170, 1186, 1199, 1202, 1223, 1224, 1226, 1227, 1231, 1244, 1248, 1249, 1283, 1293, 1316, 1347, 1351, 1358, 1374, 1376, 1385, 1388, 1389, 1404, 1407, 1420, 1439, 1444, 1453, 1469, 1481, 1483, 1497, 1499, 1501, 1511, 1512, 1513, 1515, 1516, 1542, 1559, 1566, 1567, 1568, 1597, 1601, 1659, 1682, 1701, 1704, 1706, 1726, 1733, 1740, 1752, 1754, 1779, 1784, 1793, 1795, 1802, 1808, 1833, 1842, 1843, 1852, 1863, 1869, 1870, 1871, 1894, 1895, 1901, 1907, 1911, 1947, 1948, 1956, 1957, 1983, 1987, 1988, 1996, 2008, 2022, 2031, 2034, 2048, 2059, 2060, 2077, 2094, 2100, 2101, 2103, 2104, 2126, 2138, 2141, 2149, 2173, 2207, 2258, 2263, 2265, 2273, 2276, 2277, 2286, 2287, 2302, 2305, 2316, 2323, 2328, 2357, 2364, 2377, 2392, 2403, 2409, 2416, 2417, 2428, 2429, 2442, 2445, 2449, 2465, 2480, 2499, 2504, 2511, 2531, 2536, 2561, 2570, 2574, 2584, 2585, 2609, 2614, 2626, 2648, 2653, 2654, 2678, 2679, 2688, 2704, 2734, 2740, 2751, 2763, 2777, 2811, 2821, 2834, 2835, 2848, 2948, 2953, 2967, 2991, 3002, 3008, 3012, 3016, 3017, 3027, 3039, 3059, 3062, 3072, 3073, 3099, 3107, 3116, 3117, 3120, 3121, 3131, 3132, 3140, 3161, 3168, 3177, 3215, 3229, 3238, 3248, 3270, 3292, 3294, 3317, 3322, 3323, 3336, 3372, 3373, 3385, 3386, 3413, 3418, 3433, 3441, 3451, 3470, 3479, 3487, 3516, 3535, 3543, 3544, 3556, 3569, 3571, 3572, 3585, 3589, 3595, 3600, 3603, 3605, 3621, 3643, 3654, 3660, 3661, 3671, 3674, 3675, 3677, 3686, 3693, 3694, 3701, 3735, 3737, 3741, 3746, 3750, 3757, 3762, 3769, 3772, 3774, 3786, 3788, 3790, 3798, 3821, 3851, 3861, 3862, 3877, 3878, 3879, 3886, 3909, 3912, 3941, 3943, 3944, 3950, 3957, 3964, 3971, 3975, 3986, 4003, 4009, 4029, 4037, 4052, 4055, 4059, 4066, 4069, 4071, 4080, 4088, 4096, 4099, 4104, 4106, 4117, 4121, 4128, 4133, 4152, 4178, 4213, 4227, 4230, 4255, 4264, 4271, 4275, 4279, 4283, 4289, 4290, 4299, 4308, 4324, 4352, 4356, 4357, 4371, 4379, 4381, 4394, 4412, 4425, 4428, 4430, 4444, 4447, 4449, 4461, 4470, 4486, 4490, 4491, 4503, 4508, 4527, 4533, 4539, 4570, 4571, 4572, 4578, 4616, 4618, 4624, 4629, 4631, 4634, 4642, 4647, 4668, 4674, 4693, 4696, 4707, 4714, 4728, 4731, 4734, 4738, 4747, 4764, 4781, 4795, 4803, 4808, 4809, 4815, 4816, 4818, 4831, 4835, 4840, 4844, 4847, 4859, 4881, 4883, 4884, 4891, 4895, 4898, 4899, 4907, 4916, 4929, 4956, 4966, 4973, 4982, 4985, 4992, 4993, 4998, 5005, 5008, 5014, 5030, 5036, 5044, 5052, 5064, 5067, 5069, 5071, 5073, 5084, 5088, 5111, 5112, 5115, 5116, 5132, 5135, 5152, 5158, 5164, 5189, 5190, 5194, 5198, 5208, 5209, 5221, 5226, 5241, 5245, 5272, 5288, 5298, 5304, 5306, 5314, 5322, 5328, 5329, 5331, 5337, 5340, 5360, 5385, 5392, 5395, 5402, 5418, 5423, 5425, 5449, 5453, 5487, 5498, 5510, 5523, 5536, 5537, 5579, 5583, 5591, 5598, 5626, 5633, 5635, 5637, 5645, 5651, 5674, 5675, 5677, 5709, 5711, 5729, 5740, 5748, 5751, 5796, 5801, 5836, 5838, 5847, 5857, 5876, 5882, 5889, 5901, 5903, 5913, 5940, 5942, 5952, 5953, 5956, 5985, 5991, 5993, 5995, 5998, 6008, 6017, 6020, 6025, 6031, 6049, 6064, 6067, 6068, 6087, 6089, 6107, 6125, 6135, 6152, 6169, 6171, 6179, 6187, 6190, 6194, 6201, 6231, 6240, 6246, 6247, 6252, 6253, 6262, 6268, 6270, 6280, 6285, 6288, 6294, 6302, 6306, 6311, 6315, 6317, 6321, 6333, 6337, 6339, 6342, 6344, 6354, 6361, 6364, 6371, 6390, 6400, 6405, 6434, 6438, 6441, 6442, 6447, 6455, 6464, 6474, 6479, 6489, 6506, 6514, 6533, 6553, 6557, 6559, 6561, 6573, 6574, 6581, 6582, 6605, 6613, 6626, 6635, 6665, 6670, 6678, 6679, 6689, 6691, 6696, 6701, 6711, 6718, 6719, 6725, 6739, 6752, 6767, 6768, 6775, 6795, 6803, 6805, 6807, 6816, 6817, 6819, 6857, 6859, 6866, 6874, 6891, 6910, 6942, 6949, 6955, 6968, 6969, 6983, 6987, 6991, 7002, 7007, 7008, 7011, 7012, 7016, 7025, 7027, 7036, 7037, 7053, 7057, 7058, 7076, 7077, 7094, 7097, 7098, 7101, 7103, 7105, 7117, 7135, 7147, 7163, 7174, 7175, 7189, 7194, 7200, 7214, 7221, 7224, 7234, 7251, 7258, 7259, 7261, 7270, 7272, 7273, 7279, 7291, 7333, 7379, 7380, 7400, 7415, 7416, 7430, 7432, 7444, 7454, 7476, 7491, 7498, 7509, 7517, 7550, 7573, 7575, 7583, 7598, 7599, 7602, 7606, 7609, 7612, 7615, 7627, 7630, 7644, 7648, 7673, 7708, 7709, 7714, 7734, 7741, 7769, 7770, 7796, 7822, 7825, 7830, 7880, 7883, 7920, 7935, 7938, 7947, 7959, 7968, 7981, 7986, 8000, 8010, 8020, 8029, 8043, 8064, 8078, 8080, 8095, 8103, 8124, 8126, 8128, 8136, 8146, 8150, 8169, 8192, 8202, 8203, 8219, 8222, 8230, 8231, 8242, 8276, 8287, 8292, 8301, 8308, 8309, 8312, 8313, 8320, 8325, 8357, 8358, 8407, 8418, 8429, 8431, 8496, 8506, 8512, 8528, 8532, 8534, 8541, 8548, 8550, 8551, 8555, 8563, 8564, 8596, 8603, 8629, 8653, 8661, 8682, 8704, 8707, 8709, 8734, 8736, 8749, 8757, 8760, 8781, 8789, 8795, 8799, 8804, 8808, 8811, 8817])\n",
      "defaultdict(<class 'dict'>,\n",
      "            {'gpt-4-turbo': {'bertscore_f1': 0.877084570341423,\n",
      "                             'bertscore_p': 0.8647042340500851,\n",
      "                             'bertscore_r': 0.8900108224334985,\n",
      "                             'bleu': 13.211005497162809,\n",
      "                             'bleurt': -0.23457228017336923,\n",
      "                             'chrf': 45.2144718999733,\n",
      "                             'rouge1_f1': 0.45231558597191684,\n",
      "                             'rouge1_p': 0.3636414765739344,\n",
      "                             'rouge1_r': 0.6310295373855684,\n",
      "                             'rouge2_f1': 0.21500651664877485,\n",
      "                             'rouge2_p': 0.17170670359876214,\n",
      "                             'rouge2_r': 0.303852467247228,\n",
      "                             'rougeL_f1': 0.30959729131956365,\n",
      "                             'rougeL_p': 0.24777514155710717,\n",
      "                             'rougeL_r': 0.435456869725715,\n",
      "                             'rougeLsum_f1': 0.3106299845601385,\n",
      "                             'rougeLsum_p': 0.24857284260265244,\n",
      "                             'rougeLsum_r': 0.4370280430291836},\n",
      "             'gpt-4-turbo-L3': {'bertscore_f1': 0.8827075902033936,\n",
      "                                'bertscore_p': 0.8705283965576779,\n",
      "                                'bertscore_r': 0.8954514153979042,\n",
      "                                'bleu': 14.152363404683303,\n",
      "                                'bleurt': -0.14326525440333818,\n",
      "                                'chrf': 46.44646435433944,\n",
      "                                'rouge1_f1': 0.4639005738393643,\n",
      "                                'rouge1_p': 0.37614044301090677,\n",
      "                                'rouge1_r': 0.6379725489291469,\n",
      "                                'rouge2_f1': 0.22617816306040145,\n",
      "                                'rouge2_p': 0.18222352620002008,\n",
      "                                'rouge2_r': 0.314847230332937,\n",
      "                                'rougeL_f1': 0.32330673172769026,\n",
      "                                'rougeL_p': 0.26105743786172586,\n",
      "                                'rougeL_r': 0.4478545492625282,\n",
      "                                'rougeLsum_f1': 0.32497091652974835,\n",
      "                                'rougeLsum_p': 0.2623584876329167,\n",
      "                                'rougeLsum_r': 0.45027763741377475},\n",
      "             'gpt-4-turbo-alt': {'bertscore_f1': 0.8821042393621761,\n",
      "                                 'bertscore_p': 0.8684871528417833,\n",
      "                                 'bertscore_r': 0.8963324556702293,\n",
      "                                 'bleu': 15.054415336290461,\n",
      "                                 'bleurt': -0.1926175758485108,\n",
      "                                 'chrf': 47.753102051030716,\n",
      "                                 'rouge1_f1': 0.47450806809296386,\n",
      "                                 'rouge1_p': 0.38301559569000226,\n",
      "                                 'rouge1_r': 0.6562696885050457,\n",
      "                                 'rouge2_f1': 0.24666034771295975,\n",
      "                                 'rouge2_p': 0.19762833899510443,\n",
      "                                 'rouge2_r': 0.34601675282588934,\n",
      "                                 'rougeL_f1': 0.3365258330730363,\n",
      "                                 'rougeL_p': 0.27037608577113575,\n",
      "                                 'rougeL_r': 0.4694158422208895,\n",
      "                                 'rougeLsum_f1': 0.3371581645940707,\n",
      "                                 'rougeLsum_p': 0.27089854524036167,\n",
      "                                 'rougeLsum_r': 0.47011772036292904},\n",
      "             'gpt-4-turbo-alt-L3': {'bertscore_f1': 0.8871173598931782,\n",
      "                                    'bertscore_p': 0.87299710383323,\n",
      "                                    'bertscore_r': 0.9019102779671601,\n",
      "                                    'bleu': 15.593309535119728,\n",
      "                                    'bleurt': -0.09130504998527673,\n",
      "                                    'chrf': 49.17682560689175,\n",
      "                                    'rouge1_f1': 0.480901523924477,\n",
      "                                    'rouge1_p': 0.3856394300742579,\n",
      "                                    'rouge1_r': 0.6728548349058489,\n",
      "                                    'rouge2_f1': 0.25885760041756095,\n",
      "                                    'rouge2_p': 0.20615919115182008,\n",
      "                                    'rouge2_r': 0.3670211357384533,\n",
      "                                    'rougeL_f1': 0.3472923460143331,\n",
      "                                    'rougeL_p': 0.2772306865690263,\n",
      "                                    'rougeL_r': 0.4897753870685436,\n",
      "                                    'rougeLsum_f1': 0.34789688437014804,\n",
      "                                    'rougeLsum_p': 0.27769368703670666,\n",
      "                                    'rougeLsum_r': 0.4906567204293044},\n",
      "             'gpt-4-turbo-table': {'bertscore_f1': 0.8793013361455114,\n",
      "                                   'bertscore_p': 0.865867024494542,\n",
      "                                   'bertscore_r': 0.8933309318704737,\n",
      "                                   'bleu': 13.410371463297619,\n",
      "                                   'bleurt': -0.22253679514646868,\n",
      "                                   'chrf': 45.90744771064534,\n",
      "                                   'rouge1_f1': 0.4575369997164851,\n",
      "                                   'rouge1_p': 0.3643893974462193,\n",
      "                                   'rouge1_r': 0.6481374856099402,\n",
      "                                   'rouge2_f1': 0.2194561652370829,\n",
      "                                   'rouge2_p': 0.17359793604929707,\n",
      "                                   'rouge2_r': 0.31522855128389604,\n",
      "                                   'rougeL_f1': 0.31410059628577974,\n",
      "                                   'rougeL_p': 0.2490935609992131,\n",
      "                                   'rougeL_r': 0.4485048444773474,\n",
      "                                   'rougeLsum_f1': 0.31587351627934135,\n",
      "                                   'rougeLsum_p': 0.2504444089845132,\n",
      "                                   'rougeLsum_r': 0.4511610241608855},\n",
      "             'gpt-4-turbo-table-L3': {'bertscore_f1': 0.8826371546053805,\n",
      "                                      'bertscore_p': 0.8684379835991789,\n",
      "                                      'bertscore_r': 0.8975293426715768,\n",
      "                                      'bleu': 13.483247852036635,\n",
      "                                      'bleurt': -0.13520754953347755,\n",
      "                                      'chrf': 46.62350003292231,\n",
      "                                      'rouge1_f1': 0.46064543709607353,\n",
      "                                      'rouge1_p': 0.3650673496105341,\n",
      "                                      'rouge1_r': 0.6603562832081136,\n",
      "                                      'rouge2_f1': 0.22368130461330618,\n",
      "                                      'rouge2_p': 0.17609522194357247,\n",
      "                                      'rouge2_r': 0.325020352486303,\n",
      "                                      'rougeL_f1': 0.3198977759003898,\n",
      "                                      'rougeL_p': 0.25227388630399794,\n",
      "                                      'rougeL_r': 0.4627670157540509,\n",
      "                                      'rougeLsum_f1': 0.3219867060933487,\n",
      "                                      'rougeLsum_p': 0.25388134870334855,\n",
      "                                      'rougeLsum_r': 0.4658796495655934},\n",
      "             'heuristic': {'bertscore_f1': 0.8822856244715778,\n",
      "                           'bertscore_p': 0.8710048506883058,\n",
      "                           'bertscore_r': 0.8940729981118982,\n",
      "                           'bleu': 14.783274227836676,\n",
      "                           'bleurt': -0.17813992104346185,\n",
      "                           'chrf': 46.130509494720776,\n",
      "                           'rouge1_f1': 0.531644680302419,\n",
      "                           'rouge1_p': 0.4970491574509815,\n",
      "                           'rouge1_r': 0.5921074786877208,\n",
      "                           'rouge2_f1': 0.31189246586595293,\n",
      "                           'rouge2_p': 0.28962687244918484,\n",
      "                           'rouge2_r': 0.35057061279763085,\n",
      "                           'rougeL_f1': 0.3816493713933184,\n",
      "                           'rougeL_p': 0.3552600887394161,\n",
      "                           'rougeL_r': 0.42752151948227773,\n",
      "                           'rougeLsum_f1': 0.3816493713933184,\n",
      "                           'rougeLsum_p': 0.3552600887394161,\n",
      "                           'rougeLsum_r': 0.42752151948227773}})\n"
     ]
    }
   ],
   "source": [
    "vistext_id_to_scores = np.load(\"./vistext_id_to_scores.npy\", allow_pickle=True).item()\n",
    "combined_method_scores = {}\n",
    "for caption_type in [\"heuristic\", \"gpt-4-turbo\", \"gpt-4-turbo-alt\", \"gpt-4-turbo-table\", \"gpt-4-turbo-L3\", \"gpt-4-turbo-alt-L3\", \"gpt-4-turbo-table-L3\"]:\n",
    "    combined_method_scores[caption_type] = defaultdict(list)\n",
    "print(vistext_id_to_scores.keys())\n",
    "for image_id, caption_scores in vistext_id_to_scores.items():\n",
    "    for caption_type, scores_dict in caption_scores.items():\n",
    "        for score_type, scores in scores_dict.items():\n",
    "            combined_method_scores[caption_type][score_type].extend(scores)\n",
    "caption_type_to_avg_scores = defaultdict(dict)\n",
    "for caption_type, caption_scores in combined_method_scores.items():\n",
    "    for score_type, scores in caption_scores.items():\n",
    "        caption_type_to_avg_scores[caption_type][score_type] = np.mean(scores)\n",
    "\n",
    "pprint(caption_type_to_avg_scores)"
   ]
  }
 ],
 "metadata": {
  "kernelspec": {
   "display_name": "arkenv",
   "language": "python",
   "name": "python3"
  },
  "language_info": {
   "codemirror_mode": {
    "name": "ipython",
    "version": 3
   },
   "file_extension": ".py",
   "mimetype": "text/x-python",
   "name": "python",
   "nbconvert_exporter": "python",
   "pygments_lexer": "ipython3",
   "version": "3.11.7"
  }
 },
 "nbformat": 4,
 "nbformat_minor": 2
}
