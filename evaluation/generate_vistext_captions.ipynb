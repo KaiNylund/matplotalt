{
 "cells": [
  {
   "cell_type": "code",
   "execution_count": 1,
   "metadata": {},
   "outputs": [],
   "source": [
    "import numpy as np\n",
    "import pandas as pd\n",
    "from tqdm import tqdm\n",
    "from collections import defaultdict\n",
    "from matplotalt import *"
   ]
  },
  {
   "cell_type": "code",
   "execution_count": 2,
   "metadata": {},
   "outputs": [],
   "source": [
    "vistext_id_to_mpl_code = np.load(\"./evaluation/vistext_to_mpl/vistext_id_to_mpl_code.npy\", allow_pickle=True).item()\n",
    "vistext_val_data = pd.read_json(\"./evaluation/vistext_to_mpl/vistext_data_validation.json\")\n",
    "vistext_id_to_captions = defaultdict(list)\n",
    "vistext_id_to_chart_type = {}\n",
    "def get_id_to_captions(row):\n",
    "    vistext_id_to_captions[row[\"img_id\"]].append({\"L1\": row[\"caption_L1\"], \"L2L3\": row[\"caption_L2L3\"]})\n",
    "    vistext_id_to_chart_type[row[\"img_id\"]] = row[\"L1_properties\"][0]\n",
    "\n",
    "vistext_val_data.apply(get_id_to_captions, axis=1);\n",
    "np.save(\"./evaluation/vistext_to_mpl/vistext_id_to_captions\", vistext_id_to_captions)"
   ]
  },
  {
   "cell_type": "code",
   "execution_count": 4,
   "metadata": {},
   "outputs": [
    {
     "name": "stderr",
     "output_type": "stream",
     "text": [
      "  0%|          | 0/883 [00:00<?, ?it/s]"
     ]
    },
    {
     "name": "stderr",
     "output_type": "stream",
     "text": [
      "100%|██████████| 883/883 [00:32<00:00, 27.28it/s]"
     ]
    },
    {
     "name": "stdout",
     "output_type": "stream",
     "text": [
      "Num passed: 875\n",
      "Num errors: 8\n"
     ]
    },
    {
     "name": "stderr",
     "output_type": "stream",
     "text": [
      "\n"
     ]
    },
    {
     "data": {
      "text/plain": [
       "<Figure size 640x480 with 0 Axes>"
      ]
     },
     "metadata": {},
     "output_type": "display_data"
    }
   ],
   "source": [
    "#print(len(vistext_id_to_captions))\n",
    "n_passed = 0\n",
    "n_errors = 0\n",
    "#vistext_id_to_captions = np.load(\"./evaluation/vistext_to_mpl/vistext_id_to_captions.npy\", allow_pickle=True).item()\n",
    "vistext_id_to_matplotalt_captions = {}\n",
    "for chart_id in tqdm(vistext_id_to_captions.keys()):\n",
    "    #print(vistext_id_to_mpl_code.keys())\n",
    "    try:\n",
    "        mpl_code = vistext_id_to_mpl_code[str(chart_id)]\n",
    "        chart_type = vistext_id_to_chart_type[chart_id]\n",
    "        exec(mpl_code)\n",
    "        #print(mpl_code)\n",
    "        matplotalt_caption = show_with_alt(desc_level=3, chart_type=chart_type, methods=[], stats=[\"max\"], max_color_desc_count=0, return_alt=True)\n",
    "        #print(matplotalt_caption)\n",
    "        plt.clf()\n",
    "        vistext_id_to_matplotalt_captions[chart_id] = matplotalt_caption\n",
    "        n_passed += 1\n",
    "    except Exception as e:\n",
    "        #raise e\n",
    "        #print(chart_id, mpl_code)\n",
    "        n_errors += 1\n",
    "        #print(e)\n",
    "\n",
    "print(f\"Num passed: {n_passed}\")\n",
    "print(f\"Num errors: {n_errors}\")\n",
    "np.save(\"./evaluation/vistext_to_mpl/vistext_id_to_matplotalt_captions\", vistext_id_to_matplotalt_captions)"
   ]
  },
  {
   "cell_type": "code",
   "execution_count": null,
   "metadata": {},
   "outputs": [],
   "source": [
    "vistext_id_to_matplotalt_captions = np.load(\"./evaluation/vistext_to_mpl/vistext_id_to_matplotalt_captions.npy\", allow_pickle=True).item()\n",
    "vistext_id_to_gpt4v_captions = {}\n",
    "num_captions = 0\n",
    "for chart_id in tqdm(vistext_id_to_matplotalt_captions.keys()):\n",
    "    mpl_code = vistext_id_to_mpl_code[str(chart_id)]\n",
    "    chart_type = vistext_id_to_chart_type[chart_id]\n",
    "    exec(mpl_code)\n",
    "    gpt4v_caption = show_with_api_alt(chart_type=chart_type, methods=[], return_alt=True)\n",
    "    #print(gpt4v_caption)\n",
    "    plt.clf()\n",
    "    vistext_id_to_gpt4v_captions[chart_id] = gpt4v_caption\n",
    "    np.save(\"./evaluation/vistext_to_mpl/vistext_id_to_gpt4v_captions\", vistext_id_to_gpt4v_captions)\n",
    "    num_captions += 1\n",
    "    if num_captions >= 100:\n",
    "        break"
   ]
  }
 ],
 "metadata": {
  "kernelspec": {
   "display_name": "arkenv",
   "language": "python",
   "name": "python3"
  },
  "language_info": {
   "codemirror_mode": {
    "name": "ipython",
    "version": 3
   },
   "file_extension": ".py",
   "mimetype": "text/x-python",
   "name": "python",
   "nbconvert_exporter": "python",
   "pygments_lexer": "ipython3",
   "version": "3.11.7"
  }
 },
 "nbformat": 4,
 "nbformat_minor": 2
}
