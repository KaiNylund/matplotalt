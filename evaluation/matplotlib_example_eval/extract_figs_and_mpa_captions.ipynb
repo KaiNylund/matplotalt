{
 "cells": [
  {
   "cell_type": "code",
   "execution_count": 1,
   "metadata": {},
   "outputs": [],
   "source": [
    "import os\n",
    "import time\n",
    "import pyexiv2\n",
    "import subprocess\n",
    "import numpy as np\n",
    "from tqdm import tqdm"
   ]
  },
  {
   "cell_type": "code",
   "execution_count": 5,
   "metadata": {},
   "outputs": [
    {
     "name": "stdout",
     "output_type": "stream",
     "text": [
      "500\n"
     ]
    }
   ],
   "source": [
    "# Get all notebook paths from the matplotlib gallery\n",
    "# NOTE: excludes animation examples as they aren't currently supporded by matplotalt\n",
    "notebook_paths = []\n",
    "notebook_names = []\n",
    "gallery_path = \"./gallery_jupyter\"\n",
    "for notebook_dir in os.listdir(gallery_path):\n",
    "    notebook_dir_path = os.path.join(gallery_path, notebook_dir)\n",
    "    if os.path.isdir(notebook_dir_path):\n",
    "        for notebook_name in os.listdir(notebook_dir_path):\n",
    "            notebook_path = os.path.join(notebook_dir_path, notebook_name)\n",
    "            if os.path.isfile(notebook_path) and notebook_name.endswith(\".ipynb\"):\n",
    "                notebook_paths.append(notebook_path)\n",
    "                notebook_names.append(notebook_name)\n",
    "print(len(notebook_paths))"
   ]
  },
  {
   "cell_type": "code",
   "execution_count": 7,
   "metadata": {},
   "outputs": [
    {
     "name": "stderr",
     "output_type": "stream",
     "text": [
      " 40%|████      | 202/500 [29:16<43:11,  8.70s/it] \n"
     ]
    },
    {
     "ename": "KeyboardInterrupt",
     "evalue": "",
     "output_type": "error",
     "traceback": [
      "\u001b[1;31m---------------------------------------------------------------------------\u001b[0m",
      "\u001b[1;31mKeyboardInterrupt\u001b[0m                         Traceback (most recent call last)",
      "Cell \u001b[1;32mIn[7], line 7\u001b[0m\n\u001b[0;32m      5\u001b[0m \u001b[38;5;28;01mfor\u001b[39;00m nb_idx, nb_path \u001b[38;5;129;01min\u001b[39;00m \u001b[38;5;28menumerate\u001b[39m(tqdm(notebook_paths)):\n\u001b[0;32m      6\u001b[0m     start \u001b[38;5;241m=\u001b[39m time\u001b[38;5;241m.\u001b[39mtime()\n\u001b[1;32m----> 7\u001b[0m     subprocess\u001b[38;5;241m.\u001b[39mrun([\u001b[38;5;124m\"\u001b[39m\u001b[38;5;124malttextify\u001b[39m\u001b[38;5;124m\"\u001b[39m, nb_path,\n\u001b[0;32m      8\u001b[0m                    \u001b[38;5;124mf\u001b[39m\u001b[38;5;124m\"\u001b[39m\u001b[38;5;132;01m{\u001b[39;00mnotebook_output_path\u001b[38;5;132;01m}\u001b[39;00m\u001b[38;5;124m/nb_\u001b[39m\u001b[38;5;132;01m{\u001b[39;00mnb_idx\u001b[38;5;132;01m}\u001b[39;00m\u001b[38;5;124m_\u001b[39m\u001b[38;5;132;01m{\u001b[39;00mnotebook_names[nb_idx]\u001b[38;5;132;01m}\u001b[39;00m\u001b[38;5;124m\"\u001b[39m,\n\u001b[0;32m      9\u001b[0m                    \u001b[38;5;124m\"\u001b[39m\u001b[38;5;124m-t\u001b[39m\u001b[38;5;124m\"\u001b[39m, \u001b[38;5;124m\"\u001b[39m\u001b[38;5;124m30\u001b[39m\u001b[38;5;124m\"\u001b[39m,\n\u001b[0;32m     10\u001b[0m                    \u001b[38;5;124m\"\u001b[39m\u001b[38;5;124m-s\u001b[39m\u001b[38;5;124m\"\u001b[39m, \u001b[38;5;124m\"\u001b[39m\u001b[38;5;124mhtml\u001b[39m\u001b[38;5;124m\"\u001b[39m, \u001b[38;5;124m\"\u001b[39m\u001b[38;5;124mimg_file\u001b[39m\u001b[38;5;124m\"\u001b[39m,\n\u001b[0;32m     11\u001b[0m                    \u001b[38;5;124m\"\u001b[39m\u001b[38;5;124m-so\u001b[39m\u001b[38;5;124m\"\u001b[39m, \u001b[38;5;124mf\u001b[39m\u001b[38;5;124m\"\u001b[39m\u001b[38;5;132;01m{\u001b[39;00mfig_output_path\u001b[38;5;132;01m}\u001b[39;00m\u001b[38;5;124m/nb_\u001b[39m\u001b[38;5;132;01m{\u001b[39;00mnb_idx\u001b[38;5;132;01m}\u001b[39;00m\u001b[38;5;124m\"\u001b[39m])\n\u001b[0;32m     12\u001b[0m     end \u001b[38;5;241m=\u001b[39m time\u001b[38;5;241m.\u001b[39mtime()\n\u001b[0;32m     13\u001b[0m     nb_execution_times\u001b[38;5;241m.\u001b[39mappend(end \u001b[38;5;241m-\u001b[39m start)\n",
      "File \u001b[1;32mc:\\Users\\Kai\\anaconda3\\Lib\\subprocess.py:550\u001b[0m, in \u001b[0;36mrun\u001b[1;34m(input, capture_output, timeout, check, *popenargs, **kwargs)\u001b[0m\n\u001b[0;32m    548\u001b[0m \u001b[38;5;28;01mwith\u001b[39;00m Popen(\u001b[38;5;241m*\u001b[39mpopenargs, \u001b[38;5;241m*\u001b[39m\u001b[38;5;241m*\u001b[39mkwargs) \u001b[38;5;28;01mas\u001b[39;00m process:\n\u001b[0;32m    549\u001b[0m     \u001b[38;5;28;01mtry\u001b[39;00m:\n\u001b[1;32m--> 550\u001b[0m         stdout, stderr \u001b[38;5;241m=\u001b[39m process\u001b[38;5;241m.\u001b[39mcommunicate(\u001b[38;5;28minput\u001b[39m, timeout\u001b[38;5;241m=\u001b[39mtimeout)\n\u001b[0;32m    551\u001b[0m     \u001b[38;5;28;01mexcept\u001b[39;00m TimeoutExpired \u001b[38;5;28;01mas\u001b[39;00m exc:\n\u001b[0;32m    552\u001b[0m         process\u001b[38;5;241m.\u001b[39mkill()\n",
      "File \u001b[1;32mc:\\Users\\Kai\\anaconda3\\Lib\\subprocess.py:1201\u001b[0m, in \u001b[0;36mPopen.communicate\u001b[1;34m(self, input, timeout)\u001b[0m\n\u001b[0;32m   1199\u001b[0m         stderr \u001b[38;5;241m=\u001b[39m \u001b[38;5;28mself\u001b[39m\u001b[38;5;241m.\u001b[39mstderr\u001b[38;5;241m.\u001b[39mread()\n\u001b[0;32m   1200\u001b[0m         \u001b[38;5;28mself\u001b[39m\u001b[38;5;241m.\u001b[39mstderr\u001b[38;5;241m.\u001b[39mclose()\n\u001b[1;32m-> 1201\u001b[0m     \u001b[38;5;28mself\u001b[39m\u001b[38;5;241m.\u001b[39mwait()\n\u001b[0;32m   1202\u001b[0m \u001b[38;5;28;01melse\u001b[39;00m:\n\u001b[0;32m   1203\u001b[0m     \u001b[38;5;28;01mif\u001b[39;00m timeout \u001b[38;5;129;01mis\u001b[39;00m \u001b[38;5;129;01mnot\u001b[39;00m \u001b[38;5;28;01mNone\u001b[39;00m:\n",
      "File \u001b[1;32mc:\\Users\\Kai\\anaconda3\\Lib\\subprocess.py:1264\u001b[0m, in \u001b[0;36mPopen.wait\u001b[1;34m(self, timeout)\u001b[0m\n\u001b[0;32m   1262\u001b[0m     endtime \u001b[38;5;241m=\u001b[39m _time() \u001b[38;5;241m+\u001b[39m timeout\n\u001b[0;32m   1263\u001b[0m \u001b[38;5;28;01mtry\u001b[39;00m:\n\u001b[1;32m-> 1264\u001b[0m     \u001b[38;5;28;01mreturn\u001b[39;00m \u001b[38;5;28mself\u001b[39m\u001b[38;5;241m.\u001b[39m_wait(timeout\u001b[38;5;241m=\u001b[39mtimeout)\n\u001b[0;32m   1265\u001b[0m \u001b[38;5;28;01mexcept\u001b[39;00m \u001b[38;5;167;01mKeyboardInterrupt\u001b[39;00m:\n\u001b[0;32m   1266\u001b[0m     \u001b[38;5;66;03m# https://bugs.python.org/issue25942\u001b[39;00m\n\u001b[0;32m   1267\u001b[0m     \u001b[38;5;66;03m# The first keyboard interrupt waits briefly for the child to\u001b[39;00m\n\u001b[0;32m   1268\u001b[0m     \u001b[38;5;66;03m# exit under the common assumption that it also received the ^C\u001b[39;00m\n\u001b[0;32m   1269\u001b[0m     \u001b[38;5;66;03m# generated SIGINT and will exit rapidly.\u001b[39;00m\n\u001b[0;32m   1270\u001b[0m     \u001b[38;5;28;01mif\u001b[39;00m timeout \u001b[38;5;129;01mis\u001b[39;00m \u001b[38;5;129;01mnot\u001b[39;00m \u001b[38;5;28;01mNone\u001b[39;00m:\n",
      "File \u001b[1;32mc:\\Users\\Kai\\anaconda3\\Lib\\subprocess.py:1588\u001b[0m, in \u001b[0;36mPopen._wait\u001b[1;34m(self, timeout)\u001b[0m\n\u001b[0;32m   1585\u001b[0m     timeout_millis \u001b[38;5;241m=\u001b[39m \u001b[38;5;28mint\u001b[39m(timeout \u001b[38;5;241m*\u001b[39m \u001b[38;5;241m1000\u001b[39m)\n\u001b[0;32m   1586\u001b[0m \u001b[38;5;28;01mif\u001b[39;00m \u001b[38;5;28mself\u001b[39m\u001b[38;5;241m.\u001b[39mreturncode \u001b[38;5;129;01mis\u001b[39;00m \u001b[38;5;28;01mNone\u001b[39;00m:\n\u001b[0;32m   1587\u001b[0m     \u001b[38;5;66;03m# API note: Returns immediately if timeout_millis == 0.\u001b[39;00m\n\u001b[1;32m-> 1588\u001b[0m     result \u001b[38;5;241m=\u001b[39m _winapi\u001b[38;5;241m.\u001b[39mWaitForSingleObject(\u001b[38;5;28mself\u001b[39m\u001b[38;5;241m.\u001b[39m_handle,\n\u001b[0;32m   1589\u001b[0m                                          timeout_millis)\n\u001b[0;32m   1590\u001b[0m     \u001b[38;5;28;01mif\u001b[39;00m result \u001b[38;5;241m==\u001b[39m _winapi\u001b[38;5;241m.\u001b[39mWAIT_TIMEOUT:\n\u001b[0;32m   1591\u001b[0m         \u001b[38;5;28;01mraise\u001b[39;00m TimeoutExpired(\u001b[38;5;28mself\u001b[39m\u001b[38;5;241m.\u001b[39margs, timeout)\n",
      "\u001b[1;31mKeyboardInterrupt\u001b[0m: "
     ]
    }
   ],
   "source": [
    "# Run alttextify on each matplotlib example notebook\n",
    "notebook_output_path = \"./gallery_with_alt\"\n",
    "fig_output_path = \"./alt_figs\"\n",
    "nb_execution_times = []\n",
    "for nb_idx, nb_path in enumerate(tqdm(notebook_paths)):\n",
    "    start = time.time()\n",
    "    subprocess.run([\"alttextify\", nb_path,\n",
    "                   f\"{notebook_output_path}/nb_{nb_idx}_{notebook_names[nb_idx]}\",\n",
    "                   \"-t\", \"30\",\n",
    "                   \"-s\", \"html\", \"img_file\",\n",
    "                   \"-so\", f\"{fig_output_path}/nb_{nb_idx}\"])\n",
    "    end = time.time()\n",
    "    nb_execution_times.append(end - start)\n",
    "\n",
    "print(f\"Total execution time: {np.sum(nb_execution_times)}\")\n",
    "print(f\"Mean execution time: {np.mean(nb_execution_times)}\")\n",
    "np.save(\"./nb_execution_times\", nb_execution_times)"
   ]
  },
  {
   "cell_type": "code",
   "execution_count": 14,
   "metadata": {},
   "outputs": [
    {
     "name": "stdout",
     "output_type": "stream",
     "text": [
      "./alt_figs\\nb_0.jpg\n",
      "A 10x10 image. The x-axis ranges from −2 to 10, the y-axis ranges from −2 to 10, and the z-axis ranges from 0.03307 to 0.9778, all using linear scales. The data have a minimum value of z=0.03307 at (9, 3), a maximum value of z=0.9778 at (0, 4), and an average of z=0.5512.\n",
      "./alt_figs\\nb_1.jpg\n",
      "A group of 5 subplots subplot 0: a 15x15 image. The x-axis ranges from −4 to 4, the y-axis ranges from −4 to 3, and the z-axis ranges from -1.694 to 1.386, all using linear scales. The data have a minimum value of z=-1.694 at (10, 9), a maximum value of z=1.386 at (7, 6), and an average of z=0.00283. subplot 1: a 15x15 image. The x-axis ranges from −3 to 4, the y-axis ranges from −4 to 3, and the z-axis ranges from -1.694 to 1.386, all using linear scales. The data have a minimum value of z=-1.694 at (10, 9), a maximum value of z=1.386 at (7, 6), and an average of z=0.00283. subplot 2: a 15x15 image. The x-axis ranges from −4 to 4, the y-axis ranges from −4 to 3, and the z-axis ranges from -1.694 to 1.386, all using linear scales. The data have a minimum value of z=-1.694 at (10, 9), a maximum value of z=1.386 at (7, 6), and an average of z=0.00283. subplot 3: a 15x15 image. The x-axis ranges from −4 to 4, the y-axis ranges from −4 to 3, and the z-axis ranges from -1.694 to 1.386, all using linear scales. The data have a minimum value of z=-1.694 at (10, 9), a maximum value of z=1.386 at (7, 6), and an average of z=0.00283. subplot 4: a 15x15 image. The x-axis ranges from −4 to 4, the y-axis ranges from -4 to 3, and the z-axis ranges from -1.694 to 1.386, all using linear scales. The data have a minimum value of z=-1.694 at (10, 9), a maximum value of z=1.386 at (7, 6), and an average of z=0.00283.\n",
      "./alt_figs\\nb_4.jpg\n",
      "A group of 2 subplots subplot 0: a 5x4 image. The x-axis ranges from −1 to 5, the y-axis ranges from −0.5 to 3.5, and the z-axis ranges from 0 to 19, all using linear scales. The data have a minimum value of z=0 at (0, 0), a maximum value of z=19 at (3, 4), and an average of z=9.5. subplot 1: a 4x5 image. The x-axis ranges from −1 to 4, the y-axis ranges from −1 to 5, and the z-axis ranges from 0 to 19, all using linear scales. The data have a minimum value of z=0 at (0, 0), a maximum value of z=19 at (4, 3), and an average of z=9.5.\n",
      "./alt_figs\\nb_4pi09Cl_EkcwBZ4wQ_P-e0g.jpg\n",
      "A group of 2 subplots subplot 0: a 5x4 image. The x-axis ranges from −1 to 5, the y-axis ranges from −1 to 4, and the z-axis ranges from 0 to 19, all using linear scales. The data have a minimum value of z=0 at (0, 0), a maximum value of z=19 at (3, 4), and an average of z=9.5. subplot 1: a 4x5 image. The x-axis ranges from −0.5 to 3.5, the y-axis ranges from −1 to 5, and the z-axis ranges from 0 to 19, all using linear scales. The data have a minimum value of z=0 at (0, 0), a maximum value of z=19 at (4, 3), and an average of z=9.5.\n"
     ]
    }
   ],
   "source": [
    "# Extract image descriptions from figures\n",
    "for fig_with_caption in os.listdir(fig_output_path):\n",
    "    fig_path = os.path.join(fig_output_path, fig_with_caption)\n",
    "    with open(fig_path, 'rb+') as img_f:\n",
    "        with pyexiv2.ImageData(img_f.read()) as pyexif_img:\n",
    "            print(pyexif_img.read_exif()['Exif.Image.ImageDescription'])"
   ]
  }
 ],
 "metadata": {
  "kernelspec": {
   "display_name": "base",
   "language": "python",
   "name": "python3"
  },
  "language_info": {
   "codemirror_mode": {
    "name": "ipython",
    "version": 3
   },
   "file_extension": ".py",
   "mimetype": "text/x-python",
   "name": "python",
   "nbconvert_exporter": "python",
   "pygments_lexer": "ipython3",
   "version": "3.11.7"
  }
 },
 "nbformat": 4,
 "nbformat_minor": 2
}
