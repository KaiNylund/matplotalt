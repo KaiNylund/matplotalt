{
 "cells": [
  {
   "cell_type": "code",
   "execution_count": 17,
   "metadata": {},
   "outputs": [],
   "source": [
    "import json\n",
    "import numpy as np\n",
    "import pandas as pd\n",
    "from pprint import pprint\n",
    "from collections import defaultdict"
   ]
  },
  {
   "cell_type": "code",
   "execution_count": 25,
   "metadata": {},
   "outputs": [],
   "source": [
    "vistext_test_captions = np.load(\"./vistext_test_id_to_captions.npy\", allow_pickle=True).item()\n",
    "matplotalt_captions = np.load(\"./vistext_test_id_to_matplotalt_captions.npy\", allow_pickle=True).item()\n",
    "gpt4v_L3_captions = np.load(\"./vistext_test_id_to_L3_gpt4v_captions.npy\", allow_pickle=True).item()\n",
    "gpt4v_L3_alt_captions = np.load(\"./vistext_test_id_to_L3_gpt4v_alt_captions.npy\", allow_pickle=True).item()\n",
    "gpt4v_L3_table_captions = np.load(\"./vistext_test_id_to_L3_gpt4v_table_captions.npy\", allow_pickle=True).item()\n",
    "gpt4v_L4_captions = np.load(\"./vistext_test_id_to_L4_gpt4v_captions.npy\", allow_pickle=True).item()\n",
    "gpt4v_L4_alt_captions = np.load(\"./vistext_test_id_to_L4_gpt4v_alt_captions.npy\", allow_pickle=True).item()\n",
    "gpt4v_L4_table_captions = np.load(\"./vistext_test_id_to_L4_gpt4v_table_captions.npy\", allow_pickle=True).item()"
   ]
  },
  {
   "cell_type": "code",
   "execution_count": 26,
   "metadata": {},
   "outputs": [],
   "source": [
    "vistext_id_to_combined_captions = []\n",
    "for image_id, caption_dict in vistext_test_captions.items():\n",
    "    image_dict = {}\n",
    "    image_dict[\"image_id\"] = image_id\n",
    "    image_dict[\"human\"] = [hc[\"L1\"] + \" \" + hc[\"L2L3\"] for hc in caption_dict]\n",
    "    if image_id in matplotalt_captions:\n",
    "        image_dict[\"heuristic\"] = [matplotalt_captions[image_id]]\n",
    "    if image_id in gpt4v_L4_captions:\n",
    "        image_dict[\"gpt-4-turbo-L4\"] = [gpt4v_L4_captions[image_id]]\n",
    "    if image_id in gpt4v_L4_alt_captions:\n",
    "        image_dict[\"gpt-4-turbo-alt-L4\"] = [gpt4v_L4_alt_captions[image_id]]\n",
    "    if image_id in gpt4v_L4_table_captions:\n",
    "        table_caption = gpt4v_L4_table_captions[image_id]\n",
    "        table_idx = table_caption.lower().find(\"\\n\\ndata table:\")\n",
    "        if table_idx != -1:\n",
    "            table_caption = table_caption[:table_idx]\n",
    "        image_dict[\"gpt-4-turbo-table-L4\"] = [table_caption]\n",
    "    if image_id in gpt4v_L3_captions:\n",
    "        image_dict[\"gpt-4-turbo-L3\"] = [gpt4v_L3_captions[image_id]]\n",
    "    if image_id in gpt4v_L3_alt_captions:\n",
    "        image_dict[\"gpt-4-turbo-alt-L3\"] = [gpt4v_L3_alt_captions[image_id]]\n",
    "    if image_id in gpt4v_L3_table_captions:\n",
    "        table_caption = gpt4v_L3_table_captions[image_id]\n",
    "        table_idx = table_caption.lower().find(\"\\n\\ndata table:\")\n",
    "        if table_idx != -1:\n",
    "            table_caption = table_caption[:table_idx]\n",
    "        image_dict[\"gpt-4-turbo-table-L3\"] = [table_caption]\n",
    "    vistext_id_to_combined_captions.append(image_dict)\n",
    "\n",
    "combined_captions_df = pd.DataFrame.from_dict(vistext_id_to_combined_captions)\n",
    "combined_captions_df.to_json(\"./vistext_id_to_combined_captions.jsonl\", orient='records', lines=True)"
   ]
  }
 ],
 "metadata": {
  "kernelspec": {
   "display_name": "base",
   "language": "python",
   "name": "python3"
  },
  "language_info": {
   "codemirror_mode": {
    "name": "ipython",
    "version": 3
   },
   "file_extension": ".py",
   "mimetype": "text/x-python",
   "name": "python",
   "nbconvert_exporter": "python",
   "pygments_lexer": "ipython3",
   "version": "3.11.7"
  }
 },
 "nbformat": 4,
 "nbformat_minor": 2
}
