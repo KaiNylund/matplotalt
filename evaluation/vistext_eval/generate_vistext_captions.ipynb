{
 "cells": [
  {
   "cell_type": "code",
   "execution_count": 1,
   "metadata": {},
   "outputs": [],
   "source": [
    "import numpy as np\n",
    "import pandas as pd\n",
    "from tqdm import tqdm\n",
    "from collections import defaultdict\n",
    "from matplotalt import *"
   ]
  },
  {
   "cell_type": "code",
   "execution_count": 2,
   "metadata": {},
   "outputs": [],
   "source": [
    "vistext_id_to_mpl_code = np.load(\"./vistext_to_mpl/vistext_id_to_mpl_code.npy\", allow_pickle=True).item()\n",
    "vistext_val_data = pd.read_json(\"./vistext_to_mpl/vistext_data_validation.json\")\n",
    "vistext_id_to_captions = defaultdict(list)\n",
    "vistext_id_to_chart_type = {}\n",
    "def get_id_to_captions(row):\n",
    "    vistext_id_to_captions[row[\"img_id\"]].append({\"L1\": row[\"caption_L1\"], \"L2L3\": row[\"caption_L2L3\"]})\n",
    "    vistext_id_to_chart_type[row[\"img_id\"]] = row[\"L1_properties\"][0]\n",
    "\n",
    "vistext_val_data.apply(get_id_to_captions, axis=1);\n",
    "np.save(\"./vistext_to_mpl/vistext_id_to_captions\", vistext_id_to_captions)"
   ]
  },
  {
   "cell_type": "code",
   "execution_count": 5,
   "metadata": {},
   "outputs": [
    {
     "name": "stderr",
     "output_type": "stream",
     "text": [
      "  0%|          | 0/883 [00:00<?, ?it/s]"
     ]
    },
    {
     "name": "stderr",
     "output_type": "stream",
     "text": [
      " 78%|███████▊  | 692/883 [00:26<00:06, 30.36it/s]"
     ]
    },
    {
     "name": "stdout",
     "output_type": "stream",
     "text": [
      "6878 chart_data = np.array([[2.92, 19.34], [2.91, 19.37], [2.85, 19.33], [2.8, 19.51], [2.81, 19.42], [2.82, 19.31], [2.77, 19.37], [2.74, 19.28], [2.73, 19.24], [2.8, 18.6], [2.6, 18.6], [2.5, 18.29], [2.4, 17.2], [2.28, 16.83], [2.1, 16.1], [2.3, 15.5], [2.5, 14.1], [3.1, 12.4], [3.5, 10.9]], dtype=float)\n",
      "plt.title(\"Number of households in the United States from 1970 to 2020 , by size of household (in millions)\")\n",
      "plt.xlabel(\"Six persons\")\n",
      "plt.ylabel(\"Three persons\")\n",
      "plt.bar(chart_data[:, 0], chart_data[:, 1])\n",
      "plt.xlim(bottom=0.0)\n",
      "plt.xlim(top=6.0)\n",
      "\n"
     ]
    },
    {
     "name": "stderr",
     "output_type": "stream",
     "text": [
      " 95%|█████████▌| 842/883 [00:32<00:01, 28.98it/s]"
     ]
    },
    {
     "name": "stdout",
     "output_type": "stream",
     "text": [
      "8384 chart_data = np.array([[3.4, 20.1], [3.4, 20.5], [3.5, 20.9], [3.7, 21.1], [3.7, 20.5], [3.9, 20.7], [4, 21.1], [4.2, 20.8], [4.2, 20.6], [3.9, 20.5], [3.9, 20.1], [3.9, 20.7]], dtype=float)\n",
      "plt.title(\"Per capita consumption of wine and sparkling wine in Germany from 2008 to 2019 (in liters)\")\n",
      "plt.xlabel(\"Sparkling wine\")\n",
      "plt.ylabel(\"Wine\")\n",
      "plt.bar(chart_data[:, 0], chart_data[:, 1])\n",
      "plt.xlim(bottom=0.0)\n",
      "plt.xlim(top=10.0)\n",
      "\n"
     ]
    },
    {
     "name": "stderr",
     "output_type": "stream",
     "text": [
      " 96%|█████████▌| 848/883 [00:32<00:01, 27.72it/s]"
     ]
    },
    {
     "name": "stdout",
     "output_type": "stream",
     "text": [
      "8448 chart_data = np.array([[22.67, 24.18], [34.5, 18.3], [24, 21.2], [22, 21.44], [22.33, 23.43], [27.33, 18.98], [28, 22.5], [24, 20.25], [24.67, 19.1], [22, 21.71]], dtype=float)\n",
      "plt.title(\"Costs of a night out for two people in the most expensive United States cities in 2014 (in U.S. dollars)\")\n",
      "plt.xlabel(\"Cocktails for two\")\n",
      "plt.ylabel(\"Return taxi trip\")\n",
      "plt.bar(chart_data[:, 0], chart_data[:, 1])\n",
      "plt.xlim(bottom=0.0)\n",
      "\n"
     ]
    },
    {
     "name": "stderr",
     "output_type": "stream",
     "text": [
      "100%|██████████| 883/883 [00:33<00:00, 26.15it/s]\n"
     ]
    },
    {
     "name": "stdout",
     "output_type": "stream",
     "text": [
      "Num passed: 880\n",
      "Num errors: 3\n"
     ]
    },
    {
     "data": {
      "text/plain": [
       "<Figure size 640x480 with 0 Axes>"
      ]
     },
     "metadata": {},
     "output_type": "display_data"
    }
   ],
   "source": [
    "#print(len(vistext_id_to_captions))\n",
    "n_passed = 0\n",
    "n_errors = 0\n",
    "#vistext_id_to_captions = np.load(\"./evaluation/vistext_to_mpl/vistext_id_to_captions.npy\", allow_pickle=True).item()\n",
    "vistext_id_to_matplotalt_captions = {}\n",
    "for chart_id in tqdm(vistext_id_to_captions.keys()):\n",
    "    #print(vistext_id_to_mpl_code.keys())\n",
    "    try:\n",
    "        plt.clf()\n",
    "        mpl_code = vistext_id_to_mpl_code[str(chart_id)]\n",
    "        chart_type = vistext_id_to_chart_type[chart_id]\n",
    "        exec(mpl_code)\n",
    "        #print(chart_id)\n",
    "        #print(mpl_code)\n",
    "        #plt.show()\n",
    "        matplotalt_caption = show_with_alt(desc_level=3, chart_type=chart_type, methods=[], stats=[\"max\"], max_color_desc_count=0, return_alt=True)\n",
    "        vistext_id_to_matplotalt_captions[chart_id] = matplotalt_caption\n",
    "        n_passed += 1\n",
    "    except Exception as e:\n",
    "        #raise e\n",
    "        print(chart_id, mpl_code)\n",
    "        n_errors += 1\n",
    "        #print(e)\n",
    "\n",
    "print(f\"Num passed: {n_passed}\")\n",
    "print(f\"Num errors: {n_errors}\")\n",
    "np.save(\"./vistext_to_mpl/vistext_id_to_matplotalt_captions\", vistext_id_to_matplotalt_captions)"
   ]
  },
  {
   "cell_type": "code",
   "execution_count": null,
   "metadata": {},
   "outputs": [],
   "source": [
    "vistext_id_to_matplotalt_captions = np.load(\"./evaluation/vistext_to_mpl/vistext_id_to_matplotalt_captions.npy\", allow_pickle=True).item()\n",
    "vistext_id_to_gpt4v_captions = {}\n",
    "num_captions = 0\n",
    "for chart_id in tqdm(vistext_id_to_matplotalt_captions.keys()):\n",
    "    mpl_code = vistext_id_to_mpl_code[str(chart_id)]\n",
    "    chart_type = vistext_id_to_chart_type[chart_id]\n",
    "    exec(mpl_code)\n",
    "    gpt4v_caption = show_with_api_alt(chart_type=chart_type, methods=[], return_alt=True)\n",
    "    #print(gpt4v_caption)\n",
    "    plt.clf()\n",
    "    vistext_id_to_gpt4v_captions[chart_id] = gpt4v_caption\n",
    "    np.save(\"./evaluation/vistext_to_mpl/vistext_id_to_gpt4v_captions\", vistext_id_to_gpt4v_captions)\n",
    "    num_captions += 1\n",
    "    if num_captions >= 100:\n",
    "        break"
   ]
  }
 ],
 "metadata": {
  "kernelspec": {
   "display_name": "arkenv",
   "language": "python",
   "name": "python3"
  },
  "language_info": {
   "codemirror_mode": {
    "name": "ipython",
    "version": 3
   },
   "file_extension": ".py",
   "mimetype": "text/x-python",
   "name": "python",
   "nbconvert_exporter": "python",
   "pygments_lexer": "ipython3",
   "version": "3.11.7"
  }
 },
 "nbformat": 4,
 "nbformat_minor": 2
}
