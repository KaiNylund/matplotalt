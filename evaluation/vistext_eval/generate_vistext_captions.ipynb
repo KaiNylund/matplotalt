{
 "cells": [
  {
   "cell_type": "code",
   "execution_count": 1,
   "metadata": {},
   "outputs": [],
   "source": [
    "import numpy as np\n",
    "import pandas as pd\n",
    "from tqdm import tqdm\n",
    "from collections import defaultdict\n",
    "from matplotalt import *"
   ]
  },
  {
   "cell_type": "code",
   "execution_count": 2,
   "metadata": {},
   "outputs": [],
   "source": [
    "vistext_id_to_mpl_code = np.load(\"./vistext_id_to_mpl_code.npy\", allow_pickle=True).item()\n",
    "vistext_val_data = pd.read_json(\"./vistext_data_test.json\")\n",
    "vistext_id_to_captions = defaultdict(list)\n",
    "vistext_id_to_chart_type = {}\n",
    "def get_id_to_captions(row):\n",
    "    vistext_id_to_captions[row[\"img_id\"]].append({\"L1\": row[\"caption_L1\"], \"L2L3\": row[\"caption_L2L3\"]})\n",
    "    vistext_id_to_chart_type[row[\"img_id\"]] = row[\"L1_properties\"][0]\n",
    "\n",
    "vistext_val_data.apply(get_id_to_captions, axis=1);\n",
    "np.save(\"./vistext_test_id_to_captions\", vistext_id_to_captions)"
   ]
  },
  {
   "cell_type": "code",
   "execution_count": 4,
   "metadata": {},
   "outputs": [
    {
     "name": "stderr",
     "output_type": "stream",
     "text": [
      " 86%|████████▌ | 758/882 [00:31<00:04, 29.16it/s]"
     ]
    },
    {
     "name": "stdout",
     "output_type": "stream",
     "text": [
      "7360 chart_data = np.array([[23500, 20500], [23500, 15500], [20000, 17000], [16000, 17500], [18000, 17500], [20000, 19000], [21000, 18500], [21000, 19000], [22000, 20000], [22000, 18500], [22500, 20000], [23000, 21000], [22000, 21500], [22000, 20500], [22000, 21000], [21500, 20500], [22500, 20500], [22500, 20500], [22500, 20000], [23000, 20000], [23500, 21000], [23500, 19500], [23000, 20500], [22500, 22000]], dtype=float)\n",
      "plt.title(\"Forecasted global oil demand due to the coronavirus pandemic in each month from 2020 to 2021 , by region (in 1,000 barrels per day)\")\n",
      "plt.xlabel(\"North America\")\n",
      "plt.ylabel(\"East Asia\")\n",
      "plt.xticks(rotation=45)\n",
      "plt.bar(chart_data[:, 0], chart_data[:, 1])\n",
      "plt.xlim(bottom=0.0)\n",
      "plt.xlim(top=140000.0)\n",
      "\n",
      "7361 chart_data = np.array([[40500, 20500], [40000, 15500], [36000, 17000], [29000, 17500], [32500, 17500], [33500, 19000], [36000, 18500], [32000, 19000], [37500, 20000], [39000, 18500], [39000, 20000], [40000, 21000], [40500, 21500], [40500, 20500], [41000, 21000], [41500, 20500], [41000, 20500], [41500, 20500], [41000, 20000], [41000, 20000], [40500, 21000], [40500, 19500], [41500, 20500], [42000, 22000]], dtype=float)\n",
      "plt.title(\"Forecasted global oil demand due to the coronavirus pandemic in each month from 2020 to 2021 , by region (in 1,000 barrels per day)\")\n",
      "plt.xlabel(\"Rest of the world\")\n",
      "plt.ylabel(\"East Asia\")\n",
      "plt.xticks(rotation=45)\n",
      "plt.bar(chart_data[:, 0], chart_data[:, 1])\n",
      "plt.xlim(bottom=0.0)\n",
      "plt.xlim(top=250000.0)\n",
      "\n"
     ]
    },
    {
     "name": "stderr",
     "output_type": "stream",
     "text": [
      "100%|██████████| 882/882 [00:36<00:00, 23.92it/s]"
     ]
    },
    {
     "name": "stdout",
     "output_type": "stream",
     "text": [
      "Num passed: 880\n",
      "Num errors: 2\n"
     ]
    },
    {
     "name": "stderr",
     "output_type": "stream",
     "text": [
      "\n"
     ]
    },
    {
     "data": {
      "text/plain": [
       "<Figure size 640x480 with 0 Axes>"
      ]
     },
     "metadata": {},
     "output_type": "display_data"
    }
   ],
   "source": [
    "#print(len(vistext_id_to_captions))\n",
    "n_passed = 0\n",
    "n_errors = 0\n",
    "#vistext_id_to_captions = np.load(\"./evaluation/vistext_to_mpl/vistext_id_to_captions.npy\", allow_pickle=True).item()\n",
    "vistext_id_to_matplotalt_captions = {}\n",
    "for chart_id in tqdm(vistext_id_to_captions.keys()):\n",
    "    #print(vistext_id_to_mpl_code.keys())\n",
    "    try:\n",
    "        plt.clf()\n",
    "        mpl_code = vistext_id_to_mpl_code[str(chart_id)]\n",
    "        chart_type = vistext_id_to_chart_type[chart_id]\n",
    "        exec(mpl_code)\n",
    "        #print(chart_id)\n",
    "        #print(mpl_code)\n",
    "        #plt.show()\n",
    "        # Only include min and max stats as others (like linear fit, std rarely or do not occur in vistext captions)\n",
    "        # Also exclude color descriptions since they are different in the matplotlib version of vistext figures\n",
    "        matplotalt_caption = show_with_alt(desc_level=3, methods=[], stats=[\"min\", \"max\"], max_color_desc_count=0, return_alt=True)\n",
    "        vistext_id_to_matplotalt_captions[chart_id] = matplotalt_caption\n",
    "        n_passed += 1\n",
    "    except Exception as e:\n",
    "        #raise e\n",
    "        print(chart_id, mpl_code)\n",
    "        n_errors += 1\n",
    "        #print(e)\n",
    "\n",
    "print(f\"Num passed: {n_passed}\")\n",
    "print(f\"Num errors: {n_errors}\")\n",
    "np.save(\"./vistext_test_id_to_matplotalt_captions\", vistext_id_to_matplotalt_captions)"
   ]
  },
  {
   "cell_type": "code",
   "execution_count": 3,
   "metadata": {},
   "outputs": [
    {
     "name": "stderr",
     "output_type": "stream",
     "text": [
      " 56%|█████▌    | 490/880 [54:24<42:01,  6.47s/it]  C:\\Users\\Kai\\Desktop\\matplotalt\\matplotalt\\matplotalt.py:537: UserWarning: Glyph 144 (\\x90) missing from current font.\n",
      "  fig.canvas.draw()\n",
      "100%|██████████| 880/880 [1:36:34<00:00,  6.58s/it]"
     ]
    },
    {
     "name": "stdout",
     "output_type": "stream",
     "text": [
      "Num passed: 880\n",
      "Num errors: 0\n"
     ]
    },
    {
     "name": "stderr",
     "output_type": "stream",
     "text": [
      "\n"
     ]
    },
    {
     "data": {
      "text/plain": [
       "<Figure size 640x480 with 0 Axes>"
      ]
     },
     "metadata": {},
     "output_type": "display_data"
    }
   ],
   "source": [
    "vistext_id_to_matplotalt_captions = np.load(\"./vistext_test_id_to_matplotalt_captions.npy\", allow_pickle=True).item()\n",
    "vistext_id_to_gpt4v_captions = {}\n",
    "\n",
    "OPENAI_API_KEY = os.environ.get(\"AZURE_OPENAI_API_KEY\")\n",
    "model = \"TURBO\"\n",
    "n_errors = 0\n",
    "n_passed = 0\n",
    "for chart_id in tqdm(vistext_id_to_matplotalt_captions.keys()):\n",
    "    try:\n",
    "        mpl_code = vistext_id_to_mpl_code[str(chart_id)]\n",
    "        chart_type = vistext_id_to_chart_type[chart_id]\n",
    "        exec(mpl_code)\n",
    "        # gpt4v\n",
    "        gpt4v_caption = show_with_api_alt(OPENAI_API_KEY, model=model, methods=[], return_alt=True,\n",
    "                                        desc_level=3, stats=[\"min\", \"max\"], max_color_desc_count=0,\n",
    "                                        use_starter_alt_in_prompt=False, use_azure=True,\n",
    "                                        include_colors=False)\n",
    "        # gpt4v + starter alt\n",
    "        #gpt4v_caption = show_with_api_alt(OPENAI_API_KEY, model=model, methods=[], return_alt=True,\n",
    "        #                                    stats=[\"min\", \"max\"], max_color_desc_count=0,\n",
    "        #                                    use_starter_alt_in_prompt=True, use_azure=True,\n",
    "        #                                    include_colors=False)\n",
    "        # gpt4v + data table\n",
    "        #gpt4v_caption = show_with_api_alt(OPENAI_API_KEY, model=model, methods=[], return_alt=True,\n",
    "        #                                stats=[\"min\", \"max\"], max_color_desc_count=0,\n",
    "        #                                use_starter_alt_in_prompt=False, use_azure=True,\n",
    "        #                                include_colors=False, include_table=True)\n",
    "        #print(gpt4v_caption)\n",
    "        plt.clf()\n",
    "        vistext_id_to_gpt4v_captions[chart_id] = gpt4v_caption\n",
    "        np.save(\"./vistext_test_id_to_L3_gpt4v_captions\", vistext_id_to_gpt4v_captions)\n",
    "        n_passed += 1\n",
    "    except Exception as e:\n",
    "        #raise e\n",
    "        print(chart_id)#, mpl_code)\n",
    "        n_errors += 1\n",
    "        plt.clf()\n",
    "        print(e)\n",
    "\n",
    "print(f\"Num passed: {n_passed}\")\n",
    "print(f\"Num errors: {n_errors}\")"
   ]
  }
 ],
 "metadata": {
  "kernelspec": {
   "display_name": "arkenv",
   "language": "python",
   "name": "python3"
  },
  "language_info": {
   "codemirror_mode": {
    "name": "ipython",
    "version": 3
   },
   "file_extension": ".py",
   "mimetype": "text/x-python",
   "name": "python",
   "nbconvert_exporter": "python",
   "pygments_lexer": "ipython3",
   "version": "3.11.7"
  }
 },
 "nbformat": 4,
 "nbformat_minor": 2
}
