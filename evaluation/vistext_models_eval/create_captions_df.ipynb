{
 "cells": [
  {
   "cell_type": "code",
   "execution_count": 1,
   "metadata": {},
   "outputs": [],
   "source": [
    "import pandas as pd\n",
    "import numpy as np"
   ]
  },
  {
   "cell_type": "code",
   "execution_count": 19,
   "metadata": {},
   "outputs": [],
   "source": [
    "vistext_test_df = pd.read_json(\"../vistext_eval/vistext_data_test.json\", orient=\"records\")\n",
    "with open(\"./t5_image_guided_imageonly_preds.txt\", \"r\") as imageonly_preds_f:\n",
    "    t5_image_imageonly_preds = imageonly_preds_f.readlines()\n",
    "with open(\"./t5_image_guided_datatable_preds.txt\", \"r\", encoding=\"latin-1\") as datatable_preds_f:\n",
    "    t5_image_datatable_preds = datatable_preds_f.readlines()\n",
    "with open(\"./t5_image_guided_scenegraph_preds.txt\", \"r\", encoding=\"latin-1\") as scenegraph_preds_f:\n",
    "    t5_image_scenegraph_preds = scenegraph_preds_f.readlines()\n",
    "\n",
    "#print(len(t5_image_imageonly_preds), len(t5_image_datatable_preds), len(t5_image_scenegraph_preds))\n",
    "#print(t5_image_imageonly_preds[9], t5_image_datatable_preds[9], t5_image_scenegraph_preds[9])\n",
    "vistext_model_preds = []\n",
    "seen_image_ids = set()\n",
    "for i, (_, row) in enumerate(vistext_test_df.iterrows()):\n",
    "    image_id = row[\"img_id\"]\n",
    "    if image_id not in seen_image_ids:\n",
    "        vistext_model_preds.append({\n",
    "            \"image_id\": image_id,\n",
    "            \"t5-imageguided-imageonly\": t5_image_imageonly_preds[i],\n",
    "            \"t5-imageguided-datatable\": t5_image_datatable_preds[i],\n",
    "            \"t5-imageguided-scenegraph\": t5_image_scenegraph_preds[i]\n",
    "        })\n",
    "        seen_image_ids.add(image_id)\n",
    "\n",
    "vistext_model_preds_df = pd.DataFrame(vistext_model_preds)\n",
    "vistext_model_preds_df.to_json(\"./vistext_t5_imageguided_captions.jsonl\", orient=\"records\", lines=True)"
   ]
  }
 ],
 "metadata": {
  "kernelspec": {
   "display_name": "main",
   "language": "python",
   "name": "python3"
  },
  "language_info": {
   "codemirror_mode": {
    "name": "ipython",
    "version": 3
   },
   "file_extension": ".py",
   "mimetype": "text/x-python",
   "name": "python",
   "nbconvert_exporter": "python",
   "pygments_lexer": "ipython3",
   "version": "3.9.19"
  }
 },
 "nbformat": 4,
 "nbformat_minor": 2
}
