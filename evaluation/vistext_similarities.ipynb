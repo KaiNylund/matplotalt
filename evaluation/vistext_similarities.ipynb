{
 "cells": [
  {
   "cell_type": "code",
   "execution_count": 18,
   "metadata": {},
   "outputs": [],
   "source": [
    "import numpy as np\n",
    "import pandas as pd\n",
    "from pprint import pprint\n",
    "from tqdm import tqdm\n",
    "from collections import defaultdict\n",
    "from rouge_score import rouge_scorer\n",
    "from sacrebleu.metrics import BLEU, CHRF\n",
    "from evaluate import load\n",
    "\n",
    "np.random.seed(123)"
   ]
  },
  {
   "cell_type": "code",
   "execution_count": 3,
   "metadata": {},
   "outputs": [
    {
     "name": "stderr",
     "output_type": "stream",
     "text": [
      "WARNING:evaluate_modules.metrics.evaluate-metric--bleurt.98e148b2f8c4a88aba5037e4e0e90c9fd9ec35dc37a054ded8cfef0fa801ffab.bleurt:Using default BLEURT-Base checkpoint for sequence maximum length 128. You can use a bigger model for better results with e.g.: evaluate.load('bleurt', 'bleurt-large-512').\n"
     ]
    },
    {
     "name": "stdout",
     "output_type": "stream",
     "text": [
      "WARNING:tensorflow:From c:\\Users\\Kai\\anaconda3\\envs\\main\\lib\\site-packages\\bleurt\\score.py:160: The name tf.logging.info is deprecated. Please use tf.compat.v1.logging.info instead.\n",
      "\n"
     ]
    },
    {
     "name": "stderr",
     "output_type": "stream",
     "text": [
      "WARNING:tensorflow:From c:\\Users\\Kai\\anaconda3\\envs\\main\\lib\\site-packages\\bleurt\\score.py:160: The name tf.logging.info is deprecated. Please use tf.compat.v1.logging.info instead.\n",
      "\n"
     ]
    },
    {
     "name": "stdout",
     "output_type": "stream",
     "text": [
      "INFO:tensorflow:Reading checkpoint C:\\Users\\Kai\\.cache\\huggingface\\metrics\\bleurt\\default\\downloads\\extracted\\66d40c89ded88d187db3310c752ad6bc55a18f1686c772fd971b1af93164b5f5\\bleurt-base-128.\n"
     ]
    },
    {
     "name": "stderr",
     "output_type": "stream",
     "text": [
      "INFO:tensorflow:Reading checkpoint C:\\Users\\Kai\\.cache\\huggingface\\metrics\\bleurt\\default\\downloads\\extracted\\66d40c89ded88d187db3310c752ad6bc55a18f1686c772fd971b1af93164b5f5\\bleurt-base-128.\n"
     ]
    },
    {
     "name": "stdout",
     "output_type": "stream",
     "text": [
      "INFO:tensorflow:Config file found, reading.\n"
     ]
    },
    {
     "name": "stderr",
     "output_type": "stream",
     "text": [
      "INFO:tensorflow:Config file found, reading.\n"
     ]
    },
    {
     "name": "stdout",
     "output_type": "stream",
     "text": [
      "INFO:tensorflow:Will load checkpoint bert_custom\n"
     ]
    },
    {
     "name": "stderr",
     "output_type": "stream",
     "text": [
      "INFO:tensorflow:Will load checkpoint bert_custom\n"
     ]
    },
    {
     "name": "stdout",
     "output_type": "stream",
     "text": [
      "INFO:tensorflow:Loads full paths and checks that files exists.\n"
     ]
    },
    {
     "name": "stderr",
     "output_type": "stream",
     "text": [
      "INFO:tensorflow:Loads full paths and checks that files exists.\n"
     ]
    },
    {
     "name": "stdout",
     "output_type": "stream",
     "text": [
      "INFO:tensorflow:... name:bert_custom\n"
     ]
    },
    {
     "name": "stderr",
     "output_type": "stream",
     "text": [
      "INFO:tensorflow:... name:bert_custom\n"
     ]
    },
    {
     "name": "stdout",
     "output_type": "stream",
     "text": [
      "INFO:tensorflow:... vocab_file:vocab.txt\n"
     ]
    },
    {
     "name": "stderr",
     "output_type": "stream",
     "text": [
      "INFO:tensorflow:... vocab_file:vocab.txt\n"
     ]
    },
    {
     "name": "stdout",
     "output_type": "stream",
     "text": [
      "INFO:tensorflow:... bert_config_file:bert_config.json\n"
     ]
    },
    {
     "name": "stderr",
     "output_type": "stream",
     "text": [
      "INFO:tensorflow:... bert_config_file:bert_config.json\n"
     ]
    },
    {
     "name": "stdout",
     "output_type": "stream",
     "text": [
      "INFO:tensorflow:... do_lower_case:True\n"
     ]
    },
    {
     "name": "stderr",
     "output_type": "stream",
     "text": [
      "INFO:tensorflow:... do_lower_case:True\n"
     ]
    },
    {
     "name": "stdout",
     "output_type": "stream",
     "text": [
      "INFO:tensorflow:... max_seq_length:128\n"
     ]
    },
    {
     "name": "stderr",
     "output_type": "stream",
     "text": [
      "INFO:tensorflow:... max_seq_length:128\n"
     ]
    },
    {
     "name": "stdout",
     "output_type": "stream",
     "text": [
      "INFO:tensorflow:Creating BLEURT scorer.\n"
     ]
    },
    {
     "name": "stderr",
     "output_type": "stream",
     "text": [
      "INFO:tensorflow:Creating BLEURT scorer.\n"
     ]
    },
    {
     "name": "stdout",
     "output_type": "stream",
     "text": [
      "INFO:tensorflow:Creating WordPiece tokenizer.\n"
     ]
    },
    {
     "name": "stderr",
     "output_type": "stream",
     "text": [
      "INFO:tensorflow:Creating WordPiece tokenizer.\n"
     ]
    },
    {
     "name": "stdout",
     "output_type": "stream",
     "text": [
      "WARNING:tensorflow:From c:\\Users\\Kai\\anaconda3\\envs\\main\\lib\\site-packages\\bleurt\\lib\\bert_tokenization.py:94: The name tf.gfile.GFile is deprecated. Please use tf.io.gfile.GFile instead.\n",
      "\n"
     ]
    },
    {
     "name": "stderr",
     "output_type": "stream",
     "text": [
      "WARNING:tensorflow:From c:\\Users\\Kai\\anaconda3\\envs\\main\\lib\\site-packages\\bleurt\\lib\\bert_tokenization.py:94: The name tf.gfile.GFile is deprecated. Please use tf.io.gfile.GFile instead.\n",
      "\n"
     ]
    },
    {
     "name": "stdout",
     "output_type": "stream",
     "text": [
      "INFO:tensorflow:WordPiece tokenizer instantiated.\n"
     ]
    },
    {
     "name": "stderr",
     "output_type": "stream",
     "text": [
      "INFO:tensorflow:WordPiece tokenizer instantiated.\n"
     ]
    },
    {
     "name": "stdout",
     "output_type": "stream",
     "text": [
      "INFO:tensorflow:Creating Eager Mode predictor.\n"
     ]
    },
    {
     "name": "stderr",
     "output_type": "stream",
     "text": [
      "INFO:tensorflow:Creating Eager Mode predictor.\n"
     ]
    },
    {
     "name": "stdout",
     "output_type": "stream",
     "text": [
      "INFO:tensorflow:Loading model.\n"
     ]
    },
    {
     "name": "stderr",
     "output_type": "stream",
     "text": [
      "INFO:tensorflow:Loading model.\n"
     ]
    },
    {
     "name": "stdout",
     "output_type": "stream",
     "text": [
      "INFO:tensorflow:BLEURT initialized.\n"
     ]
    },
    {
     "name": "stderr",
     "output_type": "stream",
     "text": [
      "INFO:tensorflow:BLEURT initialized.\n"
     ]
    }
   ],
   "source": [
    "rscorer = rouge_scorer.RougeScorer(['rouge1', 'rouge2', 'rougeL', 'rougeLsum'], use_stemmer=True)\n",
    "bleurt = load(\"bleurt\", module_type=\"metric\", checkpoint=\"bleurt-large-512\")\n",
    "bertscore = load(\"bertscore\")\n",
    "bleu = BLEU()\n",
    "chrf = CHRF()\n",
    "\n",
    "def compute_scores(refs, sample):\n",
    "    ref_scores = defaultdict(list)\n",
    "    for ref in refs:\n",
    "        rouge_scores = rscorer.score(ref, sample)\n",
    "        for rouge_metric, score_result in rouge_scores.items():\n",
    "            ref_scores[f\"{rouge_metric}_p\"].append(score_result.precision)\n",
    "            ref_scores[f\"{rouge_metric}_r\"].append(score_result.recall)\n",
    "            ref_scores[f\"{rouge_metric}_f1\"].append(score_result.fmeasure)\n",
    "        ref_scores[\"bleu\"].append(bleu.corpus_score([sample], [[ref]]).score)\n",
    "        ref_scores[\"chrf\"].append(chrf.corpus_score([sample], [[ref]]).score)\n",
    "        ref_scores[\"bleurt\"].append(bleurt.compute(predictions=[sample], references=[ref])[\"scores\"][0])\n",
    "        bertscores = bertscore.compute(predictions=[sample], references=[ref], lang=\"en\")\n",
    "        ref_scores[\"bertscore_p\"] = bertscores[\"precision\"]\n",
    "        ref_scores[\"bertscore_r\"] = bertscores[\"recall\"]\n",
    "        ref_scores[\"bertscore_f1\"] = bertscores[\"f1\"]\n",
    "    return ref_scores"
   ]
  },
  {
   "cell_type": "code",
   "execution_count": 11,
   "metadata": {},
   "outputs": [
    {
     "name": "stderr",
     "output_type": "stream",
     "text": [
      "  1%|          | 10/882 [01:05<1:35:27,  6.57s/it]\n",
      "100%|██████████| 882/882 [1:11:27<00:00,  6.78s/it]"
     ]
    }
   ],
   "source": [
    "vistext_id_to_captions = pd.read_json(\"./vistext_eval/vistext_id_to_combined_captions.jsonl\", orient=\"records\", lines=True)\n",
    "vistext_id_to_scores = defaultdict(dict) #np.load(\"./vistext_id_to_scores.npy\", allow_pickle=True).item()\n",
    "pbar = tqdm(total=len(vistext_id_to_captions))\n",
    "def get_caption_scores(row):\n",
    "    refs = row[\"human\"]\n",
    "    for caption_type in [\"heuristic\", \"gpt-4-turbo-L3\", \"gpt-4-turbo-alt-L3\", \"gpt-4-turbo-table-L3\", \"gpt-4-turbo-table-alt-L3\"]:\n",
    "        if caption_type in row and row[caption_type]:\n",
    "            processed_caption = row[caption_type][0]\n",
    "            processed_caption = processed_caption.replace(\"This description was generated by a language model. \", \"\")\n",
    "            #print(caption_type, processed_caption)\n",
    "            #print(\"----------------------------------------------------------\")\n",
    "            vistext_id_to_scores[row[\"image_id\"]][caption_type] = compute_scores(refs, processed_caption)\n",
    "    pbar.update(1)\n",
    "\n",
    "vistext_id_to_captions.apply(get_caption_scores, axis=1)\n",
    "np.save(\"./vistext_id_to_sim_scores\", vistext_id_to_scores)"
   ]
  },
  {
   "cell_type": "code",
   "execution_count": 20,
   "metadata": {},
   "outputs": [
    {
     "name": "stderr",
     "output_type": "stream",
     "text": [
      "  0%|          | 0/882 [00:50<?, ?it/s]\n"
     ]
    }
   ],
   "source": [
    "vistext_id_to_captions = pd.read_json(\"./vistext_eval/vistext_id_to_combined_captions.jsonl\", orient=\"records\", lines=True)\n",
    "vistext_id_to_shuffled_captions = vistext_id_to_captions.copy()\n",
    "vistext_id_to_shuffled_captions[\"human\"] = np.random.permutation(vistext_id_to_shuffled_captions[\"human\"])\n",
    "vistext_id_to_shuffled_scores = defaultdict(dict) #np.load(\"./vistext_id_to_shuffled_scores.npy\", allow_pickle=True).item()\n",
    "pbar = tqdm(total=len(vistext_id_to_shuffled_captions))\n",
    "def get_caption_scores(row):\n",
    "    random_refs = row[\"human\"]\n",
    "    for caption_type in [\"heuristic\", \"gpt-4-turbo-L3\", \"gpt-4-turbo-alt-L3\", \"gpt-4-turbo-table-L3\", \"gpt-4-turbo-table-alt-L3\"]:\n",
    "        if caption_type in row and row[caption_type]:\n",
    "            processed_caption = row[caption_type][0]\n",
    "            processed_caption = processed_caption.replace(\"This description was generated by a language model. \", \"\")\n",
    "            #print(caption_type, processed_caption)\n",
    "            #print(\"----------------------------------------------------------\")\n",
    "            vistext_id_to_shuffled_scores[row[\"image_id\"]][caption_type] = compute_scores(random_refs, processed_caption)\n",
    "    pbar.update(1)\n",
    "\n",
    "vistext_id_to_shuffled_captions.apply(get_caption_scores, axis=1)\n",
    "np.save(\"./vistext_id_to_shuffled_sim_scores\", vistext_id_to_shuffled_scores)"
   ]
  },
  {
   "cell_type": "code",
   "execution_count": 15,
   "metadata": {},
   "outputs": [
    {
     "name": "stderr",
     "output_type": "stream",
     "text": [
      "100%|██████████| 882/882 [00:16<00:00, 53.62it/s]\n"
     ]
    }
   ],
   "source": [
    "vistext_id_to_captions = pd.read_json(\"./vistext_eval/vistext_id_to_combined_captions.jsonl\", orient=\"records\", lines=True)\n",
    "image_id_to_human_refs = dict(zip(vistext_id_to_captions[\"image_id\"], vistext_id_to_captions[\"human\"]))\n",
    "vistext_id_to_t5_captions = pd.read_json(\"./vistext_models_eval/vistext_t5_imageguided_captions.jsonl\", orient=\"records\", lines=True)\n",
    "vistext_id_to_scores = np.load(\"./vistext_id_to_sim_scores.npy\", allow_pickle=True).item()\n",
    "\n",
    "pbar = tqdm(total=len(vistext_id_to_t5_captions))\n",
    "def get_caption_scores(row):\n",
    "    image_id = row[\"image_id\"]\n",
    "    refs = image_id_to_human_refs[image_id]\n",
    "    for caption_type in [\"t5-imageguided-imageonly\", \"t5-imageguided-datatable\", \"t5-imageguided-scenegraph\"]:\n",
    "        if caption_type in row and row[caption_type]:\n",
    "            processed_caption = row[caption_type]\n",
    "            processed_caption = processed_caption.replace(\"This description was generated by a language model. \", \"\")\n",
    "            #print(caption_type, processed_caption)\n",
    "            #print(\"----------------------------------------------------------\")\n",
    "            vistext_id_to_scores[image_id][caption_type] = compute_scores(refs, processed_caption)\n",
    "    pbar.update(1)\n",
    "\n",
    "vistext_id_to_t5_captions.apply(get_caption_scores, axis=1)\n",
    "np.save(\"./vistext_id_to_sim_scores\", vistext_id_to_scores)"
   ]
  },
  {
   "cell_type": "code",
   "execution_count": 24,
   "metadata": {},
   "outputs": [
    {
     "name": "stderr",
     "output_type": "stream",
     "text": [
      "100%|██████████| 882/882 [1:25:59<00:00,  5.85s/it]\n"
     ]
    }
   ],
   "source": [
    "vistext_id_to_captions = pd.read_json(\"./vistext_eval/vistext_id_to_combined_captions.jsonl\", orient=\"records\", lines=True)\n",
    "vistext_id_to_shuffled_captions = vistext_id_to_captions.copy()\n",
    "vistext_id_to_shuffled_captions[\"human\"] = np.random.permutation(vistext_id_to_shuffled_captions[\"human\"])\n",
    "image_id_to_random_human_refs = dict(zip(vistext_id_to_shuffled_captions[\"image_id\"], vistext_id_to_shuffled_captions[\"human\"]))\n",
    "vistext_id_to_t5_captions = pd.read_json(\"./vistext_models_eval/vistext_t5_imageguided_captions.jsonl\", orient=\"records\", lines=True)\n",
    "vistext_id_to_shuffled_scores = np.load(\"./vistext_id_to_shuffled_sim_scores.npy\", allow_pickle=True).item()\n",
    "\n",
    "pbar = tqdm(total=len(vistext_id_to_t5_captions))\n",
    "def get_caption_scores(row):\n",
    "    image_id = row[\"image_id\"]\n",
    "    random_refs = image_id_to_random_human_refs[image_id]\n",
    "    for caption_type in [\"t5-imageguided-imageonly\", \"t5-imageguided-datatable\", \"t5-imageguided-scenegraph\"]:\n",
    "        if caption_type in row and row[caption_type]:\n",
    "            processed_caption = row[caption_type]\n",
    "            processed_caption = processed_caption.replace(\"This description was generated by a language model. \", \"\")\n",
    "            #print(caption_type, processed_caption)\n",
    "            #print(\"----------------------------------------------------------\")\n",
    "            vistext_id_to_shuffled_scores[image_id][caption_type] = compute_scores(random_refs, processed_caption)\n",
    "    pbar.update(1)\n",
    "\n",
    "vistext_id_to_t5_captions.apply(get_caption_scores, axis=1)\n",
    "np.save(\"./vistext_id_to_shuffled_sim_scores\", vistext_id_to_shuffled_scores)"
   ]
  },
  {
   "cell_type": "code",
   "execution_count": 26,
   "metadata": {},
   "outputs": [
    {
     "name": "stdout",
     "output_type": "stream",
     "text": [
      "Matching Scores: \n",
      "defaultdict(<class 'dict'>,\n",
      "            {'gpt-4-turbo-L3': {'bertscore_f1': 0.882644063964182,\n",
      "                                'bertscore_p': 0.8704650796730232,\n",
      "                                'bertscore_r': 0.8953872045962449,\n",
      "                                'bleu': 14.14066381414324,\n",
      "                                'bleurt': -0.14390061662686388,\n",
      "                                'chrf': 46.430975596845954,\n",
      "                                'rouge1_f1': 0.4636736219061632,\n",
      "                                'rouge1_p': 0.3759233302022657,\n",
      "                                'rouge1_r': 0.6377347115494284,\n",
      "                                'rouge2_f1': 0.2260586446410901,\n",
      "                                'rouge2_p': 0.1821134742350561,\n",
      "                                'rouge2_r': 0.31470937233073093,\n",
      "                                'rougeL_f1': 0.32315676028608786,\n",
      "                                'rougeL_p': 0.2609146964897651,\n",
      "                                'rougeL_r': 0.44769307784171214,\n",
      "                                'rougeLsum_f1': 0.32481832432467816,\n",
      "                                'rougeLsum_p': 0.26221369736367856,\n",
      "                                'rougeLsum_r': 0.45011235010610634},\n",
      "             'gpt-4-turbo-alt-L3': {'bertscore_f1': 0.8875464822052557,\n",
      "                                    'bertscore_p': 0.8735928290547902,\n",
      "                                    'bertscore_r': 0.9021586196647193,\n",
      "                                    'bleu': 15.660813053410196,\n",
      "                                    'bleurt': -0.0944906171078084,\n",
      "                                    'chrf': 49.22086354607222,\n",
      "                                    'rouge1_f1': 0.4836565263543092,\n",
      "                                    'rouge1_p': 0.38975881296159537,\n",
      "                                    'rouge1_r': 0.6711167786834155,\n",
      "                                    'rouge2_f1': 0.259739815459184,\n",
      "                                    'rouge2_p': 0.20783708637543252,\n",
      "                                    'rouge2_r': 0.36515739321050683,\n",
      "                                    'rougeL_f1': 0.3500276351536176,\n",
      "                                    'rougeL_p': 0.2808176021132274,\n",
      "                                    'rougeL_r': 0.4896113761698571,\n",
      "                                    'rougeLsum_f1': 0.3498711761241361,\n",
      "                                    'rougeLsum_p': 0.2807215838175137,\n",
      "                                    'rougeLsum_r': 0.48923663916804433},\n",
      "             'gpt-4-turbo-table-L3': {'bertscore_f1': 0.8825184934932176,\n",
      "                                      'bertscore_p': 0.8683395740257895,\n",
      "                                      'bertscore_r': 0.8973889156042786,\n",
      "                                      'bleu': 13.463786240685417,\n",
      "                                      'bleurt': -0.13703070614425286,\n",
      "                                      'chrf': 46.60697966377538,\n",
      "                                      'rouge1_f1': 0.4606288617480206,\n",
      "                                      'rouge1_p': 0.3651008007876437,\n",
      "                                      'rouge1_r': 0.6600952330532887,\n",
      "                                      'rouge2_f1': 0.22350847820005215,\n",
      "                                      'rouge2_p': 0.17598344046764264,\n",
      "                                      'rouge2_r': 0.3246531091326633,\n",
      "                                      'rougeL_f1': 0.3196975647513145,\n",
      "                                      'rougeL_p': 0.252151160374873,\n",
      "                                      'rougeL_r': 0.4623113714464718,\n",
      "                                      'rougeLsum_f1': 0.32180613796188023,\n",
      "                                      'rougeLsum_p': 0.2537782672731184,\n",
      "                                      'rougeLsum_r': 0.46543149776173104},\n",
      "             'gpt-4-turbo-table-alt-L3': {'bertscore_f1': 0.8864635874655833,\n",
      "                                          'bertscore_p': 0.8712966599541414,\n",
      "                                          'bertscore_r': 0.9023869010816395,\n",
      "                                          'bleu': 15.022985439805622,\n",
      "                                          'bleurt': -0.09998064045625997,\n",
      "                                          'chrf': 48.938805514862295,\n",
      "                                          'rouge1_f1': 0.4754977463297677,\n",
      "                                          'rouge1_p': 0.37761132056298113,\n",
      "                                          'rouge1_r': 0.6768474572065769,\n",
      "                                          'rouge2_f1': 0.2550244448094262,\n",
      "                                          'rouge2_p': 0.20105417224520922,\n",
      "                                          'rouge2_r': 0.36836385253801696,\n",
      "                                          'rougeL_f1': 0.3431509812446006,\n",
      "                                          'rougeL_p': 0.2712622777117092,\n",
      "                                          'rougeL_r': 0.49262455850835407,\n",
      "                                          'rougeLsum_f1': 0.3450810160585671,\n",
      "                                          'rougeLsum_p': 0.27273547737043496,\n",
      "                                          'rougeLsum_r': 0.49555183522341806},\n",
      "             'heuristic': {'bertscore_f1': 0.8850457179708545,\n",
      "                           'bertscore_p': 0.8752519416025166,\n",
      "                           'bertscore_r': 0.8952865943211277,\n",
      "                           'bleu': 15.569139111644427,\n",
      "                           'bleurt': -0.152631374232207,\n",
      "                           'chrf': 45.8869249613938,\n",
      "                           'rouge1_f1': 0.5459723205624998,\n",
      "                           'rouge1_p': 0.5292213915398621,\n",
      "                           'rouge1_r': 0.5837083229341858,\n",
      "                           'rouge2_f1': 0.32513188748808014,\n",
      "                           'rouge2_p': 0.31321984679763487,\n",
      "                           'rouge2_r': 0.35037771372541904,\n",
      "                           'rougeL_f1': 0.3956005620955884,\n",
      "                           'rougeL_p': 0.3819810584111435,\n",
      "                           'rougeL_r': 0.4249977302734329,\n",
      "                           'rougeLsum_f1': 0.3956005620955884,\n",
      "                           'rougeLsum_p': 0.3819810584111435,\n",
      "                           'rougeLsum_r': 0.4249977302734329},\n",
      "             't5-imageguided-datatable': {'bertscore_f1': 0.9160813806819267,\n",
      "                                          'bertscore_p': 0.9385579069590623,\n",
      "                                          'bertscore_r': 0.8948961111153064,\n",
      "                                          'bleu': 29.454801752977097,\n",
      "                                          'bleurt': -0.2652980482462412,\n",
      "                                          'chrf': 50.890591571694955,\n",
      "                                          'rouge1_f1': 0.603040337050654,\n",
      "                                          'rouge1_p': 0.7592358567634028,\n",
      "                                          'rouge1_r': 0.519048706566943,\n",
      "                                          'rouge2_f1': 0.4393297408618009,\n",
      "                                          'rouge2_p': 0.553765314074792,\n",
      "                                          'rouge2_r': 0.3782842830594472,\n",
      "                                          'rougeL_f1': 0.49753237842546266,\n",
      "                                          'rougeL_p': 0.6260713582343493,\n",
      "                                          'rougeL_r': 0.42864200396277174,\n",
      "                                          'rougeLsum_f1': 0.49753237842546266,\n",
      "                                          'rougeLsum_p': 0.6260713582343493,\n",
      "                                          'rougeLsum_r': 0.42864200396277174},\n",
      "             't5-imageguided-imageonly': {'bertscore_f1': 0.8613118725298754,\n",
      "                                          'bertscore_p': 0.868527575144692,\n",
      "                                          'bertscore_r': 0.8545722505267785,\n",
      "                                          'bleu': 5.503944797750517,\n",
      "                                          'bleurt': -1.0421318405139164,\n",
      "                                          'chrf': 26.355898314599564,\n",
      "                                          'rouge1_f1': 0.33276435474126925,\n",
      "                                          'rouge1_p': 0.3816079592799154,\n",
      "                                          'rouge1_r': 0.3091209137881887,\n",
      "                                          'rouge2_f1': 0.1300842538288589,\n",
      "                                          'rouge2_p': 0.14881389064971928,\n",
      "                                          'rouge2_r': 0.12140572199583147,\n",
      "                                          'rougeL_f1': 0.24092499556136807,\n",
      "                                          'rougeL_p': 0.2755965741672199,\n",
      "                                          'rougeL_r': 0.22432304804624037,\n",
      "                                          'rougeLsum_f1': 0.24092499556136807,\n",
      "                                          'rougeLsum_p': 0.2755965741672199,\n",
      "                                          'rougeLsum_r': 0.22432304804624037},\n",
      "             't5-imageguided-scenegraph': {'bertscore_f1': 0.9150410136398004,\n",
      "                                           'bertscore_p': 0.9375072181765455,\n",
      "                                           'bertscore_r': 0.8939254521107187,\n",
      "                                           'bleu': 29.47431304382471,\n",
      "                                           'bleurt': -0.2919159326621691,\n",
      "                                           'chrf': 50.58721869108079,\n",
      "                                           'rouge1_f1': 0.5982661573785439,\n",
      "                                           'rouge1_p': 0.7463979196416678,\n",
      "                                           'rouge1_r': 0.520312699013074,\n",
      "                                           'rouge2_f1': 0.4354849369226508,\n",
      "                                           'rouge2_p': 0.5442568457497592,\n",
      "                                           'rouge2_r': 0.37875536735169546,\n",
      "                                           'rougeL_f1': 0.4928391065213782,\n",
      "                                           'rougeL_p': 0.6146069929292847,\n",
      "                                           'rougeL_r': 0.4289947712189196,\n",
      "                                           'rougeLsum_f1': 0.4928391065213782,\n",
      "                                           'rougeLsum_p': 0.6146069929292847,\n",
      "                                           'rougeLsum_r': 0.4289947712189196}})\n"
     ]
    }
   ],
   "source": [
    "vistext_id_to_scores = np.load(\"./vistext_id_to_sim_scores.npy\", allow_pickle=True).item()\n",
    "combined_method_scores = {}\n",
    "for caption_type in [\"heuristic\", \"gpt-4-turbo-L3\", \"gpt-4-turbo-alt-L3\", \"gpt-4-turbo-table-L3\", \"gpt-4-turbo-table-alt-L3\",\n",
    "                     \"t5-imageguided-imageonly\", \"t5-imageguided-datatable\", \"t5-imageguided-scenegraph\"]:\n",
    "    combined_method_scores[caption_type] = defaultdict(list)\n",
    "for image_id, caption_scores in vistext_id_to_scores.items():\n",
    "    for caption_type, scores_dict in caption_scores.items():\n",
    "        for score_type, scores in scores_dict.items():\n",
    "            combined_method_scores[caption_type][score_type].extend(scores)\n",
    "caption_type_to_avg_scores = defaultdict(dict)\n",
    "for caption_type, caption_scores in combined_method_scores.items():\n",
    "    for score_type, scores in caption_scores.items():\n",
    "        caption_type_to_avg_scores[caption_type][score_type] = np.mean(scores)\n",
    "\n",
    "print(\"Matching Scores: \")\n",
    "pprint(caption_type_to_avg_scores)"
   ]
  },
  {
   "cell_type": "code",
   "execution_count": 25,
   "metadata": {},
   "outputs": [
    {
     "name": "stdout",
     "output_type": "stream",
     "text": [
      "Shuffled Scores: \n",
      "defaultdict(<class 'dict'>,\n",
      "            {'gpt-4-turbo-L3': {'bertscore_f1': 0.8440313291928124,\n",
      "                                'bertscore_p': 0.8362373427198587,\n",
      "                                'bertscore_r': 0.852150746078448,\n",
      "                                'bleu': 2.1697192486146437,\n",
      "                                'bleurt': -0.7965344637280374,\n",
      "                                'chrf': 28.862887816067282,\n",
      "                                'rouge1_f1': 0.2848008925492327,\n",
      "                                'rouge1_p': 0.23142794666982272,\n",
      "                                'rouge1_r': 0.3917593048255828,\n",
      "                                'rouge2_f1': 0.05908865765979985,\n",
      "                                'rouge2_p': 0.0477488720611166,\n",
      "                                'rouge2_r': 0.08226733184542215,\n",
      "                                'rougeL_f1': 0.17779143685669377,\n",
      "                                'rougeL_p': 0.1439732172328465,\n",
      "                                'rougeL_r': 0.24622274399018834,\n",
      "                                'rougeLsum_f1': 0.18333252211791495,\n",
      "                                'rougeLsum_p': 0.1482820166978596,\n",
      "                                'rougeLsum_r': 0.2543808579306014},\n",
      "             'gpt-4-turbo-alt-L3': {'bertscore_f1': 0.8455018654178139,\n",
      "                                    'bertscore_p': 0.8363324197413026,\n",
      "                                    'bertscore_r': 0.8550545964284327,\n",
      "                                    'bleu': 2.621205810343996,\n",
      "                                    'bleurt': -0.8233774947288752,\n",
      "                                    'chrf': 29.88085454256656,\n",
      "                                    'rouge1_f1': 0.29637255591280126,\n",
      "                                    'rouge1_p': 0.24027308962396007,\n",
      "                                    'rouge1_r': 0.4088891025913357,\n",
      "                                    'rouge2_f1': 0.07540804966739018,\n",
      "                                    'rouge2_p': 0.0607407865379901,\n",
      "                                    'rouge2_r': 0.10530472134855454,\n",
      "                                    'rougeL_f1': 0.18586424784859457,\n",
      "                                    'rougeL_p': 0.15007339037479897,\n",
      "                                    'rougeL_r': 0.258489680883136,\n",
      "                                    'rougeLsum_f1': 0.1925133026003244,\n",
      "                                    'rougeLsum_p': 0.1552366356179677,\n",
      "                                    'rougeLsum_r': 0.26824744016316454},\n",
      "             'gpt-4-turbo-table-L3': {'bertscore_f1': 0.8424267854106007,\n",
      "                                      'bertscore_p': 0.8330449480880538,\n",
      "                                      'bertscore_r': 0.8522136900806535,\n",
      "                                      'bleu': 2.115611655777056,\n",
      "                                      'bleurt': -0.7943959933293908,\n",
      "                                      'chrf': 28.80153733516165,\n",
      "                                      'rouge1_f1': 0.28126018695270943,\n",
      "                                      'rouge1_p': 0.2235927464049873,\n",
      "                                      'rouge1_r': 0.4023614172493673,\n",
      "                                      'rouge2_f1': 0.05867820792929215,\n",
      "                                      'rouge2_p': 0.04636539721130018,\n",
      "                                      'rouge2_r': 0.08503583888534105,\n",
      "                                      'rougeL_f1': 0.17532094741437526,\n",
      "                                      'rougeL_p': 0.13885503055682416,\n",
      "                                      'rougeL_r': 0.252740253635193,\n",
      "                                      'rougeLsum_f1': 0.18337163510091553,\n",
      "                                      'rougeLsum_p': 0.14504542315206817,\n",
      "                                      'rougeLsum_r': 0.26480715970948826},\n",
      "             'gpt-4-turbo-table-alt-L3': {'bertscore_f1': 0.8442812388743496,\n",
      "                                          'bertscore_p': 0.8341365781072376,\n",
      "                                          'bertscore_r': 0.8548642881601327,\n",
      "                                          'bleu': 2.510410875721425,\n",
      "                                          'bleurt': -0.829115275054788,\n",
      "                                          'chrf': 29.78634987237062,\n",
      "                                          'rouge1_f1': 0.29231204769371416,\n",
      "                                          'rouge1_p': 0.23329616897600963,\n",
      "                                          'rouge1_r': 0.41458128135027494,\n",
      "                                          'rouge2_f1': 0.07418693394984215,\n",
      "                                          'rouge2_p': 0.058896128567241655,\n",
      "                                          'rouge2_r': 0.10634225201106719,\n",
      "                                          'rougeL_f1': 0.18289779983444704,\n",
      "                                          'rougeL_p': 0.14543424492478915,\n",
      "                                          'rougeL_r': 0.2612698533352268,\n",
      "                                          'rougeLsum_f1': 0.19103621292917744,\n",
      "                                          'rougeLsum_p': 0.15164151480060886,\n",
      "                                          'rougeLsum_r': 0.2737226469253282},\n",
      "             'heuristic': {'bertscore_f1': 0.8457726803766626,\n",
      "                           'bertscore_p': 0.8397958640879244,\n",
      "                           'bertscore_r': 0.8520469266135676,\n",
      "                           'bleu': 3.1085909001902845,\n",
      "                           'bleurt': -0.8990954548355162,\n",
      "                           'chrf': 27.862043509228034,\n",
      "                           'rouge1_f1': 0.3451352635373603,\n",
      "                           'rouge1_p': 0.3379009224201131,\n",
      "                           'rouge1_r': 0.36772714996565103,\n",
      "                           'rouge2_f1': 0.10345350710407315,\n",
      "                           'rouge2_p': 0.10111063641282851,\n",
      "                           'rouge2_r': 0.11054220019543695,\n",
      "                           'rougeL_f1': 0.2147196088076381,\n",
      "                           'rougeL_p': 0.2094605554679728,\n",
      "                           'rougeL_r': 0.22985793716402925,\n",
      "                           'rougeLsum_f1': 0.2147196088076381,\n",
      "                           'rougeLsum_p': 0.2094605554679728,\n",
      "                           'rougeLsum_r': 0.22985793716402925},\n",
      "             't5-imageguided-datatable': {'bertscore_f1': 0.8563775526963664,\n",
      "                                          'bertscore_p': 0.8675326438717831,\n",
      "                                          'bertscore_r': 0.8457963952537026,\n",
      "                                          'bleu': 4.062830677755489,\n",
      "                                          'bleurt': -1.0073588496352743,\n",
      "                                          'chrf': 23.758717225828306,\n",
      "                                          'rouge1_f1': 0.30050347948081546,\n",
      "                                          'rouge1_p': 0.3831915569330284,\n",
      "                                          'rouge1_r': 0.25886533041099347,\n",
      "                                          'rouge2_f1': 0.11878953515453974,\n",
      "                                          'rouge2_p': 0.1513678711078188,\n",
      "                                          'rouge2_r': 0.10255472936200148,\n",
      "                                          'rougeL_f1': 0.21750830774137958,\n",
      "                                          'rougeL_p': 0.27704323981857765,\n",
      "                                          'rougeL_r': 0.18761233076172343,\n",
      "                                          'rougeLsum_f1': 0.21750830774137958,\n",
      "                                          'rougeLsum_p': 0.27704323981857765,\n",
      "                                          'rougeLsum_r': 0.18761233076172343},\n",
      "             't5-imageguided-imageonly': {'bertscore_f1': 0.8565389053080898,\n",
      "                                          'bertscore_p': 0.8637402715191008,\n",
      "                                          'bertscore_r': 0.8498836392853536,\n",
      "                                          'bleu': 4.3721239962887175,\n",
      "                                          'bleurt': -1.083726567804344,\n",
      "                                          'chrf': 25.08771612507196,\n",
      "                                          'rouge1_f1': 0.3129186140895326,\n",
      "                                          'rouge1_p': 0.35884100193416685,\n",
      "                                          'rouge1_r': 0.2922840883930239,\n",
      "                                          'rouge2_f1': 0.11329352778405642,\n",
      "                                          'rouge2_p': 0.12952641891889433,\n",
      "                                          'rouge2_r': 0.10641406727949347,\n",
      "                                          'rougeL_f1': 0.2289888251835434,\n",
      "                                          'rougeL_p': 0.2617324632502761,\n",
      "                                          'rougeL_r': 0.21454418245436327,\n",
      "                                          'rougeLsum_f1': 0.2289888251835434,\n",
      "                                          'rougeLsum_p': 0.2617324632502761,\n",
      "                                          'rougeLsum_r': 0.21454418245436327},\n",
      "             't5-imageguided-scenegraph': {'bertscore_f1': 0.8558775265606082,\n",
      "                                           'bertscore_p': 0.8666033252837166,\n",
      "                                           'bertscore_r': 0.8457739011230382,\n",
      "                                           'bleu': 4.058593721623247,\n",
      "                                           'bleurt': -1.0086729182971743,\n",
      "                                           'chrf': 23.549317893916154,\n",
      "                                           'rouge1_f1': 0.29900717232783697,\n",
      "                                           'rouge1_p': 0.3780181507959808,\n",
      "                                           'rouge1_r': 0.260833213715126,\n",
      "                                           'rouge2_f1': 0.11567136961093728,\n",
      "                                           'rouge2_p': 0.14607466146176745,\n",
      "                                           'rouge2_r': 0.10123117001575567,\n",
      "                                           'rougeL_f1': 0.21544624268540327,\n",
      "                                           'rougeL_p': 0.27208609490448155,\n",
      "                                           'rougeL_r': 0.18828378862191555,\n",
      "                                           'rougeLsum_f1': 0.21544624268540327,\n",
      "                                           'rougeLsum_p': 0.27208609490448155,\n",
      "                                           'rougeLsum_r': 0.18828378862191555}})\n"
     ]
    }
   ],
   "source": [
    "vistext_id_to_shuffled_scores = np.load(\"./vistext_id_to_shuffled_sim_scores.npy\", allow_pickle=True).item()\n",
    "combined_method_scores = {}\n",
    "for caption_type in [\"heuristic\", \"gpt-4-turbo-L3\", \"gpt-4-turbo-alt-L3\", \"gpt-4-turbo-table-L3\", \"gpt-4-turbo-table-alt-L3\",\n",
    "                     \"t5-imageguided-imageonly\", \"t5-imageguided-datatable\", \"t5-imageguided-scenegraph\"]:\n",
    "    combined_method_scores[caption_type] = defaultdict(list)\n",
    "for image_id, caption_scores in vistext_id_to_shuffled_scores.items():\n",
    "    for caption_type, scores_dict in caption_scores.items():\n",
    "        for score_type, scores in scores_dict.items():\n",
    "            combined_method_scores[caption_type][score_type].extend(scores)\n",
    "caption_type_to_avg_scores = defaultdict(dict)\n",
    "for caption_type, caption_scores in combined_method_scores.items():\n",
    "    for score_type, scores in caption_scores.items():\n",
    "        caption_type_to_avg_scores[caption_type][score_type] = np.mean(scores)\n",
    "\n",
    "print(\"Shuffled Scores: \")\n",
    "pprint(caption_type_to_avg_scores)"
   ]
  }
 ],
 "metadata": {
  "kernelspec": {
   "display_name": "main",
   "language": "python",
   "name": "python3"
  },
  "language_info": {
   "codemirror_mode": {
    "name": "ipython",
    "version": 3
   },
   "file_extension": ".py",
   "mimetype": "text/x-python",
   "name": "python",
   "nbconvert_exporter": "python",
   "pygments_lexer": "ipython3",
   "version": "3.9.19"
  }
 },
 "nbformat": 4,
 "nbformat_minor": 2
}
