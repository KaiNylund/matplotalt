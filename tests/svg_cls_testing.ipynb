{
 "cells": [
  {
   "cell_type": "code",
   "execution_count": 20,
   "metadata": {},
   "outputs": [],
   "source": [
    "import numpy as np\n",
    "import matplotlib.pyplot as plt\n",
    "from xml.dom import minidom\n",
    "from collections import defaultdict\n",
    "import xml.etree.ElementTree as ET\n",
    "import math\n",
    "import umap\n",
    "import os\n",
    "import re\n",
    "import PIL\n",
    "import pickle\n",
    "from pprint import pprint\n",
    "from svg.path import parse_path\n",
    "from xml.dom import minidom\n",
    "from collections import Counter\n",
    "from tqdm import tqdm\n",
    "from bs4 import BeautifulSoup\n",
    "\n",
    "from sklearn.linear_model import LinearRegression\n",
    "from sklearn.svm import SVC\n",
    "from sklearn.tree import DecisionTreeClassifier\n",
    "\n",
    "np.random.seed(42)\n"
   ]
  },
  {
   "cell_type": "code",
   "execution_count": 15,
   "metadata": {},
   "outputs": [
    {
     "name": "stdout",
     "output_type": "stream",
     "text": [
      "{'version': '1.1', 'style': 'font-family: Arial;', 'width': '711', 'height': '399', 'viewBox': '0 0 711 399', 'xmlns': 'http://www.w3.org/2000/svg'}\n",
      "{}\n",
      "{}\n",
      "{'class': 'scaler', 'transform': 'scale(0.88875)'}\n",
      "{'width': '800', 'height': '450', 'fill': 'rgb(255, 255, 255)', 'fill-opacity': '1'}\n",
      "{'class': 'canvas', 'transform': 'translate(96,72)'}\n",
      "{'class': 'grid'}\n",
      "{'class': 'axis-grid x', 'transform': 'translate(0,303)'}\n",
      "{'class': 'axis-grid y', 'transform': 'translate(1,0)'}\n",
      "{'class': 'axis-grid y2', 'transform': 'translate(486.5,0)'}\n",
      "{'class': 'axis-grid x2', 'transform': 'translate(0,1)'}\n",
      "{'class': 'trigger-layer', 'height': '379', 'width': '724', 'opacity': '0'}\n",
      "{'class': 'chart'}\n",
      "{'class': 'series s0'}\n",
      "{'class': 'bar'}\n",
      "{'fill': 'rgb(120, 140, 139)', 'opacity': '1', 'x': '32.3125', 'width': '17.321428571428573', 'y': '301.8627272727273', 'height': '0.1372727272727161', 'clip-path': 'url(#chart-clipPath-exact)'}\n",
      "{'class': 'bar'}\n",
      "{'fill': 'rgb(120, 140, 139)', 'opacity': '1', 'x': '183.875', 'width': '17.321428571428573', 'y': '300.5202', 'height': '1.4798000000000116', 'clip-path': 'url(#chart-clipPath-exact)'}\n",
      "{'class': 'bar'}\n",
      "{'fill': 'rgb(120, 140, 139)', 'opacity': '1', 'x': '335.4375', 'width': '17.321428571428573', 'y': '300.3829272727273', 'height': '1.6170727272727277', 'clip-path': 'url(#chart-clipPath-exact)'}\n",
      "{'class': 'series s1'}\n",
      "{'class': 'bar'}\n",
      "{'fill': 'rgb(0, 119, 149)', 'opacity': '1', 'x': '49.63392857142857', 'width': '17.321428571428573', 'y': '302', 'height': '0', 'clip-path': 'url(#chart-clipPath-exact)'}\n",
      "{'class': 'bar'}\n",
      "{'fill': 'rgb(0, 119, 149)', 'opacity': '1', 'x': '201.19642857142858', 'width': '17.321428571428573', 'y': '302', 'height': '0', 'clip-path': 'url(#chart-clipPath-exact)'}\n",
      "{'class': 'bar'}\n",
      "{'fill': 'rgb(0, 119, 149)', 'opacity': '1', 'x': '352.75892857142856', 'width': '17.321428571428573', 'y': '302', 'height': '0', 'clip-path': 'url(#chart-clipPath-exact)'}\n",
      "{'class': 'series s2'}\n",
      "{'class': 'bar'}\n",
      "{'fill': 'rgb(0, 186, 201)', 'opacity': '1', 'x': '66.95535714285714', 'width': '17.321428571428573', 'y': '170.21818181818182', 'height': '131.78181818181818', 'clip-path': 'url(#chart-clipPath-exact)'}\n",
      "{'class': 'bar'}\n",
      "{'fill': 'rgb(0, 186, 201)', 'opacity': '1', 'x': '218.51785714285714', 'width': '17.321428571428573', 'y': '300.3252727272727', 'height': '1.6747272727272957', 'clip-path': 'url(#chart-clipPath-exact)'}\n",
      "{'class': 'bar'}\n",
      "{'fill': 'rgb(0, 186, 201)', 'opacity': '1', 'x': '370.08035714285717', 'width': '17.321428571428573', 'y': '300.16054545454546', 'height': '1.8394545454545437', 'clip-path': 'url(#chart-clipPath-exact)'}\n",
      "{'class': 'series s3'}\n",
      "{'class': 'bar'}\n",
      "{'fill': 'rgb(255, 120, 65)', 'opacity': '1', 'x': '84.27678571428572', 'width': '17.321428571428573', 'y': '169.85852727272726', 'height': '132.14147272727274', 'clip-path': 'url(#chart-clipPath-exact)'}\n",
      "{'class': 'bar'}\n",
      "{'fill': 'rgb(255, 120, 65)', 'opacity': '1', 'x': '235.83928571428572', 'width': '17.321428571428573', 'y': '298.62858181818183', 'height': '3.3714181818181714', 'clip-path': 'url(#chart-clipPath-exact)'}\n",
      "{'class': 'bar'}\n",
      "{'fill': 'rgb(255, 120, 65)', 'opacity': '1', 'x': '387.4017857142857', 'width': '17.321428571428573', 'y': '287.6961818181818', 'height': '14.303818181818201', 'clip-path': 'url(#chart-clipPath-exact)'}\n",
      "{'class': 'series s4'}\n",
      "{'class': 'bar'}\n",
      "{'fill': 'rgb(215, 213, 200)', 'opacity': '1', 'x': '101.59821428571429', 'width': '17.321428571428573', 'y': '176.87041818181817', 'height': '125.12958181818183', 'clip-path': 'url(#chart-clipPath-exact)'}\n",
      "{'class': 'bar'}\n",
      "{'fill': 'rgb(215, 213, 200)', 'opacity': '1', 'x': '253.16071428571428', 'width': '17.321428571428573', 'y': '301.8242909090909', 'height': '0.1757090909090948', 'clip-path': 'url(#chart-clipPath-exact)'}\n",
      "{'class': 'bar'}\n",
      "{'fill': 'rgb(215, 213, 200)', 'opacity': '1', 'x': '404.7232142857143', 'width': '17.321428571428573', 'y': '301.8242909090909', 'height': '0.1757090909090948', 'clip-path': 'url(#chart-clipPath-exact)'}\n",
      "{'class': 'series s5'}\n",
      "{'class': 'bar'}\n",
      "{'fill': 'rgb(120, 140, 139)', 'opacity': '1', 'x': '118.91964285714286', 'width': '17.321428571428573', 'y': '160.71616363636363', 'height': '141.28383636363637', 'clip-path': 'url(#chart-clipPath-exact)'}\n",
      "{'class': 'bar'}\n",
      "{'fill': 'rgb(120, 140, 139)', 'opacity': '1', 'x': '270.4821428571429', 'width': '17.321428571428573', 'y': '284.786', 'height': '17.214', 'clip-path': 'url(#chart-clipPath-exact)'}\n",
      "{'class': 'bar'}\n",
      "{'fill': 'rgb(120, 140, 139)', 'opacity': '1', 'x': '422.0446428571429', 'width': '17.321428571428573', 'y': '160.71616363636363', 'height': '141.28383636363637', 'clip-path': 'url(#chart-clipPath-exact)'}\n",
      "{'class': 'series s6'}\n",
      "{'class': 'bar'}\n",
      "{'fill': 'rgb(0, 119, 149)', 'opacity': '1', 'x': '136.24107142857144', 'width': '17.321428571428573', 'y': '289.1814727272727', 'height': '12.818527272727295', 'clip-path': 'url(#chart-clipPath-exact)'}\n",
      "{'class': 'bar'}\n",
      "{'fill': 'rgb(0, 119, 149)', 'opacity': '1', 'x': '287.80357142857144', 'width': '17.321428571428573', 'y': '2.1743999999999915', 'height': '299.8256', 'clip-path': 'url(#chart-clipPath-exact)'}\n",
      "{'class': 'bar'}\n",
      "{'fill': 'rgb(0, 119, 149)', 'opacity': '1', 'x': '439.36607142857144', 'width': '17.321428571428573', 'y': '26.54030909090909', 'height': '275.4596909090909', 'clip-path': 'url(#chart-clipPath-exact)'}\n",
      "{'class': 'axes'}\n",
      "{'class': 'axis-labels'}\n",
      "{'class': 'bottom'}\n",
      "{'class': 'label', 'transform': 'translate(243.5,332)'}\n",
      "{'style': 'text-anchor: middle; font-family: Arial; font-size: 16px;', 'fill': 'rgb(102, 102, 102)', 'dy': '16', 'transform': 'rotate(0)'}\n",
      "{'class': 'left'}\n",
      "{'class': 'label', 'transform': 'translate(-71,152)'}\n",
      "{'style': 'text-anchor: middle; font-family: Arial; font-size: 16px;', 'fill': 'rgb(102, 102, 102)', 'dy': '16', 'transform': 'rotate(270)'}\n",
      "{'class': 'axis bottom', 'transform': 'translate(0,303)'}\n",
      "{'class': 'tick major', 'style': 'opacity: 1; display: block;', 'transform': 'translate(92.9375,0)'}\n",
      "{'y2': '7', 'x2': '0'}\n",
      "{'y': '10', 'x': '0', 'dy': '7', 'style': 'text-anchor: middle; fill: rgb(102, 102, 102); fill-opacity: 1; font-family: Arial; font-size: 14px;', 'transform': 'rotate(0, 0, 10)translate(0,0)', 'data-org-x': '0', 'data-org-y': '10'}\n",
      "{'class': 'tick major', 'style': 'opacity: 1; display: block;', 'transform': 'translate(244.5,0)'}\n",
      "{'y2': '7', 'x2': '0'}\n",
      "{'y': '10', 'x': '0', 'dy': '7', 'style': 'text-anchor: middle; fill: rgb(102, 102, 102); fill-opacity: 1; font-family: Arial; font-size: 14px;', 'transform': 'rotate(0, 0, 10)translate(0,0)', 'data-org-x': '0', 'data-org-y': '10'}\n",
      "{'class': 'tick major', 'style': 'opacity: 1; display: block;', 'transform': 'translate(396.0625,0)'}\n",
      "{'y2': '7', 'x2': '0'}\n",
      "{'y': '10', 'x': '0', 'dy': '7', 'style': 'text-anchor: middle; fill: rgb(102, 102, 102); fill-opacity: 1; font-family: Arial; font-size: 14px;', 'transform': 'rotate(0, 0, 10)translate(0,0)', 'data-org-x': '0', 'data-org-y': '10'}\n",
      "{'class': 'domain', 'd': 'M2,0V0H487V0', 'stroke-width': '2', 'fill': 'none', 'stroke': 'rgb(188, 188, 188)', 'stroke-opacity': '1'}\n",
      "{'class': 'filler', 'd': 'M0,0V0H2V0', 'stroke-width': '2', 'fill': 'none', 'stroke': 'rgb(188, 188, 188)', 'stroke-opacity': '1'}\n",
      "{'class': 'axis left', 'transform': 'translate(1,0)'}\n",
      "{'class': 'tick major', 'style': 'opacity: 1; display: block;', 'transform': 'translate(0,302)'}\n",
      "{'x2': '-7', 'y2': '0'}\n",
      "{'x': '-10', 'y': '0', 'dy': '7', 'style': 'text-anchor: end; fill: rgb(102, 102, 102); fill-opacity: 1; font-family: Arial; font-size: 14px;', 'transform': 'rotate(0, -10, 0)translate(0,0)', 'data-org-x': '-10', 'data-org-y': '0'}\n",
      "{'class': 'tick major', 'style': 'opacity: 1; display: block;', 'transform': 'translate(0,247.0909090909091)'}\n",
      "{'x2': '-7', 'y2': '0'}\n",
      "{'x': '-10', 'y': '0', 'dy': '7', 'style': 'text-anchor: end; fill: rgb(102, 102, 102); fill-opacity: 1; font-family: Arial; font-size: 14px;', 'transform': 'rotate(0, -10, 0)translate(0,0)', 'data-org-x': '-10', 'data-org-y': '0'}\n",
      "{'class': 'tick major', 'style': 'opacity: 1; display: block;', 'transform': 'translate(0,192.1818181818182)'}\n",
      "{'x2': '-7', 'y2': '0'}\n",
      "{'x': '-10', 'y': '0', 'dy': '7', 'style': 'text-anchor: end; fill: rgb(102, 102, 102); fill-opacity: 1; font-family: Arial; font-size: 14px;', 'transform': 'rotate(0, -10, 0)translate(0,0)', 'data-org-x': '-10', 'data-org-y': '0'}\n",
      "{'class': 'tick major', 'style': 'opacity: 1; display: block;', 'transform': 'translate(0,137.27272727272728)'}\n",
      "{'x2': '-7', 'y2': '0'}\n",
      "{'x': '-10', 'y': '0', 'dy': '7', 'style': 'text-anchor: end; fill: rgb(102, 102, 102); fill-opacity: 1; font-family: Arial; font-size: 14px;', 'transform': 'rotate(0, -10, 0)translate(0,0)', 'data-org-x': '-10', 'data-org-y': '0'}\n",
      "{'class': 'tick major', 'style': 'opacity: 1; display: block;', 'transform': 'translate(0,82.36363636363635)'}\n",
      "{'x2': '-7', 'y2': '0'}\n",
      "{'x': '-10', 'y': '0', 'dy': '7', 'style': 'text-anchor: end; fill: rgb(102, 102, 102); fill-opacity: 1; font-family: Arial; font-size: 14px;', 'transform': 'rotate(0, -10, 0)translate(0,0)', 'data-org-x': '-10', 'data-org-y': '0'}\n",
      "{'class': 'tick major', 'style': 'opacity: 1; display: block;', 'transform': 'translate(0,27.45454545454544)'}\n",
      "{'x2': '-7', 'y2': '0'}\n",
      "{'x': '-10', 'y': '0', 'dy': '7', 'style': 'text-anchor: end; fill: rgb(102, 102, 102); fill-opacity: 1; font-family: Arial; font-size: 14px;', 'transform': 'rotate(0, -10, 0)translate(0,0)', 'data-org-x': '-10', 'data-org-y': '0'}\n",
      "{'class': 'domain', 'd': 'M0,0H0V302H0', 'stroke-width': '2', 'fill': 'none', 'stroke': 'rgb(188, 188, 188)', 'stroke-opacity': '1'}\n",
      "{'class': 'label', 'transform': 'translate(25,25)'}\n",
      "{'style': 'text-anchor: start; font-family: Arial; font-size: 22px;', 'fill': 'rgb(102, 102, 102)', 'dy': '22', 'transform': 'rotate(0)'}\n",
      "{'class': 'legend', 'transform': 'translate(607.1013488769531,25)'}\n",
      "{'class': 'row', 'transform': 'translate(0,0)'}\n",
      "{'class': 'key', 'style': 'font-size: 14px; fill: rgb(102, 102, 102); fill-opacity: 1;', 'dx': '28', 'dy': '14'}\n",
      "{'class': 'shape', 'd': 'M0,7.898654169668588A7.898654169668588,7.898654169668588 0 1,1 0,-7.898654169668588A7.898654169668588,7.898654169668588 0 1,1 0,7.898654169668588Z', 'style': 'fill: rgb(120, 140, 139); fill-opacity: 1;', 'transform': 'translate(14,9.24)'}\n",
      "{'class': 'row', 'transform': 'translate(0,30.138652801513672)'}\n",
      "{'class': 'key', 'style': 'font-size: 14px; fill: rgb(102, 102, 102); fill-opacity: 1;', 'dx': '28', 'dy': '14'}\n",
      "{'class': 'shape', 'd': 'M0,7.898654169668588A7.898654169668588,7.898654169668588 0 1,1 0,-7.898654169668588A7.898654169668588,7.898654169668588 0 1,1 0,7.898654169668588Z', 'style': 'fill: rgb(0, 119, 149); fill-opacity: 1;', 'transform': 'translate(14,9.24)'}\n",
      "{'class': 'row', 'transform': 'translate(0,60.277305603027344)'}\n",
      "{'class': 'key', 'style': 'font-size: 14px; fill: rgb(102, 102, 102); fill-opacity: 1;', 'dx': '28', 'dy': '14'}\n",
      "{'class': 'shape', 'd': 'M0,7.898654169668588A7.898654169668588,7.898654169668588 0 1,1 0,-7.898654169668588A7.898654169668588,7.898654169668588 0 1,1 0,7.898654169668588Z', 'style': 'fill: rgb(0, 186, 201); fill-opacity: 1;', 'transform': 'translate(14,9.24)'}\n",
      "{'class': 'row', 'transform': 'translate(0,90.41595840454102)'}\n",
      "{'class': 'key', 'style': 'font-size: 14px; fill: rgb(102, 102, 102); fill-opacity: 1;', 'dx': '28', 'dy': '14'}\n",
      "{'class': 'shape', 'd': 'M0,7.898654169668588A7.898654169668588,7.898654169668588 0 1,1 0,-7.898654169668588A7.898654169668588,7.898654169668588 0 1,1 0,7.898654169668588Z', 'style': 'fill: rgb(255, 120, 65); fill-opacity: 1;', 'transform': 'translate(14,9.24)'}\n",
      "{'class': 'row', 'transform': 'translate(0,120.55461120605469)'}\n",
      "{'class': 'key', 'style': 'font-size: 14px; fill: rgb(102, 102, 102); fill-opacity: 1;', 'dx': '28', 'dy': '14'}\n",
      "{'class': 'shape', 'd': 'M0,7.898654169668588A7.898654169668588,7.898654169668588 0 1,1 0,-7.898654169668588A7.898654169668588,7.898654169668588 0 1,1 0,7.898654169668588Z', 'style': 'fill: rgb(215, 213, 200); fill-opacity: 1;', 'transform': 'translate(14,9.24)'}\n",
      "{'class': 'row', 'transform': 'translate(0,150.69326400756836)'}\n",
      "{'class': 'key', 'style': 'font-size: 14px; fill: rgb(102, 102, 102); fill-opacity: 1;', 'dx': '28', 'dy': '14'}\n",
      "{'class': 'shape', 'd': 'M0,7.898654169668588A7.898654169668588,7.898654169668588 0 1,1 0,-7.898654169668588A7.898654169668588,7.898654169668588 0 1,1 0,7.898654169668588Z', 'style': 'fill: rgb(120, 140, 139); fill-opacity: 1;', 'transform': 'translate(14,9.24)'}\n",
      "{'class': 'row', 'transform': 'translate(0,180.83191680908203)'}\n",
      "{'class': 'key', 'style': 'font-size: 14px; fill: rgb(102, 102, 102); fill-opacity: 1;', 'dx': '28', 'dy': '14'}\n",
      "{'class': 'shape', 'd': 'M0,7.898654169668588A7.898654169668588,7.898654169668588 0 1,1 0,-7.898654169668588A7.898654169668588,7.898654169668588 0 1,1 0,7.898654169668588Z', 'style': 'fill: rgb(0, 119, 149); fill-opacity: 1;', 'transform': 'translate(14,9.24)'}\n",
      "{'class': 'branding', 'transform': 'translate(685,429)'}\n",
      "{'href': 'http://www.chartblocks.com', 'target': '_blank', 'title': 'powered by ChartBlocks'}\n",
      "{'width': '110', 'height': '16', 'href': 'data:image/svg+xml;base64,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'}\n",
      "{'id': 'chart-clipPath-exact'}\n",
      "{'height': '304', 'width': '487'}\n",
      "{'id': 'chart-clipPath-buffer'}\n",
      "{'x': '-10', 'y': '-10', 'height': '324', 'width': '507'}\n"
     ]
    }
   ],
   "source": [
    "#svg_dom = parse(\"./svg_datasets/chartblocks/charts/0a0a3a73-56e6-4a5d-9a65-45fa77288444/svg.txt\")\n",
    "# Reading the data inside the xml\n",
    "# file to a variable under the name \n",
    "# data\n",
    "with open(\"./svg_datasets/chartblocks/charts/0a0a3a73-56e6-4a5d-9a65-45fa77288444/svg.txt\", 'r') as f:\n",
    "#with open(\"./test.svg\", 'r') as f:\n",
    "    data = f.read()\n",
    " \n",
    "# Passing the stored data inside\n",
    "# the beautifulsoup parser, storing\n",
    "# the returned object \n",
    "Bs_data = BeautifulSoup(data, \"xml\")\n",
    "\n",
    "for tag in Bs_data.find_all():\n",
    "    print(tag.attrs)"
   ]
  },
  {
   "cell_type": "code",
   "execution_count": 15,
   "metadata": {},
   "outputs": [],
   "source": [
    "id_to_chart_type = {\n",
    "    -1: \"other\",\n",
    "    1: \"line\",\n",
    "    2: \"scatter\",\n",
    "    4: \"bar\",\n",
    "    7: \"heat_map\",\n",
    "    9: \"box-plot\",\n",
    "    10: \"bubble\",\n",
    "    13: \"sankey\",\n",
    "    14: \"chord\",\n",
    "    15: \"radial\",\n",
    "    16: \"area\",\n",
    "    18: \"donut\",\n",
    "    19: \"choropleth\",\n",
    "    22: \"treemap\",\n",
    "    29: \"pie\",\n",
    "    31: \"stream_graph\",\n",
    "    33: \"hexabin\",\n",
    "    35: \"graph\",\n",
    "    37: \"parallel_coordinates\",\n",
    "    38: \"sunburst\",\n",
    "    39: \"waffle\",\n",
    "    40: \"voronoi\",\n",
    "    41: \"word_cloud\",\n",
    "    60: \"contour\",\n",
    "    61: \"filled-line\",\n",
    "    62: \"scattergeo\"\n",
    "}\n",
    "chart_type_to_id = {v: k for k, v in id_to_chart_type.items()}"
   ]
  },
  {
   "cell_type": "code",
   "execution_count": 7,
   "metadata": {},
   "outputs": [],
   "source": [
    "def extract_svg_features(svg_path, return_dict=False):\n",
    "    with open(svg_path, 'r') as f:\n",
    "        svg_text = f.read()\n",
    "\n",
    "    svg_data = BeautifulSoup(svg_text, \"xml\")\n",
    "\n",
    "    svg_features = {\n",
    "        \"num_path_h_lines\": 0, # H or h\n",
    "        \"num_path_v_lines\": 0, # V or v\n",
    "        \"num_path_q_points\": 0, # Q or q\n",
    "        \"num_path_a_points\": 0 # A or a\n",
    "    }\n",
    "    svg_height = 0\n",
    "    svg_width = 0\n",
    "    svg_diagonal_len = 0\n",
    "    tag_to_count = {\"rect\": 0, \"line\": 0, \"path\": 0, \"circle\": 0, \"text\": 0}\n",
    "    tag_class_to_count = {\"line\": 0, \"surface\": 0, \"annotation\": 0, \"slice\": 0, \"circle\": 0}\n",
    "    svg_positions = []\n",
    "    svg_x_positions = []\n",
    "    svg_y_positions = []\n",
    "    #svg_line_lens = []\n",
    "    svg_path_num_pts = []\n",
    "    svg_circle_radii = []\n",
    "    svg_rect_widths = []\n",
    "    svg_rect_heights = []\n",
    "    svg_unique_classes = set()\n",
    "    svg_unique_fill_colors = set()\n",
    "    svg_unique_stroke_colors = set()\n",
    "    svg_stroke_widths = []\n",
    "    svg_font_sizes = []\n",
    "\n",
    "    for child in svg_data.find_all():\n",
    "        tag_type = child.name\n",
    "        cur_attrib = child.attrs\n",
    "        #print(tag_type, cur_attrib)\n",
    "        if tag_type in tag_to_count:\n",
    "            tag_to_count[tag_type] += 1\n",
    "\n",
    "        if \"class\" in cur_attrib:\n",
    "            svg_unique_classes.add(cur_attrib[\"class\"])\n",
    "            if cur_attrib[\"class\"] in tag_class_to_count:\n",
    "                tag_class_to_count[cur_attrib[\"class\"]] += 1\n",
    "        if \"style\" in cur_attrib:\n",
    "            fill = re.search(r\"fill: (.*?[\\da-zA-Z(),\\s#]+)\", cur_attrib[\"style\"])\n",
    "            stroke = re.search(r\"stroke: (.*?[\\da-zA-Z(),\\s#]+)\", cur_attrib[\"style\"])\n",
    "            stroke_width = re.search(r\"stroke-width: (.*?[\\da-zA-Z(),\\s#]+)\", cur_attrib[\"style\"])\n",
    "            if fill and \"none\" not in fill.group(1):\n",
    "                svg_unique_fill_colors.add(fill.group(1))\n",
    "            if stroke and \"none\" not in stroke.group(1):\n",
    "                svg_unique_stroke_colors.add(stroke.group(1))\n",
    "            if stroke_width and \"none\" not in stroke_width.group(1):\n",
    "                svg_stroke_widths.append(float(re.sub(r'[a-zA-Z]', \"\", stroke_width.group(1))))\n",
    "            if tag_type == \"text\":\n",
    "                font_size = re.search(r\"font-size: (.*?[\\da-zA-Z(),\\s#]+)\", cur_attrib[\"style\"])\n",
    "                if font_size and \"none\" not in font_size.group(1):\n",
    "                    svg_font_sizes.append(float(re.sub(r'[a-zA-Z]', \"\", font_size.group(1))))\n",
    "\n",
    "        if \"x\" in cur_attrib and \"y\" in cur_attrib:\n",
    "            svg_positions.append((float(cur_attrib[\"x\"]), float(cur_attrib[\"y\"])))\n",
    "            svg_x_positions.append(float(cur_attrib[\"x\"]))\n",
    "            svg_y_positions.append(float(cur_attrib[\"y\"]))\n",
    "\n",
    "        if tag_type == \"svg\":\n",
    "            svg_width = float(re.sub(r'[a-zA-Z]', \"\", cur_attrib[\"width\"]))\n",
    "            svg_height = float(re.sub(r'[a-zA-Z]', \"\", cur_attrib[\"height\"]))\n",
    "            svg_diagonal_len = math.sqrt(svg_width**2 + svg_height**2)\n",
    "        elif tag_type == \"rect\":\n",
    "            svg_rect_widths.append(float(cur_attrib[\"width\"]))\n",
    "            svg_rect_heights.append(float(cur_attrib[\"height\"]))\n",
    "        elif tag_type == \"circle\":\n",
    "            svg_circle_radii.append(float(cur_attrib[\"r\"]))\n",
    "        elif tag_type == \"path\" and \"d\" in cur_attrib:\n",
    "            d_attrib = cur_attrib[\"d\"].lower()\n",
    "            svg_features[\"num_path_h_lines\"] += d_attrib.count(\"h\")\n",
    "            svg_features[\"num_path_v_lines\"] += d_attrib.count(\"v\")\n",
    "            svg_features[\"num_path_a_points\"] += d_attrib.count(\"a\")\n",
    "            svg_features[\"num_path_q_points\"] += d_attrib.count(\"q\")\n",
    "            svg_path_num_pts.append(len(re.findall(r\"[a-z]\", d_attrib)))\n",
    "\n",
    "    svg_features[\"rect_count\"] = tag_to_count[\"rect\"]\n",
    "    svg_features[\"line_count\"] = tag_to_count[\"line\"]\n",
    "    svg_features[\"path_count\"] = tag_to_count[\"path\"]\n",
    "    svg_features[\"circle_count\"] = tag_to_count[\"circle\"]\n",
    "    svg_features[\"text_count\"] = tag_to_count[\"text\"]\n",
    "    #svg_features[\"line_class_count\"] = tag_class_to_count[\"line\"]\n",
    "    #svg_features[\"surface_class_count\"] = tag_class_to_count[\"surface\"]\n",
    "    #svg_features[\"annotation_class_count\"] = tag_class_to_count[\"annotation\"]\n",
    "    #svg_features[\"circle_class_count\"] = tag_class_to_count[\"circle\"]\n",
    "    #svg_features[\"slice_class_count\"] = tag_class_to_count[\"slice\"]\n",
    "    svg_features[\"num_unique_classes\"] = len(svg_unique_classes)\n",
    "    svg_features[\"num_unique_fill_colors\"] = len(svg_unique_fill_colors)\n",
    "    svg_features[\"num_unique_stroke_colors\"] = len(svg_unique_stroke_colors)\n",
    "    svg_features[\"num_unique_font_sizes\"] = len(set(svg_font_sizes))\n",
    "\n",
    "    if len(svg_font_sizes) == 0:\n",
    "        svg_features[\"font_size_std\"] = 0\n",
    "        svg_features[\"font_size_min\"] = 0\n",
    "        svg_features[\"font_size_max\"] = 0\n",
    "    else:\n",
    "        svg_features[\"font_size_std\"] = np.std(svg_font_sizes)\n",
    "        svg_features[\"font_size_min\"] = np.min(svg_font_sizes)\n",
    "        svg_features[\"font_size_max\"] = np.max(svg_font_sizes)\n",
    "\n",
    "    if len(svg_stroke_widths) == 0:\n",
    "        svg_features[\"stroke_width_min\"] = 0\n",
    "        svg_features[\"stroke_width_max\"] = 0\n",
    "    else:\n",
    "        svg_features[\"stroke_width_min\"] = np.min(svg_stroke_widths)\n",
    "        svg_features[\"stroke_width_max\"] = np.max(svg_stroke_widths)\n",
    "\n",
    "    positions_counter = Counter(svg_positions)\n",
    "    svg_features[\"avg_duplicate_positions\"] = np.mean([v for k, v in positions_counter.items()])\n",
    "    svg_features[\"total_unique_positions\"] = len(positions_counter)\n",
    "    norm_x_pos = np.array(svg_x_positions) / svg_width\n",
    "    norm_y_pos = np.array(svg_y_positions) / svg_height\n",
    "    svg_features[\"x_pos_mean\"] = np.mean(norm_x_pos)\n",
    "    svg_features[\"x_pos_std\"] = np.std(norm_x_pos)\n",
    "    svg_features[\"x_pos_max\"] = np.max(norm_x_pos)\n",
    "    svg_features[\"x_pos_min\"] = np.min(norm_x_pos)\n",
    "    svg_features[\"y_pos_mean\"] = np.mean(norm_y_pos)\n",
    "    svg_features[\"y_pos_std\"] = np.std(norm_y_pos)\n",
    "    svg_features[\"y_pos_max\"] = np.max(norm_y_pos)\n",
    "    svg_features[\"y_pos_min\"] = np.min(norm_y_pos)\n",
    "\n",
    "    #if len(svg_circle_radii) == 0:\n",
    "    #    svg_features[\"circle_radii_max_duplicates\"] = 0\n",
    "    #    svg_features[\"circle_radii_std\"] = 0\n",
    "    #    svg_features[\"circle_radii_max\"] = 0\n",
    "    #    svg_features[\"circle_radii_min\"] = 0\n",
    "    #else:\n",
    "    #    circle_radii_counter = Counter(svg_circle_radii)\n",
    "    #    norm_radii = np.aray(svg_circle_radii) / svg_diagonal_len\n",
    "    #    svg_features[\"circle_radii_max_duplicates\"] = np.max(list(circle_radii_counter.values()))\n",
    "    #    svg_features[\"circle_radii_std\"] = np.std(norm_radii)\n",
    "    #    svg_features[\"circle_radii_max\"] = np.max(norm_radii)\n",
    "    #    svg_features[\"circle_radii_min\"] = np.min(norm_radii)\n",
    "\n",
    "    if len(svg_rect_widths) == 0:\n",
    "        svg_features[\"rect_width_max_duplicates\"] = 0\n",
    "        svg_features[\"rect_width_std\"] = 0\n",
    "        svg_features[\"rect_width_max\"] = 0\n",
    "        svg_features[\"rect_width_min\"] = 0\n",
    "        svg_features[\"rect_height_max_duplicates\"] = 0\n",
    "        svg_features[\"rect_height_std\"] = 0\n",
    "        svg_features[\"rect_height_max\"] = 0\n",
    "        svg_features[\"rect_height_min\"] = 0\n",
    "    else:\n",
    "        rect_width_counter = Counter(svg_rect_widths)\n",
    "        norm_rect_widths = np.array(svg_rect_widths) / svg_width\n",
    "        svg_features[\"rect_width_max_duplicates\"] = np.max(list(rect_width_counter.values()))\n",
    "        svg_features[\"rect_width_std\"] = np.std(norm_rect_widths)\n",
    "        svg_features[\"rect_width_max\"] = np.max(norm_rect_widths)\n",
    "        svg_features[\"rect_width_min\"] = np.min(norm_rect_widths)\n",
    "\n",
    "        rect_height_counter = Counter(svg_rect_heights)\n",
    "        norm_rect_heights = np.array(svg_rect_heights) / svg_height\n",
    "        svg_features[\"rect_height_max_duplicates\"] = np.max(list(rect_height_counter.values()))\n",
    "        svg_features[\"rect_height_std\"] = np.std(norm_rect_heights)\n",
    "        svg_features[\"rect_height_max\"] = np.max(norm_rect_heights)\n",
    "        svg_features[\"rect_height_min\"] = np.min(norm_rect_heights)\n",
    "\n",
    "    if len(svg_path_num_pts) == 0:\n",
    "        svg_features[\"num_path_pts_std\"] = 0\n",
    "        svg_features[\"num_path_pts_mean\"] = 0\n",
    "        svg_features[\"num_path_pts_max\"] = 0\n",
    "        svg_features[\"num_path_pts_min\"] = 0\n",
    "    else:\n",
    "        svg_features[\"num_path_pts_std\"] = np.std(svg_path_num_pts)\n",
    "        svg_features[\"num_path_pts_mean\"] = np.mean(svg_path_num_pts)\n",
    "        svg_features[\"num_path_pts_max\"] = np.max(svg_path_num_pts)\n",
    "        svg_features[\"num_path_pts_min\"] = np.min(svg_path_num_pts)\n",
    "\n",
    "    if return_dict:\n",
    "        return svg_features\n",
    "    else:\n",
    "        svg_feature_arr = []\n",
    "        svg_feature_names = []\n",
    "        for feature_name, feature_val in svg_features.items():\n",
    "            svg_feature_arr.append(feature_val)\n",
    "            svg_feature_names.append(feature_name)\n",
    "        return svg_feature_arr, svg_feature_names\n"
   ]
  },
  {
   "cell_type": "code",
   "execution_count": 120,
   "metadata": {},
   "outputs": [
    {
     "name": "stdout",
     "output_type": "stream",
     "text": [
      "{'avg_duplicate_positions': 2.272727272727273,\n",
      " 'circle_count': 0,\n",
      " 'font_size_max': 14.0,\n",
      " 'font_size_min': 12.0,\n",
      " 'font_size_std': 0.6614378277661477,\n",
      " 'line_count': 0,\n",
      " 'num_path_a_points': 1834,\n",
      " 'num_path_h_lines': 14,\n",
      " 'num_path_pts_max': 739,\n",
      " 'num_path_pts_mean': 5.787488500459982,\n",
      " 'num_path_pts_min': 2,\n",
      " 'num_path_pts_std': 26.15019089331409,\n",
      " 'num_path_q_points': 0,\n",
      " 'num_path_v_lines': 11,\n",
      " 'num_unique_classes': 52,\n",
      " 'num_unique_fill_colors': 6,\n",
      " 'num_unique_font_sizes': 2,\n",
      " 'num_unique_stroke_colors': 4,\n",
      " 'path_count': 1087,\n",
      " 'rect_count': 11,\n",
      " 'rect_height_max': 1.0,\n",
      " 'rect_height_max_duplicates': 4,\n",
      " 'rect_height_min': 0.0,\n",
      " 'rect_height_std': 0.3742467476133541,\n",
      " 'rect_width_max': 1.0,\n",
      " 'rect_width_max_duplicates': 4,\n",
      " 'rect_width_min': 0.0,\n",
      " 'rect_width_std': 0.3603767222763508,\n",
      " 'stroke_width_max': 2.0,\n",
      " 'stroke_width_min': 0.0,\n",
      " 'text_count': 16,\n",
      " 'total_unique_positions': 11,\n",
      " 'x_pos_max': 0.99,\n",
      " 'x_pos_mean': 0.07697142857142858,\n",
      " 'x_pos_min': -0.01,\n",
      " 'x_pos_std': 0.21067174195212526,\n",
      " 'y_pos_max': 0.982,\n",
      " 'y_pos_mean': 0.2595488,\n",
      " 'y_pos_min': -0.019,\n",
      " 'y_pos_std': 0.3383431234509725}\n"
     ]
    }
   ],
   "source": [
    "pprint(extract_svg_features(\"./svg_datasets/plotly_export/charts/312/svg.txt\", return_dict=True))"
   ]
  },
  {
   "cell_type": "code",
   "execution_count": 121,
   "metadata": {},
   "outputs": [
    {
     "name": "stderr",
     "output_type": "stream",
     "text": [
      "  0%|          | 0/15232 [00:00<?, ?it/s]"
     ]
    },
    {
     "name": "stderr",
     "output_type": "stream",
     "text": [
      "  7%|▋         | 1015/15232 [00:17<06:16, 37.77it/s]/Users/kainylund/opt/anaconda3/envs/arkenv/lib/python3.10/site-packages/numpy/core/fromnumeric.py:3432: RuntimeWarning: Mean of empty slice.\n",
      "  return _methods._mean(a, axis=axis, dtype=dtype,\n",
      "/Users/kainylund/opt/anaconda3/envs/arkenv/lib/python3.10/site-packages/numpy/core/_methods.py:190: RuntimeWarning: invalid value encountered in double_scalars\n",
      "  ret = ret.dtype.type(ret / rcount)\n",
      "/Users/kainylund/opt/anaconda3/envs/arkenv/lib/python3.10/site-packages/numpy/core/_methods.py:265: RuntimeWarning: Degrees of freedom <= 0 for slice\n",
      "  ret = _var(a, axis=axis, dtype=dtype, out=out, ddof=ddof,\n",
      "/Users/kainylund/opt/anaconda3/envs/arkenv/lib/python3.10/site-packages/numpy/core/_methods.py:223: RuntimeWarning: invalid value encountered in divide\n",
      "  arrmean = um.true_divide(arrmean, div, out=arrmean, casting='unsafe',\n",
      "/Users/kainylund/opt/anaconda3/envs/arkenv/lib/python3.10/site-packages/numpy/core/_methods.py:257: RuntimeWarning: invalid value encountered in double_scalars\n",
      "  ret = ret.dtype.type(ret / rcount)\n",
      "100%|██████████| 15232/15232 [04:44<00:00, 53.62it/s] \n"
     ]
    },
    {
     "name": "stdout",
     "output_type": "stream",
     "text": [
      "Percentage of docs with parsing errors: 0.019170168067226892\n"
     ]
    },
    {
     "name": "stderr",
     "output_type": "stream",
     "text": [
      " 48%|████▊     | 10778/22557 [00:54<00:54, 215.39it/s]/var/folders/76/70fs0djn7lb2y98w5_hxbtx00000gn/T/ipykernel_71140/3330749255.py:115: RuntimeWarning: divide by zero encountered in divide\n",
      "  norm_y_pos = np.array(svg_y_positions) / svg_height\n",
      "/var/folders/76/70fs0djn7lb2y98w5_hxbtx00000gn/T/ipykernel_71140/3330749255.py:115: RuntimeWarning: invalid value encountered in divide\n",
      "  norm_y_pos = np.array(svg_y_positions) / svg_height\n",
      "/Users/kainylund/opt/anaconda3/envs/arkenv/lib/python3.10/site-packages/numpy/core/_methods.py:180: RuntimeWarning: invalid value encountered in reduce\n",
      "  ret = umr_sum(arr, axis, dtype, out, keepdims, where=where)\n",
      "/Users/kainylund/opt/anaconda3/envs/arkenv/lib/python3.10/site-packages/numpy/core/_methods.py:213: RuntimeWarning: invalid value encountered in reduce\n",
      "  arrmean = umr_sum(arr, axis, dtype, keepdims=True, where=where)\n",
      "/var/folders/76/70fs0djn7lb2y98w5_hxbtx00000gn/T/ipykernel_71140/3330749255.py:156: RuntimeWarning: divide by zero encountered in divide\n",
      "  norm_rect_heights = np.array(svg_rect_heights) / svg_height\n",
      "100%|██████████| 22557/22557 [01:58<00:00, 189.84it/s]\n"
     ]
    },
    {
     "name": "stdout",
     "output_type": "stream",
     "text": [
      "Percentage of docs with parsing errors: 0.0\n"
     ]
    },
    {
     "name": "stderr",
     "output_type": "stream",
     "text": [
      " 99%|█████████▉| 1423/1440 [00:29<00:00, 52.58it/s]/var/folders/76/70fs0djn7lb2y98w5_hxbtx00000gn/T/ipykernel_71140/3330749255.py:114: RuntimeWarning: invalid value encountered in divide\n",
      "  norm_x_pos = np.array(svg_x_positions) / svg_width\n",
      "/Users/kainylund/opt/anaconda3/envs/arkenv/lib/python3.10/site-packages/numpy/core/_methods.py:233: RuntimeWarning: invalid value encountered in subtract\n",
      "  x = asanyarray(arr - arrmean)\n",
      "100%|██████████| 1440/1440 [00:30<00:00, 47.57it/s]\n"
     ]
    },
    {
     "name": "stdout",
     "output_type": "stream",
     "text": [
      "Percentage of docs with parsing errors: 0.5625\n"
     ]
    },
    {
     "name": "stderr",
     "output_type": "stream",
     "text": [
      "100%|██████████| 2733/2733 [00:11<00:00, 241.92it/s]"
     ]
    },
    {
     "name": "stdout",
     "output_type": "stream",
     "text": [
      "Percentage of docs with parsing errors: 0.0761068422978412\n"
     ]
    },
    {
     "name": "stderr",
     "output_type": "stream",
     "text": [
      "\n"
     ]
    }
   ],
   "source": [
    "data_dirs = [\"./svg_datasets/plotly_export\", \"./svg_datasets/chartblocks\", \"./svg_datasets/d3_clean\", \"./svg_datasets/graphiq_clean\"]\n",
    "#[\"./svg_datasets/plotly_export\", \"./svg_datasets/chartblocks\", \"./svg_datasets/d3_clean\", \"./svg_datasets/graphiq_clean\"]\n",
    "X = []\n",
    "y = []\n",
    "for charts_dir in data_dirs:\n",
    "    labels_path = f\"{charts_dir}/urls.txt\"\n",
    "    id_to_label = {}\n",
    "\n",
    "    with open(labels_path) as labels_file:\n",
    "        for label_line in labels_file.readlines():\n",
    "            label_split = label_line.split(\" \")\n",
    "            sample_id = label_split[0]\n",
    "            sample_label = label_split[2].split(\",\")[0]\n",
    "            if \"plotly\" in charts_dir:\n",
    "                id_to_label[sample_id] = chart_type_to_id[sample_label.replace(\"\\n\", \"\")]\n",
    "            else:\n",
    "                id_to_label[sample_id] = int(sample_label.replace(\"\\n\", \"\"))\n",
    "\n",
    "    err_count = 0\n",
    "    processed_count = 0\n",
    "    for chart_id, chart_label in tqdm(id_to_label.items()):\n",
    "        svg_path = f\"{charts_dir}/charts/{chart_id}/svg.txt\"\n",
    "        #print(svg_path)\n",
    "        try:\n",
    "            svg_feature_arr, svg_feature_names = extract_svg_features(svg_path)\n",
    "            X.append(svg_feature_arr)\n",
    "            y.append(chart_label)\n",
    "            #processed_count += 1\n",
    "            #if processed_count > 1000:\n",
    "            #    break\n",
    "        except Exception as err:\n",
    "            err_count += 1\n",
    "\n",
    "    print(f\"Percentage of docs with parsing errors: {err_count / len(id_to_label)}\")\n",
    "\n"
   ]
  },
  {
   "cell_type": "code",
   "execution_count": 1,
   "metadata": {},
   "outputs": [
    {
     "ename": "NameError",
     "evalue": "name 'np' is not defined",
     "output_type": "error",
     "traceback": [
      "\u001b[0;31m---------------------------------------------------------------------------\u001b[0m",
      "\u001b[0;31mNameError\u001b[0m                                 Traceback (most recent call last)",
      "Cell \u001b[0;32mIn [1], line 3\u001b[0m\n\u001b[1;32m      1\u001b[0m dev_pct \u001b[38;5;241m=\u001b[39m \u001b[38;5;241m0.1\u001b[39m\n\u001b[1;32m      2\u001b[0m test_pct \u001b[38;5;241m=\u001b[39m \u001b[38;5;241m0.2\u001b[39m\n\u001b[0;32m----> 3\u001b[0m shuffled_idxs \u001b[38;5;241m=\u001b[39m \u001b[43mnp\u001b[49m\u001b[38;5;241m.\u001b[39mrandom\u001b[38;5;241m.\u001b[39mchoice(\u001b[38;5;28mlen\u001b[39m(y), size\u001b[38;5;241m=\u001b[39m\u001b[38;5;28mlen\u001b[39m(y), replace\u001b[38;5;241m=\u001b[39m\u001b[38;5;28;01mFalse\u001b[39;00m)\n\u001b[1;32m      5\u001b[0m num_dev_elements \u001b[38;5;241m=\u001b[39m \u001b[38;5;28mint\u001b[39m(\u001b[38;5;28mlen\u001b[39m(y) \u001b[38;5;241m*\u001b[39m dev_pct)\n\u001b[1;32m      6\u001b[0m num_test_elements \u001b[38;5;241m=\u001b[39m \u001b[38;5;28mint\u001b[39m(\u001b[38;5;28mlen\u001b[39m(y) \u001b[38;5;241m*\u001b[39m test_pct)\n",
      "\u001b[0;31mNameError\u001b[0m: name 'np' is not defined"
     ]
    }
   ],
   "source": [
    "dev_pct = 0.1\n",
    "test_pct = 0.2\n",
    "shuffled_idxs = np.random.choice(len(y), size=len(y), replace=False)\n",
    "\n",
    "num_dev_elements = int(len(y) * dev_pct)\n",
    "num_test_elements = int(len(y) * test_pct)\n",
    "num_train_elements = int(len(y) * (1.0 - dev_pct - test_pct))\n",
    "\n",
    "print(num_dev_elements, num_test_elements, num_train_elements)\n",
    "\n",
    "train_idxs = shuffled_idxs[:num_train_elements]\n",
    "dev_idxs = shuffled_idxs[num_train_elements:(num_train_elements + num_dev_elements)]\n",
    "test_idxs = shuffled_idxs[(num_train_elements + num_dev_elements + 1):]\n",
    "\n",
    "X = np.array(X)\n",
    "X[X > 1e300] = 0.0\n",
    "X[X < -1e300] = 0.0\n",
    "X[np.isnan(X)] = 0.0\n",
    "X_train = X[train_idxs]\n",
    "X_dev = X[dev_idxs]\n",
    "X_test = X[test_idxs]\n",
    "\n",
    "y = np.array(y)\n",
    "y_train = y[train_idxs]\n",
    "y_dev = y[dev_idxs]\n",
    "y_test = y[test_idxs]\n",
    "\n",
    "np.save(\"./svg_datasets/svgs_X_train\", X_train)\n",
    "np.save(\"./svg_datasets/svgs_X_dev\", X_dev)\n",
    "np.save(\"./svg_datasets/svgs_X_test\", X_test)\n",
    "np.save(\"./svg_datasets/svgs_y_train\", y_train)\n",
    "np.save(\"./svg_datasets/svgs_y_dev\", y_dev)\n",
    "np.save(\"./svg_datasets/svgs_y_test\", y_test)"
   ]
  },
  {
   "cell_type": "code",
   "execution_count": 3,
   "metadata": {},
   "outputs": [],
   "source": [
    "X_train = np.load(\"./svg_datasets/svgs_X_train.npy\")\n",
    "X_dev = np.load(\"./svg_datasets/svgs_X_dev.npy\")\n",
    "y_train = np.load(\"./svg_datasets/svgs_y_train.npy\")\n",
    "y_dev = np.load(\"./svg_datasets/svgs_y_dev.npy\")"
   ]
  },
  {
   "cell_type": "code",
   "execution_count": 4,
   "metadata": {},
   "outputs": [
    {
     "name": "stdout",
     "output_type": "stream",
     "text": [
      "196011.0 -280.253164556962\n",
      "117576.0 -inf\n",
      "117576.0 -731.402205882353\n"
     ]
    }
   ],
   "source": [
    "print(np.max(X_train), np.min(X_train))\n",
    "print(np.max(X_dev), np.min(X_dev))\n",
    "\n",
    "X_dev[X_dev < -1e300] = 0.0\n",
    "\n",
    "print(np.max(X_dev), np.min(X_dev))\n",
    "np.save(\"./svg_datasets/svgs_X_dev.npy\", X_dev)"
   ]
  },
  {
   "cell_type": "code",
   "execution_count": 13,
   "metadata": {},
   "outputs": [
    {
     "name": "stderr",
     "output_type": "stream",
     "text": [
      "/Users/kainylund/opt/anaconda3/envs/arkenv/lib/python3.10/site-packages/sklearn/base.py:288: UserWarning: Trying to unpickle estimator StandardScaler from version 1.1.1 when using version 1.2.0. This might lead to breaking code or invalid results. Use at your own risk. For more info please refer to:\n",
      "https://scikit-learn.org/stable/model_persistence.html#security-maintainability-limitations\n",
      "  warnings.warn(\n",
      "/Users/kainylund/opt/anaconda3/envs/arkenv/lib/python3.10/site-packages/sklearn/base.py:288: UserWarning: Trying to unpickle estimator KNeighborsClassifier from version 1.1.1 when using version 1.2.0. This might lead to breaking code or invalid results. Use at your own risk. For more info please refer to:\n",
      "https://scikit-learn.org/stable/model_persistence.html#security-maintainability-limitations\n",
      "  warnings.warn(\n",
      "/Users/kainylund/opt/anaconda3/envs/arkenv/lib/python3.10/site-packages/sklearn/base.py:288: UserWarning: Trying to unpickle estimator Pipeline from version 1.1.1 when using version 1.2.0. This might lead to breaking code or invalid results. Use at your own risk. For more info please refer to:\n",
      "https://scikit-learn.org/stable/model_persistence.html#security-maintainability-limitations\n",
      "  warnings.warn(\n",
      "/Users/kainylund/opt/anaconda3/envs/arkenv/lib/python3.10/site-packages/sklearn/base.py:288: UserWarning: Trying to unpickle estimator StandardScaler from version 1.1.1 when using version 1.2.0. This might lead to breaking code or invalid results. Use at your own risk. For more info please refer to:\n",
      "https://scikit-learn.org/stable/model_persistence.html#security-maintainability-limitations\n",
      "  warnings.warn(\n",
      "/Users/kainylund/opt/anaconda3/envs/arkenv/lib/python3.10/site-packages/sklearn/base.py:288: UserWarning: Trying to unpickle estimator SVC from version 1.1.1 when using version 1.2.0. This might lead to breaking code or invalid results. Use at your own risk. For more info please refer to:\n",
      "https://scikit-learn.org/stable/model_persistence.html#security-maintainability-limitations\n",
      "  warnings.warn(\n",
      "/Users/kainylund/opt/anaconda3/envs/arkenv/lib/python3.10/site-packages/sklearn/base.py:288: UserWarning: Trying to unpickle estimator Pipeline from version 1.1.1 when using version 1.2.0. This might lead to breaking code or invalid results. Use at your own risk. For more info please refer to:\n",
      "https://scikit-learn.org/stable/model_persistence.html#security-maintainability-limitations\n",
      "  warnings.warn(\n",
      "/Users/kainylund/opt/anaconda3/envs/arkenv/lib/python3.10/site-packages/sklearn/base.py:288: UserWarning: Trying to unpickle estimator StandardScaler from version 1.1.1 when using version 1.2.0. This might lead to breaking code or invalid results. Use at your own risk. For more info please refer to:\n",
      "https://scikit-learn.org/stable/model_persistence.html#security-maintainability-limitations\n",
      "  warnings.warn(\n",
      "/Users/kainylund/opt/anaconda3/envs/arkenv/lib/python3.10/site-packages/sklearn/base.py:288: UserWarning: Trying to unpickle estimator SVC from version 1.1.1 when using version 1.2.0. This might lead to breaking code or invalid results. Use at your own risk. For more info please refer to:\n",
      "https://scikit-learn.org/stable/model_persistence.html#security-maintainability-limitations\n",
      "  warnings.warn(\n",
      "/Users/kainylund/opt/anaconda3/envs/arkenv/lib/python3.10/site-packages/sklearn/base.py:288: UserWarning: Trying to unpickle estimator Pipeline from version 1.1.1 when using version 1.2.0. This might lead to breaking code or invalid results. Use at your own risk. For more info please refer to:\n",
      "https://scikit-learn.org/stable/model_persistence.html#security-maintainability-limitations\n",
      "  warnings.warn(\n",
      "/Users/kainylund/opt/anaconda3/envs/arkenv/lib/python3.10/site-packages/sklearn/base.py:288: UserWarning: Trying to unpickle estimator StandardScaler from version 1.1.1 when using version 1.2.0. This might lead to breaking code or invalid results. Use at your own risk. For more info please refer to:\n",
      "https://scikit-learn.org/stable/model_persistence.html#security-maintainability-limitations\n",
      "  warnings.warn(\n",
      "/Users/kainylund/opt/anaconda3/envs/arkenv/lib/python3.10/site-packages/sklearn/base.py:288: UserWarning: Trying to unpickle estimator DecisionTreeClassifier from version 1.1.1 when using version 1.2.0. This might lead to breaking code or invalid results. Use at your own risk. For more info please refer to:\n",
      "https://scikit-learn.org/stable/model_persistence.html#security-maintainability-limitations\n",
      "  warnings.warn(\n",
      "/Users/kainylund/opt/anaconda3/envs/arkenv/lib/python3.10/site-packages/sklearn/base.py:288: UserWarning: Trying to unpickle estimator Pipeline from version 1.1.1 when using version 1.2.0. This might lead to breaking code or invalid results. Use at your own risk. For more info please refer to:\n",
      "https://scikit-learn.org/stable/model_persistence.html#security-maintainability-limitations\n",
      "  warnings.warn(\n"
     ]
    },
    {
     "name": "stdout",
     "output_type": "stream",
     "text": [
      "nearest_neighbors 60 60 60 60\n",
      "linear_SVM 1 1 1 1\n",
      "RBF_SVM 4 4 4 4\n",
      "decision_tree 4 4 4 4\n"
     ]
    },
    {
     "name": "stderr",
     "output_type": "stream",
     "text": [
      "/Users/kainylund/opt/anaconda3/envs/arkenv/lib/python3.10/site-packages/sklearn/base.py:288: UserWarning: Trying to unpickle estimator StandardScaler from version 1.1.1 when using version 1.2.0. This might lead to breaking code or invalid results. Use at your own risk. For more info please refer to:\n",
      "https://scikit-learn.org/stable/model_persistence.html#security-maintainability-limitations\n",
      "  warnings.warn(\n",
      "/Users/kainylund/opt/anaconda3/envs/arkenv/lib/python3.10/site-packages/sklearn/base.py:288: UserWarning: Trying to unpickle estimator DecisionTreeClassifier from version 1.1.1 when using version 1.2.0. This might lead to breaking code or invalid results. Use at your own risk. For more info please refer to:\n",
      "https://scikit-learn.org/stable/model_persistence.html#security-maintainability-limitations\n",
      "  warnings.warn(\n",
      "/Users/kainylund/opt/anaconda3/envs/arkenv/lib/python3.10/site-packages/sklearn/base.py:288: UserWarning: Trying to unpickle estimator RandomForestClassifier from version 1.1.1 when using version 1.2.0. This might lead to breaking code or invalid results. Use at your own risk. For more info please refer to:\n",
      "https://scikit-learn.org/stable/model_persistence.html#security-maintainability-limitations\n",
      "  warnings.warn(\n",
      "/Users/kainylund/opt/anaconda3/envs/arkenv/lib/python3.10/site-packages/sklearn/base.py:288: UserWarning: Trying to unpickle estimator Pipeline from version 1.1.1 when using version 1.2.0. This might lead to breaking code or invalid results. Use at your own risk. For more info please refer to:\n",
      "https://scikit-learn.org/stable/model_persistence.html#security-maintainability-limitations\n",
      "  warnings.warn(\n",
      "/Users/kainylund/opt/anaconda3/envs/arkenv/lib/python3.10/site-packages/sklearn/base.py:288: UserWarning: Trying to unpickle estimator StandardScaler from version 1.1.1 when using version 1.2.0. This might lead to breaking code or invalid results. Use at your own risk. For more info please refer to:\n",
      "https://scikit-learn.org/stable/model_persistence.html#security-maintainability-limitations\n",
      "  warnings.warn(\n",
      "/Users/kainylund/opt/anaconda3/envs/arkenv/lib/python3.10/site-packages/sklearn/base.py:288: UserWarning: Trying to unpickle estimator LabelBinarizer from version 1.1.1 when using version 1.2.0. This might lead to breaking code or invalid results. Use at your own risk. For more info please refer to:\n",
      "https://scikit-learn.org/stable/model_persistence.html#security-maintainability-limitations\n",
      "  warnings.warn(\n",
      "/Users/kainylund/opt/anaconda3/envs/arkenv/lib/python3.10/site-packages/sklearn/base.py:288: UserWarning: Trying to unpickle estimator MLPClassifier from version 1.1.1 when using version 1.2.0. This might lead to breaking code or invalid results. Use at your own risk. For more info please refer to:\n",
      "https://scikit-learn.org/stable/model_persistence.html#security-maintainability-limitations\n",
      "  warnings.warn(\n",
      "/Users/kainylund/opt/anaconda3/envs/arkenv/lib/python3.10/site-packages/sklearn/base.py:288: UserWarning: Trying to unpickle estimator Pipeline from version 1.1.1 when using version 1.2.0. This might lead to breaking code or invalid results. Use at your own risk. For more info please refer to:\n",
      "https://scikit-learn.org/stable/model_persistence.html#security-maintainability-limitations\n",
      "  warnings.warn(\n",
      "/Users/kainylund/opt/anaconda3/envs/arkenv/lib/python3.10/site-packages/sklearn/base.py:288: UserWarning: Trying to unpickle estimator StandardScaler from version 1.1.1 when using version 1.2.0. This might lead to breaking code or invalid results. Use at your own risk. For more info please refer to:\n",
      "https://scikit-learn.org/stable/model_persistence.html#security-maintainability-limitations\n",
      "  warnings.warn(\n",
      "/Users/kainylund/opt/anaconda3/envs/arkenv/lib/python3.10/site-packages/sklearn/base.py:288: UserWarning: Trying to unpickle estimator DecisionTreeClassifier from version 1.1.1 when using version 1.2.0. This might lead to breaking code or invalid results. Use at your own risk. For more info please refer to:\n",
      "https://scikit-learn.org/stable/model_persistence.html#security-maintainability-limitations\n",
      "  warnings.warn(\n",
      "/Users/kainylund/opt/anaconda3/envs/arkenv/lib/python3.10/site-packages/sklearn/base.py:288: UserWarning: Trying to unpickle estimator AdaBoostClassifier from version 1.1.1 when using version 1.2.0. This might lead to breaking code or invalid results. Use at your own risk. For more info please refer to:\n",
      "https://scikit-learn.org/stable/model_persistence.html#security-maintainability-limitations\n",
      "  warnings.warn(\n",
      "/Users/kainylund/opt/anaconda3/envs/arkenv/lib/python3.10/site-packages/sklearn/base.py:288: UserWarning: Trying to unpickle estimator Pipeline from version 1.1.1 when using version 1.2.0. This might lead to breaking code or invalid results. Use at your own risk. For more info please refer to:\n",
      "https://scikit-learn.org/stable/model_persistence.html#security-maintainability-limitations\n",
      "  warnings.warn(\n",
      "/Users/kainylund/opt/anaconda3/envs/arkenv/lib/python3.10/site-packages/sklearn/base.py:288: UserWarning: Trying to unpickle estimator StandardScaler from version 1.1.1 when using version 1.2.0. This might lead to breaking code or invalid results. Use at your own risk. For more info please refer to:\n",
      "https://scikit-learn.org/stable/model_persistence.html#security-maintainability-limitations\n",
      "  warnings.warn(\n",
      "/Users/kainylund/opt/anaconda3/envs/arkenv/lib/python3.10/site-packages/sklearn/base.py:288: UserWarning: Trying to unpickle estimator GaussianNB from version 1.1.1 when using version 1.2.0. This might lead to breaking code or invalid results. Use at your own risk. For more info please refer to:\n",
      "https://scikit-learn.org/stable/model_persistence.html#security-maintainability-limitations\n",
      "  warnings.warn(\n",
      "/Users/kainylund/opt/anaconda3/envs/arkenv/lib/python3.10/site-packages/sklearn/base.py:288: UserWarning: Trying to unpickle estimator Pipeline from version 1.1.1 when using version 1.2.0. This might lead to breaking code or invalid results. Use at your own risk. For more info please refer to:\n",
      "https://scikit-learn.org/stable/model_persistence.html#security-maintainability-limitations\n",
      "  warnings.warn(\n"
     ]
    },
    {
     "name": "stdout",
     "output_type": "stream",
     "text": [
      "random_forest 1 1 1 1\n",
      "neural_net 60 60 60 60\n",
      "adaBoost 1 1 1 1\n",
      "naive_bayes 60 60 60 60\n"
     ]
    }
   ],
   "source": [
    "cls_names = [\n",
    "    \"nearest_neighbors\",\n",
    "    \"linear_SVM\",\n",
    "    \"RBF_SVM\",\n",
    "    \"decision_tree\",\n",
    "    \"random_forest\",\n",
    "    \"neural_net\",\n",
    "    \"adaBoost\",\n",
    "    \"naive_bayes\"\n",
    "]\n",
    "\n",
    "for name in cls_names:\n",
    "    with open(f\"./classifiers/{name}_svg_classifier.pkl\", 'rb') as cls_file:\n",
    "        svg_cls = pickle.load(cls_file)\n",
    "\n",
    "    line_features, _ = extract_svg_features(\"./test_bikes.svg\", return_dict=False)\n",
    "    bar_features, _ = extract_svg_features(\"./test_bars.svg\", return_dict=False)\n",
    "    scatter_features, _ = extract_svg_features(\"./test_scatter.svg\", return_dict=False)\n",
    "    heatmap_features, _ = extract_svg_features(\"./test_heatmap.svg\", return_dict=False)\n",
    "    line_pred = svg_cls.predict([line_features])[0]\n",
    "    bar_pred = svg_cls.predict([bar_features])[0]\n",
    "    scatter_pred = svg_cls.predict([scatter_features])[0]\n",
    "    heatmap_pred = svg_cls.predict([heatmap_features])[0]\n",
    "    print(name, line_pred, bar_pred, scatter_pred, heatmap_pred)"
   ]
  },
  {
   "cell_type": "code",
   "execution_count": 30,
   "metadata": {},
   "outputs": [
    {
     "name": "stderr",
     "output_type": "stream",
     "text": [
      "  0%|          | 0/15232 [00:00<?, ?it/s]\n"
     ]
    },
    {
     "name": "stdout",
     "output_type": "stream",
     "text": [
      "./svg_datasets/plotly_export/images/975.png\n",
      "./svg_datasets/plotly_export 0 0\n"
     ]
    },
    {
     "name": "stderr",
     "output_type": "stream",
     "text": [
      "  0%|          | 0/22557 [00:00<?, ?it/s]"
     ]
    },
    {
     "name": "stdout",
     "output_type": "stream",
     "text": [
      "./svg_datasets/chartblocks/images/0d1d7395-9a09-4f97-bc2a-2248dd6aa4ab.png\n"
     ]
    },
    {
     "data": {
      "text/plain": [
       "<Figure size 640x480 with 0 Axes>"
      ]
     },
     "metadata": {},
     "output_type": "display_data"
    },
    {
     "name": "stderr",
     "output_type": "stream",
     "text": [
      "  0%|          | 0/22557 [00:00<?, ?it/s]\n"
     ]
    },
    {
     "name": "stdout",
     "output_type": "stream",
     "text": [
      "./svg_datasets/chartblocks 0 0\n"
     ]
    },
    {
     "name": "stderr",
     "output_type": "stream",
     "text": [
      "  0%|          | 0/1440 [00:00<?, ?it/s]"
     ]
    },
    {
     "name": "stdout",
     "output_type": "stream",
     "text": [
      "./svg_datasets/d3_clean/images/1033.png\n"
     ]
    },
    {
     "data": {
      "text/plain": [
       "<Figure size 640x480 with 0 Axes>"
      ]
     },
     "metadata": {},
     "output_type": "display_data"
    },
    {
     "name": "stderr",
     "output_type": "stream",
     "text": [
      "  0%|          | 0/1440 [00:00<?, ?it/s]\n"
     ]
    },
    {
     "name": "stdout",
     "output_type": "stream",
     "text": [
      "./svg_datasets/d3_clean 0 0\n"
     ]
    },
    {
     "name": "stderr",
     "output_type": "stream",
     "text": [
      "  0%|          | 0/2733 [00:00<?, ?it/s]"
     ]
    },
    {
     "name": "stdout",
     "output_type": "stream",
     "text": [
      "./svg_datasets/graphiq_clean/images/6621dda0-9002-4c68-8861-f0c0ec061c76.png\n"
     ]
    },
    {
     "data": {
      "text/plain": [
       "<Figure size 640x480 with 0 Axes>"
      ]
     },
     "metadata": {},
     "output_type": "display_data"
    },
    {
     "name": "stderr",
     "output_type": "stream",
     "text": [
      "  0%|          | 0/2733 [00:00<?, ?it/s]"
     ]
    },
    {
     "name": "stdout",
     "output_type": "stream",
     "text": [
      "./svg_datasets/graphiq_clean 0 0\n"
     ]
    },
    {
     "name": "stderr",
     "output_type": "stream",
     "text": [
      "\n"
     ]
    },
    {
     "data": {
      "text/plain": [
       "<Figure size 640x480 with 0 Axes>"
      ]
     },
     "metadata": {},
     "output_type": "display_data"
    }
   ],
   "source": [
    "data_dirs = [\"./svg_datasets/plotly_export\", \"./svg_datasets/chartblocks\", \"./svg_datasets/d3_clean\", \"./svg_datasets/graphiq_clean\"]\n",
    "#[\"./svg_datasets/plotly_export\", \"./svg_datasets/chartblocks\", \"./svg_datasets/d3_clean\", \"./svg_datasets/graphiq_clean\"]\n",
    "X = []\n",
    "y = []\n",
    "for charts_dir in data_dirs:\n",
    "    labels_path = f\"{charts_dir}/urls.txt\"\n",
    "    id_to_label = {}\n",
    "\n",
    "    with open(labels_path) as labels_file:\n",
    "        for label_line in labels_file.readlines():\n",
    "            label_split = label_line.split(\" \")\n",
    "            sample_id = label_split[0]\n",
    "            sample_label = label_split[2].split(\",\")[0]\n",
    "            if \"plotly\" in charts_dir:\n",
    "                id_to_label[sample_id] = chart_type_to_id[sample_label.replace(\"\\n\", \"\")]\n",
    "            else:\n",
    "                id_to_label[sample_id] = int(sample_label.replace(\"\\n\", \"\"))\n",
    "\n",
    "\n",
    "    err_count = 0\n",
    "    processed_count = 0\n",
    "    for chart_id, chart_label in tqdm(id_to_label.items()):\n",
    "        #svg_path = f\"{charts_dir}/charts/{chart_id}/svg.txt\"\n",
    "        svg_path = f\"{charts_dir}/images/{chart_id}.png\"\n",
    "        #print(svg_path)\n",
    "        try:\n",
    "            #with open(svg_path, 'r') as f:\n",
    "            #    svg_text = f.read()\n",
    "\n",
    "            #svg_data = BeautifulSoup(svg_text, \"xml\")\n",
    "            #svg_data = np.array(PIL.Image.open(svg_path))\n",
    "            print(svg_path)\n",
    "            plt.imread(svg_path)\n",
    "            plt.show()\n",
    "            plt.gcf().savefig(\"./test.svg\")\n",
    "            break\n",
    "            processed_count += 1\n",
    "\n",
    "        except Exception as err:\n",
    "            raise (err)\n",
    "            break\n",
    "            err_count += 1\n",
    "\n",
    "    print(charts_dir, processed_count, err_count)"
   ]
  },
  {
   "cell_type": "code",
   "execution_count": 41,
   "metadata": {},
   "outputs": [
    {
     "data": {
      "text/plain": [
       "<Figure size 640x480 with 0 Axes>"
      ]
     },
     "metadata": {},
     "output_type": "display_data"
    }
   ],
   "source": [
    "plt.imread(\"./svg_datasets/d3_clean/images/15.png\")\n",
    "plt.show()\n",
    "plt.gcf().savefig(\"./test_weird2.svg\")"
   ]
  },
  {
   "cell_type": "code",
   "execution_count": 38,
   "metadata": {},
   "outputs": [
    {
     "ename": "UnidentifiedImageError",
     "evalue": "cannot identify image file './test_weird.svg'",
     "output_type": "error",
     "traceback": [
      "\u001b[0;31m---------------------------------------------------------------------------\u001b[0m",
      "\u001b[0;31mUnidentifiedImageError\u001b[0m                    Traceback (most recent call last)",
      "Cell \u001b[0;32mIn [38], line 1\u001b[0m\n\u001b[0;32m----> 1\u001b[0m \u001b[43mplt\u001b[49m\u001b[38;5;241;43m.\u001b[39;49m\u001b[43mimread\u001b[49m\u001b[43m(\u001b[49m\u001b[38;5;124;43m\"\u001b[39;49m\u001b[38;5;124;43m./test_weird.svg\u001b[39;49m\u001b[38;5;124;43m\"\u001b[39;49m\u001b[43m)\u001b[49m\n",
      "File \u001b[0;32m~/opt/anaconda3/envs/arkenv/lib/python3.10/site-packages/matplotlib/pyplot.py:2158\u001b[0m, in \u001b[0;36mimread\u001b[0;34m(fname, format)\u001b[0m\n\u001b[1;32m   2156\u001b[0m \u001b[38;5;129m@_copy_docstring_and_deprecators\u001b[39m(matplotlib\u001b[38;5;241m.\u001b[39mimage\u001b[38;5;241m.\u001b[39mimread)\n\u001b[1;32m   2157\u001b[0m \u001b[38;5;28;01mdef\u001b[39;00m \u001b[38;5;21mimread\u001b[39m(fname, \u001b[38;5;28mformat\u001b[39m\u001b[38;5;241m=\u001b[39m\u001b[38;5;28;01mNone\u001b[39;00m):\n\u001b[0;32m-> 2158\u001b[0m     \u001b[38;5;28;01mreturn\u001b[39;00m \u001b[43mmatplotlib\u001b[49m\u001b[38;5;241;43m.\u001b[39;49m\u001b[43mimage\u001b[49m\u001b[38;5;241;43m.\u001b[39;49m\u001b[43mimread\u001b[49m\u001b[43m(\u001b[49m\u001b[43mfname\u001b[49m\u001b[43m,\u001b[49m\u001b[43m \u001b[49m\u001b[38;5;28;43mformat\u001b[39;49m\u001b[43m)\u001b[49m\n",
      "File \u001b[0;32m~/opt/anaconda3/envs/arkenv/lib/python3.10/site-packages/matplotlib/image.py:1560\u001b[0m, in \u001b[0;36mimread\u001b[0;34m(fname, format)\u001b[0m\n\u001b[1;32m   1558\u001b[0m                 response \u001b[38;5;241m=\u001b[39m io\u001b[38;5;241m.\u001b[39mBytesIO(response\u001b[38;5;241m.\u001b[39mread())\n\u001b[1;32m   1559\u001b[0m             \u001b[38;5;28;01mreturn\u001b[39;00m imread(response, \u001b[38;5;28mformat\u001b[39m\u001b[38;5;241m=\u001b[39mext)\n\u001b[0;32m-> 1560\u001b[0m \u001b[38;5;28;01mwith\u001b[39;00m \u001b[43mimg_open\u001b[49m\u001b[43m(\u001b[49m\u001b[43mfname\u001b[49m\u001b[43m)\u001b[49m \u001b[38;5;28;01mas\u001b[39;00m image:\n\u001b[1;32m   1561\u001b[0m     \u001b[38;5;28;01mreturn\u001b[39;00m (_pil_png_to_float_array(image)\n\u001b[1;32m   1562\u001b[0m             \u001b[38;5;28;01mif\u001b[39;00m \u001b[38;5;28misinstance\u001b[39m(image, PIL\u001b[38;5;241m.\u001b[39mPngImagePlugin\u001b[38;5;241m.\u001b[39mPngImageFile) \u001b[38;5;28;01melse\u001b[39;00m\n\u001b[1;32m   1563\u001b[0m             pil_to_array(image))\n",
      "File \u001b[0;32m~/opt/anaconda3/envs/arkenv/lib/python3.10/site-packages/PIL/Image.py:3147\u001b[0m, in \u001b[0;36mopen\u001b[0;34m(fp, mode, formats)\u001b[0m\n\u001b[1;32m   3145\u001b[0m \u001b[38;5;28;01mfor\u001b[39;00m message \u001b[38;5;129;01min\u001b[39;00m accept_warnings:\n\u001b[1;32m   3146\u001b[0m     warnings\u001b[38;5;241m.\u001b[39mwarn(message)\n\u001b[0;32m-> 3147\u001b[0m \u001b[38;5;28;01mraise\u001b[39;00m UnidentifiedImageError(\n\u001b[1;32m   3148\u001b[0m     \u001b[38;5;124m\"\u001b[39m\u001b[38;5;124mcannot identify image file \u001b[39m\u001b[38;5;132;01m%r\u001b[39;00m\u001b[38;5;124m\"\u001b[39m \u001b[38;5;241m%\u001b[39m (filename \u001b[38;5;28;01mif\u001b[39;00m filename \u001b[38;5;28;01melse\u001b[39;00m fp)\n\u001b[1;32m   3149\u001b[0m )\n",
      "\u001b[0;31mUnidentifiedImageError\u001b[0m: cannot identify image file './test_weird.svg'"
     ]
    }
   ],
   "source": [
    "plt.imread(\"./test_weird.svg\")"
   ]
  },
  {
   "cell_type": "code",
   "execution_count": 48,
   "metadata": {},
   "outputs": [],
   "source": [
    "import vtracer\n",
    "\n",
    "input_path = \"./example_imgs/lines.png\"\n",
    "output_path = \"./example_imgs/lines.svg\"\n",
    "\n",
    "# Minimal example: use all default values, generate a multicolor SVG\n",
    "#vtracer.convert_image_to_svg_py(input_path, output_path)\n",
    "\n",
    "# Single-color example. Good for line art, and much faster than full color:\n",
    "#vtracer.convert_image_to_svg_py(input_path, output_path, colormode='binary')\n",
    "\n",
    "# All the bells & whistles\n",
    "vtracer.convert_image_to_svg_py(input_path,\n",
    "                                output_path,\n",
    "                                colormode = 'color',        # [\"color\"] or \"binary\"\n",
    "                                hierarchical = 'stacked',   # [\"stacked\"] or \"cutout\"\n",
    "                                mode = 'spline',            # [\"spline\"] \"polygon\", or \"none\"\n",
    "                                filter_speckle = 0,         # default: 4\n",
    "                                color_precision = 6,        # default: 6\n",
    "                                layer_difference = 16,      # default: 16\n",
    "                                corner_threshold = 60,      # default: 60\n",
    "                                length_threshold = 10.0,     # in [3.5, 10] default: 4.0\n",
    "                                max_iterations = 100,        # default: 10\n",
    "                                splice_threshold = 45,      # default: 45\n",
    "                                path_precision = 20          # default: 8\n",
    "                                )"
   ]
  }
 ],
 "metadata": {
  "kernelspec": {
   "display_name": "arkenv",
   "language": "python",
   "name": "python3"
  },
  "language_info": {
   "codemirror_mode": {
    "name": "ipython",
    "version": 3
   },
   "file_extension": ".py",
   "mimetype": "text/x-python",
   "name": "python",
   "nbconvert_exporter": "python",
   "pygments_lexer": "ipython3",
   "version": "3.10.8"
  }
 },
 "nbformat": 4,
 "nbformat_minor": 2
}
