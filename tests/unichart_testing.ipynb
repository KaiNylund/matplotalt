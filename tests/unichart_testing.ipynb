{
 "cells": [
  {
   "cell_type": "code",
   "execution_count": 1,
   "metadata": {},
   "outputs": [
    {
     "name": "stderr",
     "output_type": "stream",
     "text": [
      "/Users/kainylund/opt/anaconda3/envs/arkenv/lib/python3.10/site-packages/tqdm/auto.py:22: TqdmWarning: IProgress not found. Please update jupyter and ipywidgets. See https://ipywidgets.readthedocs.io/en/stable/user_install.html\n",
      "  from .autonotebook import tqdm as notebook_tqdm\n"
     ]
    }
   ],
   "source": [
    "from transformers import DonutProcessor, AutoModel, VisionEncoderDecoderModel, AutoConfig, AutoProcessor\n",
    "from PIL import Image\n",
    "import torch, os, re\n",
    "from pprint import pprint\n",
    "\n",
    "\n",
    "# Generation code from https://github.com/vis-nlp/UniChart\n",
    "model_name = \"ahmed-masry/unichart-chart2text-statista-960\" #\"ahmed-masry/unichart-base-960\"\n",
    "\n",
    "base_model = VisionEncoderDecoderModel.from_pretrained(\"ahmed-masry/unichart-base-960\")\n",
    "base_processor = AutoProcessor.from_pretrained(\"ahmed-masry/unichart-base-960\")\n",
    "\n",
    "statista_model = VisionEncoderDecoderModel.from_pretrained(\"ahmed-masry/unichart-chart2text-statista-960\" )\n",
    "statista_processor = AutoProcessor.from_pretrained(\"ahmed-masry/unichart-chart2text-statista-960\" )\n",
    "\n",
    "pew_model = VisionEncoderDecoderModel.from_pretrained(\"ahmed-masry/unichart-chart2text-pew-960\" )\n",
    "pew_processor = AutoProcessor.from_pretrained(\"ahmed-masry/unichart-chart2text-pew-960\" )\n",
    "device = torch.device(\"cuda\" if torch.cuda.is_available() else \"cpu\")\n",
    "\n",
    "def generate_summary(image_path, model, processor, input_prompt=\"<summarize_chart> <s_answer>\"):\n",
    "    model.to(device)\n",
    "    image = Image.open(image_path).convert(\"RGB\")\n",
    "    decoder_input_ids = processor.tokenizer(input_prompt, add_special_tokens=False, return_tensors=\"pt\").input_ids\n",
    "    pixel_values = processor(image, return_tensors=\"pt\").pixel_values\n",
    "\n",
    "    outputs = model.generate(\n",
    "        pixel_values.to(device),\n",
    "        decoder_input_ids=decoder_input_ids.to(device),\n",
    "        max_length=model.decoder.config.max_position_embeddings,\n",
    "        early_stopping=True,\n",
    "        pad_token_id=processor.tokenizer.pad_token_id,\n",
    "        eos_token_id=processor.tokenizer.eos_token_id,\n",
    "        use_cache=True,\n",
    "        num_beams=4,\n",
    "        bad_words_ids=[[processor.tokenizer.unk_token_id]],\n",
    "        return_dict_in_generate=True,\n",
    "    )\n",
    "    sequence = processor.batch_decode(outputs.sequences)[0]\n",
    "    sequence = sequence.replace(processor.tokenizer.eos_token, \"\").replace(processor.tokenizer.pad_token, \"\")\n",
    "    sequence = sequence.split(\"<s_answer>\")[1].strip()\n",
    "    pprint(sequence)"
   ]
  },
  {
   "cell_type": "code",
   "execution_count": 12,
   "metadata": {},
   "outputs": [
    {
     "name": "stdout",
     "output_type": "stream",
     "text": [
      "('The chart shows the average monthly hours of sunshine in Seattle vs. Number '\n",
      " 'of Bikes that Cross Fremont Bridge for the months of January, March, May, '\n",
      " 'July, September, and November. The chart indicates that the average monthly '\n",
      " 'hours of sunshine in Seattle vs. Number of Bikes in July were significantly '\n",
      " 'lower than the average hours of sunshine for the months of January, March, '\n",
      " 'May, July, September, and November. The data suggests that the average '\n",
      " 'monthly hours of sunshine in Seattle vs. Number of Bikes were significantly '\n",
      " 'lower than the average hours of sunshine for the months of July.')\n",
      "('The short-time presents data on September 4, 2013, shows the average monthly '\n",
      " 'hours of sunshine in Seattle vs. Member of the Sunshine Coast. The average '\n",
      " 'monthly hours of sunshine in July was 39.52 hours, which was the highest '\n",
      " 'monthly average hour of sunshine. The data is calculated by Statista based '\n",
      " \"on the ASTA Research Project's history, published by Statista. The monthly \"\n",
      " 'hours of sunshine in Seattle vs. The Cinematic Universe project contains a '\n",
      " 'total of 165.55 hours of sunshine in July. The short-day average for Seattle '\n",
      " \"vs. The Cross named `` The First World War '' published an average of 37.04 \"\n",
      " 'hours in July. The Summer Olympic Games are based on the morning of July 29, '\n",
      " 'with an average of 39.52 hours of sunshine in May. The summer holidays are '\n",
      " 'based on the morning of January, with an average of 35.08 hours of service '\n",
      " 'available in July. The monthly average can be found here.')\n",
      "('The average monthly hours of consumption in Seattle were down by shorter or '\n",
      " 'more, but a larger percentage drop of points since the beginning of the '\n",
      " '1960s and early so far than after the fall of the 2000s. But for the first '\n",
      " 'two months of September, the average monthly hours of consumption in Seattle '\n",
      " 'by more than 20 points rose to an average of 234 billion, declining by 8% '\n",
      " 'from the beginning of 2004 (ages 25) to the end of World War II. But they '\n",
      " 'are much larger than the year before the onset of the Great Recession, a '\n",
      " 'spike in the months after the fall of September.')\n"
     ]
    }
   ],
   "source": [
    "generate_summary(\"./example_imgs/lines.png\", base_model, base_processor)\n",
    "generate_summary(\"./example_imgs/lines.png\", statista_model, statista_processor)\n",
    "generate_summary(\"./example_imgs/lines.png\", pew_model, pew_processor)"
   ]
  },
  {
   "cell_type": "code",
   "execution_count": 3,
   "metadata": {},
   "outputs": [
    {
     "name": "stderr",
     "output_type": "stream",
     "text": [
      "[W NNPACK.cpp:51] Could not initialize NNPACK! Reason: Unsupported hardware.\n"
     ]
    },
    {
     "name": "stdout",
     "output_type": "stream",
     "text": [
      "('The chart shows the average monthly hours of sunshine in Seattle vs. Seattle '\n",
      " 'vs. Surface. The chart reveals that the average monthly hours of sunshine in '\n",
      " 'Seattle vs. Seattle vs. Surface. The chart reveals that the average monthly '\n",
      " 'hours of sunshine in Seattle vs. Seattle vs. Seattle vs. Surface. Surface. '\n",
      " 'The chart reveals that the average monthly hours of sunshine in Seattle vs. '\n",
      " \"Surface for men's Surface for men's Surface visits Surface visits Surface \"\n",
      " 'visits Surface visits Surface visits Surface visits Surfaces Surfaces '\n",
      " 'Surfaces Surfaces Surfaces Surfaces Surfaces Surfaces Surfaces Surfaces '\n",
      " 'Surfaces Surfaces Surfaces Surfaces Surfaces Surfaces Surfaces Surfaces '\n",
      " 'Surfaces Surfaces Surfaces and '\n",
      " 'Surfacesatesatesatesatesatesatesatesatesatesatesatesatesatesatesatesatesatesatesatesatesatesatesatesatesatesatesatesatesatesatesatesatesatesatesatesatesatesatesatesatesatesatesatesatesatesatesatesatesatesatesatesatesatesatesatesatesatesatesatesatesatesatesatesatesatesatesatesatesatesatesatesatesatesatesatesatesatesatesatesatesatesatesatesatesatesatesatesatesatesatesatesatesatesatesatesatesatesatesatesatesatesatesatesatesatesatesatesatesatesatesatesatesatesatesatesatesatesatesatesatesatesatesatesatesatesatesatesatesatesatesatesatesatesatesatesatesatesatesatesatesatesatesatesatesatesatesatesatesatesatesatesatesatesatesatesatesatesatesatesatesatesatesatesatesatesatesatesatesatesatesatesatesatesatesatesatesatesatesatesatesatesatesatesatesatesatesatesatesatesatesatesatesatesatesatesatesatesatesatesatesatesatesatesatesatesatesatesatesatesatesatesatesatesatesatesatesatesatesatesatesatesatesatesatesatesatesatesatesatesatesatesatesatesatesatesatesatesatesatesatesatesatesatesatesatesatesatesatesatesatesatesatesatesatesatesatesatesatesatesatesatesatesatesatesatesatesatesatesatesatesatesatesatesatesatesatesatesatesatesatesatesatesatesatesatesatesatesatesatesatesatesatesatesatesatesatesatesatesatesatesatesatesatesatesatesatesatesatesatesatesatesatesatesatesatesatesatesatesatesatesatesatesatesatesatesatesatesatesatesatesatesatesatesatesatesatesatesatesatesatesatesatesatesatesatesatesatesatesatesatesatesatesatesatesatesates '\n",
      " 'who identi identi identi identi identi identi identi identi identi identi '\n",
      " 'identi identi identi identi identi identi identi identi identi identi identi '\n",
      " 'identi identi identi identics and Scoates and Scoatesates and '\n",
      " 'Scoatesatesates and Scoatesatesatesatesates and '\n",
      " 'Scoatesatesatesatesatesatesatesatesatesatesatesatesatesatesatesates who '\n",
      " 'identics and Scoates and Scoatesatesatesatesatesatesatesatesatesatesates who '\n",
      " 'identi identi identics and '\n",
      " 'Scoatesatesatesatesatesatesatesatesatesatesatesatesatesates who identi '\n",
      " 'identi identify with Scoatesatesatesatesatesatesatesatesates who identify '\n",
      " 'with Scoatesatesatesatesatesatesatesatesates who identify with '\n",
      " 'Scoatesatesatesatesatesatesatesatesatesatesates who identify with '\n",
      " 'Scoatesatesatesatesatesatesatesatesatesatesatesates who identify solely '\n",
      " 'different character character character character character character '\n",
      " 'character character character characters slightly different character '\n",
      " 'characters slightly different character characters slightly different '\n",
      " 'characters slightly different characters slightly different characters their '\n",
      " 'characters. The '\n",
      " 'charatesatesatesatesatesatesatesatesatesatesatesatesatesatesatesatesatesatesatesatesates '\n",
      " 'over time. The '\n",
      " 'charatesatesatesatesatesatesatesatesatesatesatesatesatesatesatesates over '\n",
      " 'time. The '\n",
      " 'charatesatesatesatesatesatesatesatesatesatesatesatesatesatesatesatesatesatesatesates '\n",
      " 'over time. The '\n",
      " 'charatesatesatesatesatesatesatesatesatesatesatesatesatesatesates over time. '\n",
      " 'The charatesatesatesatesatesatesatesatesatesatesatesatesatesatesates over '\n",
      " 'time. The '\n",
      " 'charatesatesatesatesatesatesatesatesatesatesatesatesatesatesatesates over '\n",
      " 'time. The charg corre corre corre corre corre corre corre corre corre corre '\n",
      " 'corre corre corre corre corre corre corre corre corre corre corre corre '\n",
      " 'corre corre corre corre corre corre corre corre corre corre corre corre '\n",
      " 'corre corre corre corre corre corre corre corre corre corre corre corre '\n",
      " 'corre corre corre corre corre corre corre corre corre corre corre corre '\n",
      " 'corre corre corre corre corre corre corre corre corre corre corre corre '\n",
      " 'corre corre corre corre corre corre corre corre corre corre corre corre '\n",
      " 'corre corre corre corre corre corre corre corre corre corre corre corre '\n",
      " 'corre corre corre corre corre corre corre corre corre corre corre corre '\n",
      " 'corre corre corre corre corre corre corre corre corre corre corre corre '\n",
      " 'corre corre corre corre corre corre corre corre corre corre corre corre '\n",
      " 'corre corre corre corre corre corre corre corre corre corre corre corre '\n",
      " 'corre corre corre corre corre corre corre corre corre corre corre corre '\n",
      " 'corre corre corre corre corre corre corre corre corre corre corre corre '\n",
      " 'corre corre corre corre corre corre corre corre corre corre corre corre '\n",
      " 'corre corre corre corre corre corre corre corre corre corre corre corre '\n",
      " 'corre corre corre corre corre corre corre corre corre corre corre corre '\n",
      " 'corre corre corre corre corre corre corre corre corre corre corre corre '\n",
      " 'corre corre corre corre corre corre corre corre corre corre corre corre '\n",
      " 'corre corre corre corre corre corre corre corre corre corre corre corre '\n",
      " 'corre corre corre corre corre corre corre corre corre corre corre corre '\n",
      " 'corre corre corre corre corre corre corre corre corre corre corre corre '\n",
      " 'corre corre corre corre corre corre corre corre corre corre corre corre '\n",
      " 'corre corre corre corre corre corre corre corre corre corre corre corre '\n",
      " 'corre corre corre corre corre corre corre corre corre corre corre corre '\n",
      " 'corre corre corre corre corre corre corre corre corre corre corre corre '\n",
      " 'corre corre corre corre corre corre corre corre corre corre corre corre '\n",
      " 'corre corre corre corre corre corre corre corre corre corre corre corre '\n",
      " 'corre corre corre corre corre corre corre corre corre corre corre corre '\n",
      " 'corre corre corre corre corre corre corre corre corre corre corre corre '\n",
      " 'corre corre corre corre corre corre corre corre corre corre corre corre '\n",
      " 'corre corre corre corre corre corre corre corre corre corre corre corre '\n",
      " 'corre corre corre corre corre corre corre corre corre corre corre corre '\n",
      " 'corre corre corre corre corre corre corre corre corre corre corre corre '\n",
      " 'corre corre corre corre corre corre corre corre corre corre corre corre '\n",
      " 'corre corre corre corre corre corre corre corre corre corre corre corre '\n",
      " 'corre corre corre corre corre corre corre corre corre corre corre corre '\n",
      " 'corre corre corre corre corre corre corre corre corre corre corre corre '\n",
      " 'corre corre corre corre corre corre corre corre corre corre corre corre '\n",
      " 'corre corre corre corre corre corre corre corre corre corre corre corre '\n",
      " 'corre corre corre corre corre corre corre corre corre corre corre corre '\n",
      " 'corre corre corre corre corre corre corre corre corre corre corre corre '\n",
      " 'corre corre corre corre corre corre corre corre corre corre corre corre '\n",
      " 'corre corre corre corre corre corre corre corre corre corre corre corre '\n",
      " 'corre corre corre corre corre corre corre corre corre corre corre corre '\n",
      " 'corre corre corre corre corre corre corre corre corre corre corre corre '\n",
      " 'corre corre corre corre corre corre corre corre corre corre corre corre '\n",
      " 'corre corre corre corre corre corre corre corre corre corre corre corre '\n",
      " 'corre corre corre corre corre corre corre corre corre corre corre corre '\n",
      " 'corre corre corre corre corre corre corre corre corre corre corre corre '\n",
      " 'corre corre corre corre corre corre corre corre corre corre corre corre '\n",
      " 'corre')\n"
     ]
    }
   ],
   "source": [
    "generate_summary(\"../imgs/line_plot_example.png\", base_model, base_processor)"
   ]
  },
  {
   "cell_type": "code",
   "execution_count": 13,
   "metadata": {},
   "outputs": [
    {
     "name": "stdout",
     "output_type": "stream",
     "text": [
      "('The chart shows the points from a 2d Gaussian Distribution in Random '\n",
      " 'Gaussian X from 0.0 to 8. The blue and the organic data shows the points '\n",
      " 'from a 2d Gaussian X from 0.0 to 8. The chart shows that the points from a '\n",
      " '2d Gaussian X decreased from -4.0 to -2.0, while the points from a 2d '\n",
      " 'Gaussian X decreased from -2.0 to -2.0. Overall, the chart shows that the '\n",
      " 'points from a 2d Gaussian X decreased from -4.0 to -2.0, while the points '\n",
      " 'from a 2d Gaussian X decreased from -2.0 to -2.0.')\n"
     ]
    }
   ],
   "source": [
    "generate_summary(\"./example_imgs/scatter.png\", base_model, base_processor)"
   ]
  },
  {
   "cell_type": "code",
   "execution_count": 14,
   "metadata": {},
   "outputs": [
    {
     "name": "stdout",
     "output_type": "stream",
     "text": [
      "(\"The chart displays the number of Anoscombe's quarterbacks in the United \"\n",
      " 'States over a twenty-year period from 2013 to 2015. The number of Anoscombe '\n",
      " 'started at 5.4 in 2013, increased to 5.7 in 2014, then to 5.7 in 2015, and '\n",
      " 'further increased to 6.9 in 2016. The number of Anoscombe then decreased to '\n",
      " '6.4 in 2017, and further decreased to 6.4 in 2018. Therefore, the chart '\n",
      " \"depicts a fluctuating trend of Anoscombe's quarterbacks in the United States \"\n",
      " 'during the twenty-year period, with an overall increasing trend from 2013 to '\n",
      " '2015.')\n"
     ]
    }
   ],
   "source": [
    "generate_summary(\"./example_imgs/line_subplots.png\", base_model, base_processor)"
   ]
  }
 ],
 "metadata": {
  "kernelspec": {
   "display_name": "arkenv",
   "language": "python",
   "name": "python3"
  },
  "language_info": {
   "codemirror_mode": {
    "name": "ipython",
    "version": 3
   },
   "file_extension": ".py",
   "mimetype": "text/x-python",
   "name": "python",
   "nbconvert_exporter": "python",
   "pygments_lexer": "ipython3",
   "version": "3.10.8"
  }
 },
 "nbformat": 4,
 "nbformat_minor": 2
}
